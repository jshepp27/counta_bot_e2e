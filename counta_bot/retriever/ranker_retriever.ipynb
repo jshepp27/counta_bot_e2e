{
 "cells": [
  {
   "cell_type": "code",
   "execution_count": 97,
   "metadata": {},
   "outputs": [
    {
     "name": "stderr",
     "output_type": "stream",
     "text": [
      "INFO:utils.elastic_db:Connecting to http://localhost:9200 \n",
      "INFO:utils.elastic_db:Connected to <Elasticsearch(['http://localhost:9200'])> \n",
      "INFO:utils.elastic_db:Connecting to http://localhost:9200 \n",
      "INFO:utils.elastic_db:Connected to <Elasticsearch(['http://localhost:9200'])> \n"
     ]
    }
   ],
   "source": [
    "# TODOs: Operate DB Class\n",
    "# TODOs: Use SQLite\n",
    "# TODOs: Implement BM25\n",
    "\n",
    "import sys\n",
    "from pathlib import Path\n",
    "sys.path[0] = str(Path(sys.path[0]).parent)\n",
    "\n",
    "from utils.elastic_db import ElasticDB\n",
    "\n",
    "# INIT DB OBJECT\n",
    "PORT = \"http://localhost:9200\"\n",
    "INDEX_NAME = \"news_cc\"\n",
    "\n",
    "news_db = ElasticDB(elastic_port=PORT, elastic_index=INDEX_NAME)\n",
    "wiki_db = ElasticDB(elastic_port=PORT, elastic_index=\"knowledge\")"
   ]
  },
  {
   "cell_type": "code",
   "execution_count": 98,
   "metadata": {},
   "outputs": [],
   "source": [
    "### LOAD DATASETS ###\n",
    "import json\n",
    "\n",
    "data = [json.loads(ln) for ln in open(\"../../data/train_cmv_cleaned.jsonl\")]\n",
    "topics = [json.loads(ln) for ln in open(\"../../data/claim_topics.jsonl\")]\n",
    "\n",
    "ex_retrieval = [json.loads(ln) for ln in open(\"../../data/wiki_doc_retrieved_from_op_train.jsonlist\")]\n",
    "ex_ranked = [json.loads(ln) for ln in open(\"../../data/selected_evidence.jsonl\")]\n",
    "\n",
    "conan = [json.loads(ln) for ln in open(\"../../data/CONAN.json\")]"
   ]
  },
  {
   "cell_type": "code",
   "execution_count": 99,
   "metadata": {},
   "outputs": [
    {
     "data": {
      "text/plain": [
       "3456"
      ]
     },
     "execution_count": 99,
     "metadata": {},
     "output_type": "execute_result"
    }
   ],
   "source": [
    "len(data)"
   ]
  },
  {
   "cell_type": "code",
   "execution_count": 100,
   "metadata": {},
   "outputs": [
    {
     "data": {
      "text/plain": [
       "{'tid': 't3_3ts8rc',\n",
       " 'retrieval_results': [{'retrieved_document_titles': ['ANTIC',\n",
       "    'Chothe Naga',\n",
       "    'Middle-earth wars and battles',\n",
       "    'Nikita Khrushchev',\n",
       "    'H. H. Asquith'],\n",
       "   'query': 'the utter downfall some russian colleagues assistance lazy',\n",
       "   'sentence': 'Some Russian colleagues of mine feel very strongly that ANY amount of assistance from the government results in people not wanting to work , everyone becoming very lazy , and the utter downfall of society . '},\n",
       "  {'retrieved_document_titles': ['Freeloaders (film)',\n",
       "    'Freeloaders (band)',\n",
       "    'Common Development and Distribution License',\n",
       "    'Reactions to Occupy Wall Street',\n",
       "    'The Philisteins'],\n",
       "   'query': 'those few freeloaders the system providing',\n",
       "   'sentence': \"Yes , some people may take advantage of the system , but those few freeloaders should n't prevent us from providing help to other members of society . \"}]}"
      ]
     },
     "execution_count": 100,
     "metadata": {},
     "output_type": "execute_result"
    }
   ],
   "source": [
    "### SAMPLE OUTPUT ###\n",
    "import random\n",
    "\n",
    "# TODOs: Replicate Output, Passage Evidence Retrieval\n",
    "# TODOs: Replicate Output, Passage Ranking\n",
    "\n",
    "_ = random.randint(0, 1000)\n",
    "ranked = ex_ranked[_]\n",
    "retireval = ex_retrieval[_]\n",
    "\n",
    "retireval"
   ]
  },
  {
   "cell_type": "code",
   "execution_count": 101,
   "metadata": {},
   "outputs": [],
   "source": [
    "# TODOs: News Data\n",
    "# TODOs: Ranking\n",
    "# TODOs: Ranking, Cosine\n",
    "# TODOs: Research Evidence Retireval: Context Aware, Neural Retrieval\n",
    "# TODOs: Stance\n",
    "# TODOs: Target ADUs: Premises, Claims, discard non-ADUs, thus reducing noise over retreival \n",
    "\n",
    "# TODOs: Paralellise"
   ]
  },
  {
   "cell_type": "code",
   "execution_count": 103,
   "metadata": {},
   "outputs": [
    {
     "name": "stdout",
     "output_type": "stream",
     "text": [
      "646\n"
     ]
    },
    {
     "data": {
      "text/plain": [
       "('That American society is getting better not worse',\n",
       " 'Many people seem to believe that society is degenerating and that society in general is getting worse. I disagree with this pessimistic view. Since the mids crime has fallen by more than in America. The quality of life is increasing technology is improving and crime is falling. This idea that society is degenerating seems like a myth spurred on by nostalgia.Are there any validity in these claims? !Further Note some people are afraid that technology will and has led to a degeneration of values. Others also believe that technology is making people dumber. I disagree with this as well.')"
      ]
     },
     "execution_count": 103,
     "metadata": {},
     "output_type": "execute_result"
    }
   ],
   "source": [
    "### SUBJECT ARG ###\n",
    "import random\n",
    "import re\n",
    "\n",
    "_ = random.randint(0, 1000)\n",
    "print(_)\n",
    "\n",
    "claim = data[_][\"titles\"]\n",
    "arg = data[_][\"arguments\"]\n",
    "claim, arg"
   ]
  },
  {
   "cell_type": "code",
   "execution_count": 116,
   "metadata": {},
   "outputs": [
    {
     "name": "stdout",
     "output_type": "stream",
     "text": [
      "Many people seem to believe that society is degenerating and that society in general is getting worse.\n"
     ]
    },
    {
     "name": "stderr",
     "output_type": "stream",
     "text": [
      "INFO:elastic_transport.transport:POST http://localhost:9200/news_cc/_search [status:200 duration:0.065s]\n",
      "INFO:elastic_transport.transport:POST http://localhost:9200/news_cc/_search [status:200 duration:0.009s]\n"
     ]
    },
    {
     "name": "stdout",
     "output_type": "stream",
     "text": [
      "Since the mids crime has fallen by more than in America.\n"
     ]
    },
    {
     "name": "stderr",
     "output_type": "stream",
     "text": [
      "INFO:elastic_transport.transport:POST http://localhost:9200/news_cc/_search [status:200 duration:0.070s]\n",
      "INFO:elastic_transport.transport:POST http://localhost:9200/news_cc/_search [status:200 duration:0.005s]\n"
     ]
    },
    {
     "name": "stdout",
     "output_type": "stream",
     "text": [
      "The quality of life is increasing technology is improving and crime is falling.\n"
     ]
    },
    {
     "name": "stderr",
     "output_type": "stream",
     "text": [
      "INFO:elastic_transport.transport:POST http://localhost:9200/news_cc/_search [status:200 duration:0.086s]\n",
      "INFO:elastic_transport.transport:POST http://localhost:9200/news_cc/_search [status:200 duration:0.009s]\n"
     ]
    },
    {
     "name": "stdout",
     "output_type": "stream",
     "text": [
      "This idea that society is degenerating seems like a myth spurred on by nostalgia.Are there any validity in these claims? !Further Note some people are afraid that technology will and has led to a degeneration of values.\n"
     ]
    },
    {
     "name": "stderr",
     "output_type": "stream",
     "text": [
      "INFO:elastic_transport.transport:POST http://localhost:9200/news_cc/_search [status:200 duration:0.059s]\n",
      "INFO:elastic_transport.transport:POST http://localhost:9200/news_cc/_search [status:200 duration:0.004s]\n"
     ]
    },
    {
     "name": "stdout",
     "output_type": "stream",
     "text": [
      "Others also believe that technology is making people dumber.\n"
     ]
    },
    {
     "name": "stderr",
     "output_type": "stream",
     "text": [
      "INFO:elastic_transport.transport:POST http://localhost:9200/news_cc/_search [status:200 duration:0.054s]\n",
      "INFO:elastic_transport.transport:POST http://localhost:9200/news_cc/_search [status:200 duration:0.009s]\n"
     ]
    }
   ],
   "source": [
    "from utils.keyphrase_extraction import extract_keyphrase\n",
    "# from keyphrase_vectorizers import KeyphraseCountVectorizer\n",
    "\n",
    "# def to_sentences(text):\n",
    "#     sents = [i for i in re.split(r'(?<!\\w\\.\\w.)(?<![A-Z][a-z]\\.)(?<=\\.|\\?)\\s', text)]\n",
    "#     return sents\n",
    "\n",
    "\n",
    "# TODOs: Fix Sentence parsing\n",
    "# TODOs: Parameterise Index-DB in use\n",
    "#sentences = [i for i in re.split(r'(?<=[^A-Z].[.?]) +(?=[A-Z])', arg)]\n",
    "sentences = [i for i in re.split(r'(?<=[^A-Z].[.?]) +(?=[A-Z])', arg)]\n",
    "\n",
    "queries = []\n",
    "results = []\n",
    "\n",
    "for sent in sentences:\n",
    "    toks = re.findall(r\"\\w+(?:'\\w+)?|[^\\w\\s]\", sent)\n",
    "    # print(sent)\n",
    "    # print(len(sent))\n",
    "\n",
    "    if len(toks) <= 8:\n",
    "        continue\n",
    "\n",
    "    print(sent)    \n",
    "    kp = extract_keyphrase(sent, n_kp=3)\n",
    "    query = \", \".join(i for i in kp)\n",
    "    \n",
    "    # TODOs: Re-init DB with smaller passage size\n",
    "    titles = [i[\"_source\"][\"document\"][\"title\"] for i in news_db.search(query_=query, k=10)]\n",
    "    evidence = [i[\"_source\"][\"document\"][\"text\"] for i in news_db.search(query_=query, k=10)]\n",
    "\n",
    "    results.append({\n",
    "        \"argument_sentence\": sent, \n",
    "        \"retrieved_documents_titles\": titles,\n",
    "        \"query\": query,\n",
    "        \"retrieved_evidence\": evidence\n",
    "    })"
   ]
  },
  {
   "cell_type": "code",
   "execution_count": 119,
   "metadata": {},
   "outputs": [],
   "source": [
    "### MERGE ###\n",
    "\n",
    "# OUT: A list of counter-evidence articles, merged as a list of sentences, per input argument sentence (ADU)\n",
    "\n",
    "merged = []\n",
    "for counter_ev in results:\n",
    "    sentence = counter_ev[\"argument_sentence\"]\n",
    "    evidence = counter_ev[\"retrieved_evidence\"]\n",
    "    sent_kp = counter_ev[\"query\"]\n",
    "\n",
    "    merged_ev = \", \".join(retrieved for retrieved in evidence)\n",
    "\n",
    "    merged.append((sentence, sent_kp, merged_ev))\n",
    "\n",
    "#merged"
   ]
  },
  {
   "cell_type": "code",
   "execution_count": 120,
   "metadata": {},
   "outputs": [
    {
     "data": {
      "text/plain": [
       "('Many people seem to believe that society is degenerating and that society in general is getting worse.',\n",
       " 'technology, others, people')"
      ]
     },
     "execution_count": 120,
     "metadata": {},
     "output_type": "execute_result"
    }
   ],
   "source": [
    "### PASSAGE RANKING : KEYWORD OVERLAP ###\n",
    "\n",
    "test = merged[0]\n",
    "test\n",
    "sent, kp, merge = test\n",
    "\n",
    "sent, sent_kp"
   ]
  },
  {
   "cell_type": "code",
   "execution_count": 137,
   "metadata": {},
   "outputs": [
    {
     "data": {
      "text/plain": [
       "{'claim': I hate tennis. People should play tennis more often,\n",
       " 'stance': 'CON',\n",
       " 'aspect': tennis}"
      ]
     },
     "execution_count": 137,
     "metadata": {},
     "output_type": "execute_result"
    }
   ],
   "source": [
    "import spacy\n",
    "from spacy.matcher import PhraseMatcher\n",
    "#from negspacy.negation import Negex\n",
    "nlp = spacy.load(\"en_core_web_sm\")\n",
    "#nlp.add_pipe(\"negex\", config={\"ent_types\":[\"NOUN\", \"PERSON\",\"ORG\"]})\n",
    "\n",
    "# TODOs: https://www.cs.uic.edu/~liub/FBS/opinion-mining-final-WSDM.pdf \n",
    "# TODOs: Pattern based Negation\n",
    "# TODOs: Semantic Orientation of an opinion (Claim)\n",
    "# TODOs:Group synonyms of 'features', 'targets'\n",
    "\n",
    "\n",
    "# TODOs: Review Unsuperived Approach; Consider adveanced patterns and common-sence knowledge.\n",
    "phrase_matcher = PhraseMatcher(nlp.vocab)\n",
    "\n",
    "### SENTIMENT LEXICONS ###\n",
    "pos = [w.replace(\"\\n\", \"\") for w in open(\"../../data/lexicon/positive_lex.txt\")]\n",
    "neg = [w.replace(\"\\n\", \"\") for w in open(\"../../data/lexicon/negative_lex.txt\")]\n",
    "\n",
    "def extract_aspect(sentence, n_gram):\n",
    "    aspects = extract_keyphrase(str(sentence))[0]\n",
    "\n",
    "    return nlp(aspects)\n",
    "\n",
    "def index_aspect(aspect, sentence):    \n",
    "    patterns = [nlp(aspect)]\n",
    "    phrase_matcher.add(\"aspects\", None, *patterns)\n",
    "\n",
    "    start = 0\n",
    "    stop = 0\n",
    "\n",
    "    matched_phrases = phrase_matcher(sentence)\n",
    "    for i in matched_phrases:\n",
    "        _, start, stop = i\n",
    "        \n",
    "    return start, stop\n",
    "\n",
    "def stance_score(start, stop, sentence):\n",
    "    pos_score = 0.0\n",
    "    neg_score = 0.0\n",
    "\n",
    "    for idx, tok in enumerate(sentence):\n",
    "        if idx == start or idx == stop - 1:\n",
    "            continue\n",
    "\n",
    "        # TODOs: Implement Polarity Shift\n",
    "        k = 5\n",
    "        # Negation Rules\n",
    "        if tok.dep_ == \"neg\":\n",
    "            if tok.text in pos:\n",
    "                # Shift to Negative\n",
    "                if idx <= k:\n",
    "                    if idx < start: neg_score += 1/(start - idx)\n",
    "                    elif idx > start: neg_score += 1/(idx - stop)**0.5\n",
    "                    else: continue\n",
    "\n",
    "            if str(tok.head.text) in neg:\n",
    "                # Shift to Positive\n",
    "                if idx < start: pos_score += 1/(start - idx)\n",
    "                elif idx > start: pos_score += 1/(idx - stop)**0.5\n",
    "                else: continue\n",
    "\n",
    "        # Aspect Sentement Orientation\n",
    "        if str(tok.text) in pos:\n",
    "            if idx < start: pos_score += 1/(start - idx)\n",
    "            elif idx > start: pos_score += 1/(idx - stop)**0.5\n",
    "            else: continue\n",
    "\n",
    "        if str(tok.text) in neg:\n",
    "            if idx <= start: neg_score += 1/(start - idx)\n",
    "            elif idx >= start: neg_score += 1/(idx - stop)**0.5\n",
    "            else: continue\n",
    "\n",
    "    score = pos_score - neg_score /(pos_score + neg_score + 1)\n",
    "    return score\n",
    "\n",
    "def sentence_stance(sentence, target=None):\n",
    "    sentence = nlp(sentence)\n",
    "\n",
    "    if target == None:\n",
    "        # Extract Aspect\n",
    "        aspect = extract_aspect(sentence, n_gram=3)\n",
    "\n",
    "    elif str(target) in str(sentence):\n",
    "        aspect = nlp(target)\n",
    "    \n",
    "    else:\n",
    "        return None\n",
    "\n",
    "    start, stop = index_aspect(aspect, sentence)\n",
    "    score = stance_score(start, stop, sentence)\n",
    "\n",
    "    # Add Neutral\n",
    "    stance = {\"claim\": sentence, \"stance\": \"PRO\", \"aspect\": aspect} if score > 0 else {\"claim\": sentence, \"stance\": \"CON\", \"aspect\": aspect}\n",
    "    return stance\n",
    "\n",
    "sentence = \"I hate abortion rights. Abortions should be banned.\"\n",
    "sentence_2 = \"I like abortion rights. I belive we should keep them.\"\n",
    "sentence_3 = \"I hate tennis. People should play tennis more often\"\n",
    "\n",
    "sentence_stance(sentence_3, target=\"tennis\")"
   ]
  },
  {
   "cell_type": "code",
   "execution_count": 132,
   "metadata": {},
   "outputs": [
    {
     "data": {
      "text/plain": [
       "27"
      ]
     },
     "execution_count": 132,
     "metadata": {},
     "output_type": "execute_result"
    }
   ],
   "source": [
    "# TODOs: Improve Scoring Function for whole vs partial keyphrase match\n",
    "# from detection.stance_classifier import sentence_stance\n",
    "\n",
    "def overlap_score(evidence_kp, adu_kp):\n",
    "    score = 0\n",
    "    # Split Keyphrase into components, scoring partial units as overlap\n",
    "    for i in evidence_kp:\n",
    "        for j in i.split():\n",
    "            if adu_kp.find(j) != -1: score += 1\n",
    "            \n",
    "            else: continue\n",
    "    \n",
    "    return score\n",
    "\n",
    "# TODOs: Speed-up, Parrelleise, Yield\n",
    "sentence_scores = []\n",
    "for sent, sent_kp, evidence in merged[0:1]:\n",
    "    sent_overlap_score = 0\n",
    "    \n",
    "    evidence_sentences = [i for i in re.split(r'(?<=[^A-Z].[.?]) +(?=[A-Z])', evidence)]\n",
    "\n",
    "    for ev_sent in evidence_sentences:\n",
    "        toks = re.findall(r\"\\w+(?:'\\w+)?|[^\\w\\s]\", ev_sent)\n",
    "\n",
    "        if len(toks) <= 8:\n",
    "            continue\n",
    "        \n",
    "        evidence_kp = extract_keyphrase(ev_sent)\n",
    "        target = extract_keyphrase(ev_sent, n_kp=1)\n",
    "        sent_overlap_score += overlap_score(evidence_kp, sent_kp)\n",
    "        \n",
    "        sentence_scores.append((sent, ev_sent, sent_overlap_score))\n",
    "    \n",
    "sent_overlap_score\n"
   ]
  },
  {
   "cell_type": "code",
   "execution_count": 133,
   "metadata": {},
   "outputs": [
    {
     "data": {
      "text/plain": [
       "('society, many people',\n",
       " [('Many people seem to believe that society is degenerating and that society in general is getting worse.',\n",
       "   'Too many members of our society are still struggling to find a good-paying job or get the health care they need.',\n",
       "   27),\n",
       "  ('Many people seem to believe that society is degenerating and that society in general is getting worse.',\n",
       "   'Too many women, LGBTQ Americans, people of color, and people with disabilities still face inequality and injustice across our society. “Everywhere we look, our most fundamental values are under attack.',\n",
       "   27),\n",
       "  ('Many people seem to believe that society is degenerating and that society in general is getting worse.',\n",
       "   'Too many members of our society are still struggling to find a good-paying job or get the health care they need.',\n",
       "   25),\n",
       "  ('Many people seem to believe that society is degenerating and that society in general is getting worse.',\n",
       "   'Too many women, LGBTQ Americans, people of color, and people with disabilities still face inequality and injustice across our society. “Everywhere we look, our most fundamental values are under attack., Generations of brave Americans – from service members to civil rights activists – have fought to expand the promise of equality for more Americans and move our country forward in its march toward a more perfect union. “As we celebrate our nation’s independence, we recognize that America’s founding promise remains out of reach for too many families.',\n",
       "   25),\n",
       "  ('Many people seem to believe that society is degenerating and that society in general is getting worse.',\n",
       "   'We have buried many people and many facts – and often hope that time will erase their memory.',\n",
       "   23),\n",
       "  ('Many people seem to believe that society is degenerating and that society in general is getting worse.',\n",
       "   'But Resurrection tells me that you cannot kill the truth and bury it.',\n",
       "   23),\n",
       "  ('Many people seem to believe that society is degenerating and that society in general is getting worse.',\n",
       "   'The truth will be free and it alone will set us free. “There is a lot of truth-telling to be undergone by our society – and a lot of alternative facts that need to be debunked., Generations of brave Americans – from service members to civil rights activists – have fought to expand the promise of equality for more Americans and move our country forward in its march toward a more perfect union. “As we celebrate our nation’s independence, we recognize that America’s founding promise remains out of reach for too many families.',\n",
       "   23),\n",
       "  ('Many people seem to believe that society is degenerating and that society in general is getting worse.',\n",
       "   'Many people thought that was a low blow, including the National Multiple Sclerosis Society.',\n",
       "   22),\n",
       "  ('Many people seem to believe that society is degenerating and that society in general is getting worse.',\n",
       "   'The organization released the following statement about the controversial lyrics: None, Cover the truth with the cold rock of silence and people might forget about the ugly truth that scars the face of society.',\n",
       "   22),\n",
       "  ('Many people seem to believe that society is degenerating and that society in general is getting worse.',\n",
       "   'Although the incurable can be managed, many people die from MS-related complications.',\n",
       "   19),\n",
       "  ('Many people seem to believe that society is degenerating and that society in general is getting worse.',\n",
       "   'In fact, these people do not even receive parental love.',\n",
       "   17),\n",
       "  ('Many people seem to believe that society is degenerating and that society in general is getting worse.',\n",
       "   'Even today, children who are transgender are often disowned by their families.',\n",
       "   17),\n",
       "  ('Many people seem to believe that society is degenerating and that society in general is getting worse.',\n",
       "   'This disownment is often the fault of conservative mindset of society., The disease affects the brain, spinal cord, and optic nerves.',\n",
       "   17),\n",
       "  ('Many people seem to believe that society is degenerating and that society in general is getting worse.',\n",
       "   'Many people do not treat them the way they should be treated.',\n",
       "   16),\n",
       "  ('Many people seem to believe that society is degenerating and that society in general is getting worse.',\n",
       "   'So in 1991 the Woolgoolga Orchid Society was born., Where hope growsThe transgender community living in our society faces numerous challenges on a daily basis.',\n",
       "   14),\n",
       "  ('Many people seem to believe that society is degenerating and that society in general is getting worse.',\n",
       "   'Realising just how many people were growing orchids in Woolgoolga, Gordon suggested to his Orchid growing mates they start their own Orchid Society.',\n",
       "   13),\n",
       "  ('Many people seem to believe that society is degenerating and that society in general is getting worse.',\n",
       "   'Along with many other growers from Woolgoolga, Gordon became a member of the Coffs Harbour Orchid Society.',\n",
       "   12),\n",
       "  ('Many people seem to believe that society is degenerating and that society in general is getting worse.',\n",
       "   'The conclusions of many recent sociological researches conducted by people such as Gregory Scott Paul indicate that popular religious belief is caused by dysfunctional societal conditions and does not benefit societies.',\n",
       "   10),\n",
       "  ('Many people seem to believe that society is degenerating and that society in general is getting worse.',\n",
       "   'Many religious believers assume that religion, usually their own brand of religion, benefits society and that without religion people behave badly, society breaks down and there can be no morality without it., The generosity of Gordon saw the Woolgoolga Ambulance Service established and the raising of funds for defibrillators.',\n",
       "   10),\n",
       "  ('Many people seem to believe that society is degenerating and that society in general is getting worse.',\n",
       "   \"Gordon's love of orchid growing was established early in his life with his mother growing Cymbidiums and Cattleyas.\",\n",
       "   10),\n",
       "  ('Many people seem to believe that society is degenerating and that society in general is getting worse.',\n",
       "   \"Arizona Humane SocietyThe Arizona Humane Society has the ability to treat, rescue and offer shelter to animals in disaster zones. (Photo: Courtesy of: Arizona Humane Society)Nearly 6,000 people evacuated from their homes during the largest wildfire in Arizona's history in 2011.\",\n",
       "   9),\n",
       "  ('Many people seem to believe that society is degenerating and that society in general is getting worse.',\n",
       "   'The Wallow fire burned 538,049 acres in the Apache-Sitgreaves National Forests and led to many first responders helping victims, including an agency many Arizonans may not expect., Editor:Re: In awe of our advancements, Jan. 31 letters.',\n",
       "   9),\n",
       "  ('Many people seem to believe that society is degenerating and that society in general is getting worse.',\n",
       "   'We should be very careful about drawing conclusions from correlations between religiosity and societal breakdown, the letter today demonstrates a common misconception that a society is, and would be, better off with religion.',\n",
       "   9),\n",
       "  ('Many people seem to believe that society is degenerating and that society in general is getting worse.',\n",
       "   'Thousands of children have been separated from their parents at our southern border., CLOSE The Arizona Human Society shares tips on how to keep your pets safe and healthy during a disaster situation.',\n",
       "   8),\n",
       "  ('Many people seem to believe that society is degenerating and that society in general is getting worse.',\n",
       "   'Too many members of our society are still struggling to find a good-paying job or get the health care they need.',\n",
       "   7),\n",
       "  ('Many people seem to believe that society is degenerating and that society in general is getting worse.',\n",
       "   'Too many women, LGBTQ Americans, people of color, and people with disabilities still face inequality and injustice across our society. “Everywhere we look, our most fundamental values are under attack.',\n",
       "   7),\n",
       "  ('Many people seem to believe that society is degenerating and that society in general is getting worse.',\n",
       "   'None, “As we celebrate our nation’s independence, we recognize that America’s founding promise remains out of reach for too many families.',\n",
       "   5),\n",
       "  ('Many people seem to believe that society is degenerating and that society in general is getting worse.',\n",
       "   'So in 1991 the Woolgoolga Orchid Society was born.',\n",
       "   4),\n",
       "  ('Many people seem to believe that society is degenerating and that society in general is getting worse.',\n",
       "   \"Keen to help novice growers, Gordon's generosity extended to not only sage advice but he gave away many an orchid plant to encourage anyone who had the slightest interest in orchid growing.\",\n",
       "   4),\n",
       "  ('Many people seem to believe that society is degenerating and that society in general is getting worse.',\n",
       "   'Realising just how many people were growing orchids in Woolgoolga, Gordon suggested to his Orchid growing mates they start their own Orchid Society.',\n",
       "   3),\n",
       "  ('Many people seem to believe that society is degenerating and that society in general is getting worse.',\n",
       "   'Along with many other growers from Woolgoolga, Gordon became a member of the Coffs Harbour Orchid Society.',\n",
       "   2)])"
      ]
     },
     "execution_count": 133,
     "metadata": {},
     "output_type": "execute_result"
    }
   ],
   "source": [
    "### SORTED TUPLES ###\n",
    "sentence_scores\n",
    "sentence_scores.sort(key=lambda y: y[2], reverse=True)\n",
    "\n",
    "sent_kp, sentence_scores"
   ]
  },
  {
   "cell_type": "code",
   "execution_count": 138,
   "metadata": {},
   "outputs": [
    {
     "ename": "ZeroDivisionError",
     "evalue": "float division by zero",
     "output_type": "error",
     "traceback": [
      "\u001b[0;31m---------------------------------------------------------------------------\u001b[0m",
      "\u001b[0;31mZeroDivisionError\u001b[0m                         Traceback (most recent call last)",
      "\u001b[1;32m/Users/joshua.sheppard/PycharmProjects/counta_bot_e2e/counta_bot/retriever/ranker_retriever.ipynb Cell 13\u001b[0m in \u001b[0;36m<cell line: 4>\u001b[0;34m()\u001b[0m\n\u001b[1;32m      <a href='vscode-notebook-cell:/Users/joshua.sheppard/PycharmProjects/counta_bot_e2e/counta_bot/retriever/ranker_retriever.ipynb#X32sZmlsZQ%3D%3D?line=3'>4</a>\u001b[0m \u001b[39mfor\u001b[39;00m i \u001b[39min\u001b[39;00m sentence_scores:\n\u001b[1;32m      <a href='vscode-notebook-cell:/Users/joshua.sheppard/PycharmProjects/counta_bot_e2e/counta_bot/retriever/ranker_retriever.ipynb#X32sZmlsZQ%3D%3D?line=4'>5</a>\u001b[0m     sent, ev, score \u001b[39m=\u001b[39m i\n\u001b[0;32m----> <a href='vscode-notebook-cell:/Users/joshua.sheppard/PycharmProjects/counta_bot_e2e/counta_bot/retriever/ranker_retriever.ipynb#X32sZmlsZQ%3D%3D?line=5'>6</a>\u001b[0m     \u001b[39mif\u001b[39;00m sentence_stance(ev, target\u001b[39m=\u001b[39;49msent_kp) \u001b[39m!=\u001b[39m sentence_stance(sent):\n\u001b[1;32m      <a href='vscode-notebook-cell:/Users/joshua.sheppard/PycharmProjects/counta_bot_e2e/counta_bot/retriever/ranker_retriever.ipynb#X32sZmlsZQ%3D%3D?line=6'>7</a>\u001b[0m         opposing_stance\u001b[39m.\u001b[39mappend(ev)\n\u001b[1;32m      <a href='vscode-notebook-cell:/Users/joshua.sheppard/PycharmProjects/counta_bot_e2e/counta_bot/retriever/ranker_retriever.ipynb#X32sZmlsZQ%3D%3D?line=8'>9</a>\u001b[0m     \u001b[39melse\u001b[39;00m: \u001b[39mcontinue\u001b[39;00m\n",
      "\u001b[1;32m/Users/joshua.sheppard/PycharmProjects/counta_bot_e2e/counta_bot/retriever/ranker_retriever.ipynb Cell 13\u001b[0m in \u001b[0;36msentence_stance\u001b[0;34m(sentence, target)\u001b[0m\n\u001b[1;32m     <a href='vscode-notebook-cell:/Users/joshua.sheppard/PycharmProjects/counta_bot_e2e/counta_bot/retriever/ranker_retriever.ipynb#X32sZmlsZQ%3D%3D?line=81'>82</a>\u001b[0m \u001b[39melse\u001b[39;00m: aspect \u001b[39m=\u001b[39m nlp(target)\n\u001b[1;32m     <a href='vscode-notebook-cell:/Users/joshua.sheppard/PycharmProjects/counta_bot_e2e/counta_bot/retriever/ranker_retriever.ipynb#X32sZmlsZQ%3D%3D?line=83'>84</a>\u001b[0m start, stop \u001b[39m=\u001b[39m index_aspect(aspect, sentence)\n\u001b[0;32m---> <a href='vscode-notebook-cell:/Users/joshua.sheppard/PycharmProjects/counta_bot_e2e/counta_bot/retriever/ranker_retriever.ipynb#X32sZmlsZQ%3D%3D?line=84'>85</a>\u001b[0m score \u001b[39m=\u001b[39m stance_score(start, stop, sentence)\n\u001b[1;32m     <a href='vscode-notebook-cell:/Users/joshua.sheppard/PycharmProjects/counta_bot_e2e/counta_bot/retriever/ranker_retriever.ipynb#X32sZmlsZQ%3D%3D?line=86'>87</a>\u001b[0m \u001b[39m# Add Neutral\u001b[39;00m\n\u001b[1;32m     <a href='vscode-notebook-cell:/Users/joshua.sheppard/PycharmProjects/counta_bot_e2e/counta_bot/retriever/ranker_retriever.ipynb#X32sZmlsZQ%3D%3D?line=87'>88</a>\u001b[0m stance \u001b[39m=\u001b[39m {\u001b[39m\"\u001b[39m\u001b[39mclaim\u001b[39m\u001b[39m\"\u001b[39m: sentence, \u001b[39m\"\u001b[39m\u001b[39mstance\u001b[39m\u001b[39m\"\u001b[39m: \u001b[39m\"\u001b[39m\u001b[39mPRO\u001b[39m\u001b[39m\"\u001b[39m, \u001b[39m\"\u001b[39m\u001b[39maspect\u001b[39m\u001b[39m\"\u001b[39m: aspect} \u001b[39mif\u001b[39;00m score \u001b[39m>\u001b[39m \u001b[39m0\u001b[39m \u001b[39melse\u001b[39;00m {\u001b[39m\"\u001b[39m\u001b[39mclaim\u001b[39m\u001b[39m\"\u001b[39m: sentence, \u001b[39m\"\u001b[39m\u001b[39mstance\u001b[39m\u001b[39m\"\u001b[39m: \u001b[39m\"\u001b[39m\u001b[39mCON\u001b[39m\u001b[39m\"\u001b[39m, \u001b[39m\"\u001b[39m\u001b[39maspect\u001b[39m\u001b[39m\"\u001b[39m: aspect}\n",
      "\u001b[1;32m/Users/joshua.sheppard/PycharmProjects/counta_bot_e2e/counta_bot/retriever/ranker_retriever.ipynb Cell 13\u001b[0m in \u001b[0;36mstance_score\u001b[0;34m(start, stop, sentence)\u001b[0m\n\u001b[1;32m     <a href='vscode-notebook-cell:/Users/joshua.sheppard/PycharmProjects/counta_bot_e2e/counta_bot/retriever/ranker_retriever.ipynb#X32sZmlsZQ%3D%3D?line=66'>67</a>\u001b[0m     \u001b[39mif\u001b[39;00m \u001b[39mstr\u001b[39m(tok\u001b[39m.\u001b[39mtext) \u001b[39min\u001b[39;00m neg:\n\u001b[1;32m     <a href='vscode-notebook-cell:/Users/joshua.sheppard/PycharmProjects/counta_bot_e2e/counta_bot/retriever/ranker_retriever.ipynb#X32sZmlsZQ%3D%3D?line=67'>68</a>\u001b[0m         \u001b[39mif\u001b[39;00m idx \u001b[39m<\u001b[39m\u001b[39m=\u001b[39m start: neg_score \u001b[39m+\u001b[39m\u001b[39m=\u001b[39m \u001b[39m1\u001b[39m\u001b[39m/\u001b[39m(start \u001b[39m-\u001b[39m idx)\n\u001b[0;32m---> <a href='vscode-notebook-cell:/Users/joshua.sheppard/PycharmProjects/counta_bot_e2e/counta_bot/retriever/ranker_retriever.ipynb#X32sZmlsZQ%3D%3D?line=68'>69</a>\u001b[0m         \u001b[39melif\u001b[39;00m idx \u001b[39m>\u001b[39m\u001b[39m=\u001b[39m start: neg_score \u001b[39m+\u001b[39m\u001b[39m=\u001b[39m \u001b[39m1\u001b[39;49m\u001b[39m/\u001b[39;49m(idx \u001b[39m-\u001b[39;49m stop)\u001b[39m*\u001b[39;49m\u001b[39m*\u001b[39;49m\u001b[39m0.5\u001b[39;49m\n\u001b[1;32m     <a href='vscode-notebook-cell:/Users/joshua.sheppard/PycharmProjects/counta_bot_e2e/counta_bot/retriever/ranker_retriever.ipynb#X32sZmlsZQ%3D%3D?line=69'>70</a>\u001b[0m         \u001b[39melif\u001b[39;00m (idx \u001b[39m==\u001b[39m start) \u001b[39mor\u001b[39;00m (idx \u001b[39m==\u001b[39m stop): \u001b[39mcontinue\u001b[39;00m\n\u001b[1;32m     <a href='vscode-notebook-cell:/Users/joshua.sheppard/PycharmProjects/counta_bot_e2e/counta_bot/retriever/ranker_retriever.ipynb#X32sZmlsZQ%3D%3D?line=71'>72</a>\u001b[0m score \u001b[39m=\u001b[39m pos_score \u001b[39m-\u001b[39m neg_score \u001b[39m/\u001b[39m(pos_score \u001b[39m+\u001b[39m neg_score \u001b[39m+\u001b[39m \u001b[39m1\u001b[39m)\n",
      "\u001b[0;31mZeroDivisionError\u001b[0m: float division by zero"
     ]
    }
   ],
   "source": [
    "### ASSERT SAME STANCE ###\n",
    "\n",
    "opposing_stance = []\n",
    "for i in sentence_scores:\n",
    "    sent, ev, score = i\n",
    "    if sentence_stance(ev, target=sent_kp) != sentence_stance(sent):\n",
    "        opposing_stance.append(ev)\n",
    "\n",
    "    else: continue\n"
   ]
  },
  {
   "cell_type": "code",
   "execution_count": 115,
   "metadata": {},
   "outputs": [
    {
     "data": {
      "text/plain": [
       "['The government of Liberia has stated that it has a commitment to providing an inclusive society for people with disabilities.',\n",
       " 'The Second Liberian Civil War caused various types of disability to as many as 800,000 people.',\n",
       " 'Many people in Liberia have congenital conditions, but others become disabled due to birth trauma.']"
      ]
     },
     "execution_count": 115,
     "metadata": {},
     "output_type": "execute_result"
    }
   ],
   "source": [
    "k = 3\n",
    "top_k = opposing_stance[0:k]\n",
    "\n",
    "top_k"
   ]
  },
  {
   "cell_type": "code",
   "execution_count": 96,
   "metadata": {},
   "outputs": [
    {
     "data": {
      "text/plain": [
       "[]"
      ]
     },
     "execution_count": 96,
     "metadata": {},
     "output_type": "execute_result"
    }
   ],
   "source": []
  },
  {
   "cell_type": "code",
   "execution_count": 7,
   "metadata": {},
   "outputs": [],
   "source": [
    "#     pos_score = 0.0\n",
    "#     neg_score = 0.0\n",
    "\n",
    "#     # Pattern Match\n",
    "#     phrase_matcher = PhraseMatcher(nlp.vocab)\n",
    "\n",
    "    # compound_words = []    \n",
    "    # for i in aspects:\n",
    "    #     compound_word = \"\"\n",
    "    #     if i.pos_ in [\"NOUN\", \"PROPN\"]:\n",
    "    #         comps = \"\".join([str(j) for j in i.children if j.dep_ == \"compound\"])\n",
    "    #         if comps:\n",
    "    #             compound_word = comps + \" \" + str(i)\n",
    "    #             compound_words.append(compound_word)\n",
    "\n",
    "    # aspects_ = []\n",
    "    # aspects_.extend(compound_words)\n",
    "    # aspects_.extend(aspects)\n",
    "\n",
    "#     for idx, tok in enumerate(sentence):\n",
    "\n",
    "#         if idx == start or idx == stop - 1:\n",
    "#             continue\n",
    "\n",
    "#         # Polarity Shift\n",
    "#         # NEAR parameter, k\n",
    "#         k = 5\n",
    "#         if tok.dep_ == \"neg\":\n",
    "#             if tok.text in pos:\n",
    "#                 # Shift to Negative\n",
    "#                 if idx <= k:\n",
    "#                     if idx < start: neg_score += 1/(start - idx)\n",
    "#                     else: neg_score += 1/(idx - stop)**0.5\n",
    "        \n",
    "#             if str(tok.head.text) in neg:\n",
    "#                 # Shift to Positive\n",
    "#                 if idx < start: pos_score += 1/(start - idx)\n",
    "#                 else: pos_score += 1/(idx - stop)**0.5\n",
    "\n",
    "#         if str(tok.text) in pos:\n",
    "#             if idx < start: pos_score += 1/(start - idx)\n",
    "#             else: pos_score += 1/(idx - stop)**0.5\n",
    "\n",
    "#         if str(tok.text) in neg:\n",
    "#             if idx < start: neg_score += 1/(start - idx)\n",
    "#             else: neg_score += 1/(idx - stop)**0.5\n",
    "\n",
    "#     result = pos_score - neg_score /(pos_score - neg_score + 1)\n",
    "#     stance = \"\"\n",
    "\n",
    "#     neg_score, pos_score\n",
    "#     stance = {\"claim\": sentence, \"stance\": \"PRO\", \"aspect\": aspect} if result > 0 else {\"claim\": sentence, \"stance\": \"CON\", \"aspect\": aspect}\n",
    "\n",
    "#     return stance\n",
    "\n",
    "# ### TEST STATEMENT ###\n",
    "\n",
    "# id = random.randint(0, 1000)\n",
    "# claim =  nlp(\"I do not believe abortion should be legal\")\n",
    "\n",
    "# print(sentence_stance(claim))\n",
    "\n"
   ]
  },
  {
   "cell_type": "code",
   "execution_count": null,
   "metadata": {},
   "outputs": [],
   "source": [
    "# print(kp)\n",
    "\n",
    "# def count(string, substring):\n",
    "#     n = len(substring)\n",
    "#     cnt = 0\n",
    "#     for i in range(len(string) - n):\n",
    "#         if string[i:i+n] == substring:\n",
    "#             cnt += 1\n",
    "#     return cnt\n",
    "\n",
    "# def hasIntersection(a, b):\n",
    "#         score = 0\n",
    "#         a = set(a) \n",
    "#         b = set(b)\n",
    "#         if a.intersection(b):\n",
    "#             score += 1\n",
    "\n",
    "#         return score\n",
    "\n",
    "# def overlap_score(count_kp):\n",
    "#     score = 0\n",
    "\n",
    "#     for i in count_kp:\n",
    "#         score += count(sent_kps, count_kp)\n",
    "\n",
    "#     return score\n",
    "\n",
    "# scores = []\n",
    "# for sent in merged_sentences:\n",
    "#     if sent:\n",
    "#         # TODOs: Try-Catch, Handel Errors\n",
    "#         kp = [i for i in extract_keyphrase(sent, n_kp=3)]\n",
    "#         scores.append((kp, overlap_score(kp)))\n",
    "\n",
    "# print(sent_kps)\n",
    "# scores"
   ]
  },
  {
   "cell_type": "code",
   "execution_count": 59,
   "metadata": {},
   "outputs": [
    {
     "name": "stdout",
     "output_type": "stream",
     "text": [
      "view, arguments, logic, line\n"
     ]
    }
   ],
   "source": [
    "print(sent_kp)"
   ]
  },
  {
   "cell_type": "code",
   "execution_count": null,
   "metadata": {},
   "outputs": [],
   "source": [
    "### ATTACKING PEMISES ###\n",
    "\n",
    "# from BERT_adu_classifier import predict\n",
    "\n",
    "# premises = []\n",
    "# for sent in sentences:\n",
    "#     prediction = predict(sent)\n",
    "    \n",
    "#     if prediction == \"premise\":\n",
    "#         premises.append(sent)"
   ]
  },
  {
   "cell_type": "code",
   "execution_count": 26,
   "metadata": {},
   "outputs": [
    {
     "name": "stderr",
     "output_type": "stream",
     "text": [
      "INFO:elastic_transport.transport:POST http://localhost:9200/news_cc/_search [status:200 duration:0.367s]\n"
     ]
    },
    {
     "data": {
      "text/plain": [
       "[{'argument_sentence': 'Fuck Islam and Fuck ISIS. We should repatriate all Muslims. They are all a bunch of violent criminals who do not share our values and never will. Without them Britain will be a better, safer place.',\n",
       "  'query': 'fuck isis repatriate muslims',\n",
       "  'retireved_documents': ['‘Assalamu Alaykom:’ peace be upon you',\n",
       "   'How We Got to Here: A Charlottesville Reading List',\n",
       "   'De-radicalization can work for former ISIS fighters',\n",
       "   'How to Get Assyrians to Stay',\n",
       "   'How to Get Christians to Stay']}]"
      ]
     },
     "execution_count": 26,
     "metadata": {},
     "output_type": "execute_result"
    }
   ],
   "source": [
    "# # Argument Level\n",
    "\n",
    "# results = []\n",
    "\n",
    "# _ = 90\n",
    "# hate_ = sample_hate[0][\"conan\"][_][\"hateSpeech\"]\n",
    "\n",
    "# # queries = []\n",
    "# # sentences = re.split(r'(?<!\\w\\.\\w.)(?<![A-Z][a-z]\\.)(?<=\\.|\\?)\\s', hate_)\n",
    "\n",
    "# results = []\n",
    "\n",
    "# # TODOs: Refactor key_BERT as Class for multiple oututs\n",
    "# #kp_ = (exctract_keyphrase(hate_, n_gram=1, n_kp=1), exctract_keyphrase(hate_, n_gram=2, n_kp=1), exctract_keyphrase(hate_, n_gram=3, n_kp=1))\n",
    "\n",
    "# kp_ = (exctract_keyphrase(hate_, n_gram=5, n_kp=1))\n",
    "\n",
    "# query = \" ,\".join(i for i in kp_)\n",
    "# query\n",
    "\n",
    "# res = [i[\"_source\"][\"document\"][\"title\"] for i in news_db.search(query_=query, k=5)]\n",
    "\n",
    "# results.append({\n",
    "#     \"argument_sentence\": hate_, \n",
    "#     \"query\": query, \n",
    "#     \"retireved_documents\": res,\n",
    "\n",
    "# })\n",
    "\n",
    "# results\n"
   ]
  },
  {
   "cell_type": "code",
   "execution_count": 27,
   "metadata": {},
   "outputs": [
    {
     "name": "stderr",
     "output_type": "stream",
     "text": [
      "INFO:elastic_transport.transport:POST http://localhost:9200/knowledge/_search [status:200 duration:0.249s]\n"
     ]
    },
    {
     "data": {
      "text/plain": [
       "[{'argument_sentence': 'Fuck Islam and Fuck ISIS. We should repatriate all Muslims. They are all a bunch of violent criminals who do not share our values and never will. Without them Britain will be a better, safer place.',\n",
       "  'query': 'fuck isis repatriate muslims',\n",
       "  'retireved_documents': ['Refuting ISIS',\n",
       "   'Refuting ISIS',\n",
       "   'Take Off (2017 film)',\n",
       "   'Terrorism in India',\n",
       "   'Tareq Kamleh']}]"
      ]
     },
     "execution_count": 27,
     "metadata": {},
     "output_type": "execute_result"
    }
   ],
   "source": [
    "# results = []\n",
    "# res = [i[\"_source\"][\"document\"][\"title\"] for i in wiki_db.search(query_=query, k=5)]\n",
    "\n",
    "# results.append({\n",
    "#     \"argument_sentence\": hate_, \n",
    "#     \"query\": query, \n",
    "#     \"retireved_documents\": res,\n",
    "\n",
    "# })\n",
    "\n",
    "# results"
   ]
  },
  {
   "cell_type": "code",
   "execution_count": null,
   "metadata": {},
   "outputs": [
    {
     "data": {
      "text/plain": [
       "[{'_index': 'knowledge',\n",
       "  '_id': 'kbZa5YIBRqC1428DaQUk',\n",
       "  '_score': 33.672318,\n",
       "  '_ignored': ['document.text.keyword'],\n",
       "  '_source': {'document': {'id': '3408791',\n",
       "    'source': 'wikipedia',\n",
       "    'title': 'Ruling party',\n",
       "    'text': \"In parliamentary systems, the majority in the legislature also controls the executive branch of government, thus leaving no possibility of opposing parties concurrently occupying the executive and legislative branches of government. In other systems, such as in an American style presidential system, the party of the president does not necessarily also have a legislative majority. A 'ruling party' is also used to describe the party of one-party states, such as the Chinese Communist Party in the People's Republic of China. In his political manifesto 'The Green Book', the late Libyan leader Muammar al-Gaddafi attacked the ability of the ruling party, using it as a basis for his opposition to partisan politics. None\"}}},\n",
       " {'_index': 'knowledge',\n",
       "  '_id': 'JQ3H5YIBRqC1428Dnwum',\n",
       "  '_score': 33.24501,\n",
       "  '_ignored': ['document.text.keyword'],\n",
       "  '_source': {'document': {'id': '8622040',\n",
       "    'source': 'wikipedia',\n",
       "    'title': 'Fusion of powers',\n",
       "    'text': 'Fusion of powers is a feature of some parliamentary forms of government where different branches of government are intermingled, typically the executive and legislative branches. It is contrasted with the separation of powers found in presidential, semi-presidential and dualistic parliamentary forms of government, where the membership of the legislative and executive powers cannot overlap. Fusion of powers exists in many, if not a majority of, parliamentary democracies, and does so by design. However, in all modern democratic polities the judiciary does not possess legislative or executive powers. The system first arose as a result of political evolution in the United Kingdom over many centuries, as the powers of the monarch became constrained by Parliament.'}}},\n",
       " {'_index': 'knowledge',\n",
       "  '_id': 'OUcA5YIBRqC1428D6vvb',\n",
       "  '_score': 32.941406,\n",
       "  '_ignored': ['document.text.keyword'],\n",
       "  '_source': {'document': {'id': '18988566',\n",
       "    'source': 'wikipedia',\n",
       "    'title': 'Student governments in the United States',\n",
       "    'text': 'Structures. Many student governments are structured similarly to the federal government of the United States, consisting of distinct executive, legislative, and judicial branches. These structures often include elements which are not found in the federal government (e.g. legislative veto, programming branches, initiative, recall, referendum). Just like the federal government, these governments have the trappings of a presidential system, with a separation of powers between branches and a presidential veto. This is by far the most common type of structure, and is found in model student government constitutions and by-laws.'}}}]"
      ]
     },
     "execution_count": 10,
     "metadata": {},
     "output_type": "execute_result"
    }
   ],
   "source": [
    "# #queries\n",
    "# query = \"the executive the presidential system legislative branches partisan unproductive\"\n",
    "# res = search_text(wiki_ev, query_=query, k=3)\n",
    "# res"
   ]
  },
  {
   "cell_type": "code",
   "execution_count": null,
   "metadata": {},
   "outputs": [
    {
     "name": "stdout",
     "output_type": "stream",
     "text": [
      "Ruling party, Fusion of powers, Student governments in the United States\n"
     ]
    }
   ],
   "source": [
    "# import re\n",
    "\n",
    "# print(\", \".join(re.sub(r'\\[\\[(?:[^|\\]]*\\|)?([^\\]]*)]]', \"\", i[\"_source\"][\"document\"][\"title\"]).strip(\"[]\") for i in res))"
   ]
  },
  {
   "cell_type": "code",
   "execution_count": null,
   "metadata": {},
   "outputs": [],
   "source": [
    "# ### TEST SEARCH ###\n",
    "\n",
    "# def search_text(es, query_, k=5):\n",
    "#     results = es.search(\n",
    "#         index = es.elastic_index,\n",
    "#         query = {\n",
    "#             \"match\": {\n",
    "#                 \"document.text\": query_,\n",
    "#                 },\n",
    "#         },\n",
    "#         size=k)\n",
    "\n",
    "#     hits = results[\"hits\"][\"hits\"]\n",
    "#     doc_ids = [row['_source'][\"document\"][\"id\"] for row in hits]\n",
    "\n",
    "#     return hits\n",
    "\n",
    "# def search_topic(es, topic, k=5):\n",
    "#     results = es.search(\n",
    "#         index = es.elastic_index,\n",
    "#         body= {\n",
    "#             \"size\": k,\n",
    "#             \"query\": {\n",
    "#                 \"match\": {\n",
    "#                     \"document.title\": topic,\n",
    "#         }}})\n",
    "\n",
    "#     hits = results[\"hits\"][\"hits\"]\n",
    "#     doc_ids = [row['_source'][\"document\"][\"id\"] for row in hits]\n",
    "\n",
    "#     title = hits[0][\"_source\"][\"document\"][\"title\"]\n",
    "#     text = hits[0][\"_source\"][\"document\"][\"text\"]\n",
    "\n",
    "#     return {\n",
    "#         \"title\": title,\n",
    "#         \"text\": text\n",
    "#     }\n",
    "\n",
    "# query = \"government emails\"\n",
    "# text = search_text(wiki_ev, query_=query, k=10)\n",
    "\n",
    "# print(text)\n"
   ]
  },
  {
   "cell_type": "code",
   "execution_count": null,
   "metadata": {},
   "outputs": [],
   "source": [
    "### SEARCH FUNCTION ###\n",
    "\n",
    "# TODOs: Implement as Class-DB object\n",
    "\n",
    "# def search_text(db, query_, k=5):\n",
    "#     results = db.search(\n",
    "#         index = es.elastic_index,\n",
    "#         query = {\n",
    "#             \"match\": {\n",
    "#                 \"document.text\": query_,\n",
    "#                 },\n",
    "#         },\n",
    "#         size=k)\n",
    "\n",
    "#     hits = results[\"hits\"][\"hits\"]\n",
    "#     doc_ids = [row['_source'][\"document\"][\"id\"] for row in hits]\n",
    "\n",
    "#     return hits"
   ]
  }
 ],
 "metadata": {
  "kernelspec": {
   "display_name": "Python 3.10.6 ('venv': venv)",
   "language": "python",
   "name": "python3"
  },
  "language_info": {
   "codemirror_mode": {
    "name": "ipython",
    "version": 3
   },
   "file_extension": ".py",
   "mimetype": "text/x-python",
   "name": "python",
   "nbconvert_exporter": "python",
   "pygments_lexer": "ipython3",
   "version": "3.10.6"
  },
  "orig_nbformat": 4,
  "vscode": {
   "interpreter": {
    "hash": "1b747fec5972a5a28202124dfae2950631b4721a6e18efe99aaae23c73408484"
   }
  }
 },
 "nbformat": 4,
 "nbformat_minor": 2
}
