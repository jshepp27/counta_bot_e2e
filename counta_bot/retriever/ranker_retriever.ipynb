{
 "cells": [
  {
   "cell_type": "code",
   "execution_count": 1,
   "metadata": {},
   "outputs": [
    {
     "name": "stderr",
     "output_type": "stream",
     "text": [
      "INFO:elastic_db:Connecting to http://localhost:9200 \n",
      "INFO:elastic_db:Connected to <Elasticsearch(['http://localhost:9200'])> \n",
      "INFO:elastic_db:Connecting to http://localhost:9200 \n",
      "INFO:elastic_db:Connected to <Elasticsearch(['http://localhost:9200'])> \n"
     ]
    }
   ],
   "source": [
    "# TODOs: Operate DB Class\n",
    "# TODOs: Use SQLite\n",
    "# TODOs: Implement BM25\n",
    "\n",
    "from elastic_db import ElasticDB\n",
    "\n",
    "# INIT DB OBJECT\n",
    "PORT = \"http://localhost:9200\"\n",
    "INDEX_NAME = \"news_cc\"\n",
    "\n",
    "news_db = ElasticDB(elastic_port=PORT, elastic_index=INDEX_NAME)\n",
    "wiki_db = ElasticDB(elastic_port=PORT, elastic_index=\"knowledge\")"
   ]
  },
  {
   "cell_type": "code",
   "execution_count": 3,
   "metadata": {},
   "outputs": [],
   "source": [
    "### LOAD DATA ###\n",
    "import json\n",
    "\n",
    "data = [json.loads(ln) for ln in open(\"../data/train_cmv_cleaned.jsonl\")]\n",
    "kp = [json.loads(ln) for ln in open(\"../data/keyphrases.jsonl\")]\n",
    "ex_retrieve = [json.loads(ln) for ln in open(\"../data/wiki_doc_retrieved_from_op_train.jsonlist\")]\n",
    "conan = [json.loads(ln) for ln in open(\"../data/CONAN.json\")]\n",
    "\n",
    "ex_ranked = [json.loads(ln) for ln in open(\"../data/selected_evidence.jsonl\")]\n"
   ]
  },
  {
   "cell_type": "code",
   "execution_count": 4,
   "metadata": {},
   "outputs": [
    {
     "data": {
      "text/plain": [
       "{'id': 't3_2ro9ux',\n",
       " 'titles': 'Anything that is manmade is natural.',\n",
       " 'arguments': 'I cant remember the topic that spurred this discussion but a friend and I were debating whether manmade things were natural. He took the position that they are unnatural. He cited this definition by MerriamWebster existing in nature and not made or caused by people coming from nature as his basis for the distinction for natural vs. unnatural.However I respectfully disagree with his position and furthermore that definition of natural. People arise from nature. Humankinds capacity to create problemsolve analyze rationalize and build also come from natural processes. How are the things we create unnatural? It is only through natural occurrences that we have this ability why is it that we would give the credit of these things solely to man as opposed to nature? We are not separate from nature thus how can any of our actions or creations be unnatural? If we were somehow separate from nature I would understand the distinction between natural and manmade. However I think unnatural and manmade are not synonyms by any means. It seems to me that manmade things MUST be natural due to our being part of nature. I would love to hear your arguments and to have my view changed if I am mistaken in my logic somewhere along the line.',\n",
       " 'counters': 'Look at the definition you provided if we remove the exclusion of things which humans createSo essentially by this definition natural things are things that exist which is frankly rather meaningless. If one wanted to discuss the results of human activity we would then have to make up a new word which could be redefined by the same argument. The whole point of the word is to exclude human activity. If you remove that aspect it simply ceases to have meaning.'}"
      ]
     },
     "execution_count": 4,
     "metadata": {},
     "output_type": "execute_result"
    }
   ],
   "source": [
    "### SAMPLE ###\n",
    "\n",
    "sample_args = data[0:5]\n",
    "sample_kp = kp[0:5]\n",
    "sample_output = ex_retrieve[0:5]\n",
    "\n",
    "sample_args[0]"
   ]
  },
  {
   "cell_type": "code",
   "execution_count": 5,
   "metadata": {},
   "outputs": [
    {
     "data": {
      "text/plain": [
       "{'cid': 'd98oiy7',\n",
       " 'evidence_info': [{'sentence': 'At the time our country was founded major components of the economy were built on an immoral action that had been legal and normal for hundreds of years .',\n",
       "   'evidence': ['Although this is often merely a rebuttable presumption, many jurisdictions have laws which restrict the possibility of legal rebuttal (for instance by creating a legal time limit during which paternity may be challengedsuch as a certain number of years from the birth of the child).',\n",
       "    'In March 2012 the \"Times of Swaziland\" reported that a number of senators asked that the government take legal action against individuals who criticized King Mswati III on social networking sites.',\n",
       "    'The Archbishop of Jos, Ignatius Ayau Kaigama, argued that the action was \"in line with the moral and ethical values of the Nigerian and African cultures\", and blessed President Goodluck Jonathan in not bowing to international pressure: \"To protect you and yor administration against the conspiracy of the developed world to make our country and continent, the dumping ground for the promotion of immoral practices\".'],\n",
       "   'keyphrase': [[['a', 'certain', 'number', 'of', 'years'],\n",
       "     ['a', 'legal', 'time', 'limit']],\n",
       "    [['the', '``', 'Times'], ['legal', 'action']],\n",
       "    [['our', 'country', 'and', 'continent'],\n",
       "     ['the', 'action'],\n",
       "     ['immoral', 'practices']]]},\n",
       "  {'sentence': 'We fought a civil war to end the immoral practice that had become normal and legal .',\n",
       "   'evidence': ['Contemporary actors, the Union and Confederate leadership and fighting soldiers on both sides believed that slavery caused the Civil War.',\n",
       "    'In the first decades after the fighting, histories of the Civil War generally reflected the views of Northerners who had participated in the conflict.',\n",
       "    'In his book \"The American Civil War\", John Keegan writes that \"The American Civil War was to prove one of the most ferocious wars ever fought\".'],\n",
       "   'keyphrase': [[['the', 'Civil', 'War'], ['fighting', 'soldiers']],\n",
       "    [['the', 'Civil', 'War'], ['the', 'fighting']],\n",
       "    [['the', 'most', 'ferocious', 'wars', 'ever', 'fought'],\n",
       "     ['The', 'American', 'Civil', 'War'],\n",
       "     ['The', 'American', 'Civil', 'War']]]},\n",
       "  {'sentence': 'As we saw with slavery , the governed can not grant to government powers they do not legitimately have .',\n",
       "   'evidence': ['Activists in the new Republican Party, Many Northerners had another view: they believed the Slave Power conspiracy was controlling the national government with the goal of extending slavery.',\n",
       "    'While the compromise averted an immediate political crisis, it did not permanently resolve the issue of slave power (the power of slaveholders to control the national government on the slavery issue).',\n",
       "    'This formed the basis of government for the short lived republic from 1653 to 1657 by providing a legal rationale for the increasing power of Cromwell, after Parliament consistently failed to govern effectively.',\n",
       "    'Barbour believed that because “there is no treaty on the subject of surrendering fugitives,” being forged between state and foreign country, then the returning of fugitives to Canada did not violate a power granted to the federal government by the Constitution, and therefore the “authority, exercised by the Governor of Vermont, is not repugnant to the power of making treaties in its dormant state because it not the mere existence of power but its exercise which is incompatible with the exercise of the same power by the states.” Because the Governor was exercising within his own rights without infringing on the rights of others and that the Constitution did not explicitly define the affairs of states with foreign countries, then Governor Jennison was completely within his rights to order the extradition.'],\n",
       "   'keyphrase': [[['controlling',\n",
       "      'the',\n",
       "      'national',\n",
       "      'government',\n",
       "      'with',\n",
       "      'the',\n",
       "      'goal',\n",
       "      'of',\n",
       "      'extending',\n",
       "      'slavery'],\n",
       "     ['the', 'Slave', 'Power', 'conspiracy']],\n",
       "    [['control',\n",
       "      'the',\n",
       "      'national',\n",
       "      'government',\n",
       "      'on',\n",
       "      'the',\n",
       "      'slavery',\n",
       "      'issue'],\n",
       "     ['slave', 'power'],\n",
       "     ['the', 'power']],\n",
       "    [['government', 'for', 'the', 'short'],\n",
       "     ['the', 'increasing', 'power'],\n",
       "     ['govern', 'effectively']],\n",
       "    [['a',\n",
       "      'power',\n",
       "      'granted',\n",
       "      'to',\n",
       "      'the',\n",
       "      'federal',\n",
       "      'government',\n",
       "      'by',\n",
       "      'the',\n",
       "      'Constitution'],\n",
       "     ['power', 'but', 'its', 'exercise'],\n",
       "     ['the', 'same', 'power'],\n",
       "     ['the', 'power']]]}],\n",
       " 'tid': 't3_5998up'}"
      ]
     },
     "execution_count": 5,
     "metadata": {},
     "output_type": "execute_result"
    }
   ],
   "source": [
    "### SAMPLE OUTPUT ###\n",
    "\n",
    "_ = 2\n",
    "sample = sample_output[_][\"retrieval_results\"]\n",
    "sample_ranked = ex_ranked[_]\n",
    "\n",
    "# print(len(sample))\n",
    "# sample\n",
    "\n",
    "sample_ranked"
   ]
  },
  {
   "cell_type": "code",
   "execution_count": 12,
   "metadata": {},
   "outputs": [
    {
     "name": "stdout",
     "output_type": "stream",
     "text": [
      "huggingface/tokenizers: The current process just got forked, after parallelism has already been used. Disabling parallelism to avoid deadlocks...\n",
      "To disable this warning, you can either:\n",
      "\t- Avoid using `tokenizers` before the fork if possible\n",
      "\t- Explicitly set the environment variable TOKENIZERS_PARALLELISM=(true | false)\n"
     ]
    },
    {
     "name": "stderr",
     "output_type": "stream",
     "text": [
      "INFO:elastic_transport.transport:POST http://localhost:9200/news_cc/_search [status:200 duration:0.336s]\n",
      "INFO:elastic_transport.transport:POST http://localhost:9200/news_cc/_search [status:200 duration:0.339s]\n",
      "INFO:elastic_transport.transport:POST http://localhost:9200/news_cc/_search [status:200 duration:0.202s]\n",
      "INFO:elastic_transport.transport:POST http://localhost:9200/news_cc/_search [status:200 duration:0.455s]\n",
      "INFO:elastic_transport.transport:POST http://localhost:9200/news_cc/_search [status:200 duration:0.381s]\n",
      "INFO:elastic_transport.transport:POST http://localhost:9200/news_cc/_search [status:200 duration:0.277s]\n",
      "INFO:elastic_transport.transport:POST http://localhost:9200/news_cc/_search [status:200 duration:0.465s]\n"
     ]
    },
    {
     "data": {
      "text/plain": [
       "[{'argument_sentence': 'Thinking about todays news BBC WikipediaI think France is in a tough spot in how to react to this.',\n",
       "  'query': 'f, t, f',\n",
       "  'retireved_documents': ['Reward offered in Center Point gun store burglary',\n",
       "   'Banks lead S&P rally',\n",
       "   'Jefferson Middle School Back-to-School 2017',\n",
       "   'New Music: Tampa Tony ft. J. Towns - No Feelings',\n",
       "   'Jeffrey Is Considering Re-Gifting a Christmas Gift… For Karen!']},\n",
       " {'argument_sentence': 'There would be even stronger calls for an antiislam and antiimmigration policies.',\n",
       "  'query': 'a, c, a',\n",
       "  'retireved_documents': ['NASCAR TV Schedule',\n",
       "   'Tarps Now® Launches New Lines Of Military Grade Tarps And Fabrics',\n",
       "   'Highway now clear from earlier crash',\n",
       "   'Wales weather forecast: Met Office issues ice warning but warmer temperatures on the way',\n",
       "   'Wales weather forecast: Met Office issues ice warning but warmer temperatures on the way']},\n",
       " {'argument_sentence': 'These event reminds people that they cannot depend on protection by government.',\n",
       "  'query': 'p, p, d',\n",
       "  'retireved_documents': ['Apple TV: How to download, update, and delete apps',\n",
       "   'How Cowboys Hall of Famer Roger Staubach helped lure the Dallas Stars from Minnesota',\n",
       "   'Which? Elderly Care',\n",
       "   '9to5Mac Happy Hour 175: Apple Watch Pride, HomePod stereo & AirPlay 2, macOS 10.14 wish list',\n",
       "   'National Prescription Drug Take Back Day is Saturday']},\n",
       " {'argument_sentence': 'I think it would be a shame to allow the many who are afraid more then anything to be swayed by xenophobic nationalists which might have been the goal of the attack anyway.',\n",
       "  'query': 'a, s, x',\n",
       "  'retireved_documents': ['Forza Motorsport and Ford team up for big event alongside Xbox One X Gamescom reveal',\n",
       "   'Goals of the season 2016/2017',\n",
       "   'Xbox is starting to let players link their Discord and Xbox accounts',\n",
       "   'Robbie Rogers Announces Engagement To Greg Berlanti',\n",
       "   'Galaxy A8 (2018) may come to US with Snapdragon processor']},\n",
       " {'argument_sentence': 'I think this regardless of whether the weapons used by the attackers were owned legally makes a good case for promoting a culture of a reasonable gun ownership and carrying.',\n",
       "  'query': 'r, c, g',\n",
       "  'retireved_documents': ['Bismarck Pharmacist Faces More Charges Including Stalking',\n",
       "   'Video: Boxer Terence Crawford mocks Conor McGregor’s serious touch butt stretches, shadow boxing',\n",
       "   'Grave Digger for Christmas',\n",
       "   'Gate City basketball star Mac McClung decommits from Rutgers',\n",
       "   'Dalton Lampley indicted by grand jury in Marshall County - WPSD Local 6: Your news, weather, and sports authority']},\n",
       " {'argument_sentence': 'Say if out of people carried a gun with them was well trained in its use and tested in his responsibility to prevent its misuse and society upheld the value of these people as protectors it would benefit the society more the the current state of legislature and culture of gun ownership in most of European countries.',\n",
       "  'query': 'c, g, g',\n",
       "  'retireved_documents': ['30 teens facing criminal mischief charges after underage drinking, damaging Warm Springs Lodge',\n",
       "   'How Cowboys Hall of Famer Roger Staubach helped lure the Dallas Stars from Minnesota',\n",
       "   'Equity inks deal with Chinese firm',\n",
       "   'Gate City basketball star Mac McClung decommits from Rutgers',\n",
       "   'Krispy Kreme Doughnuts introduces Gingerbread Glazed Doughnut']},\n",
       " {'argument_sentence': 'I also think this would be much better then increase in police numbers and rights as policemen are a very homogeneous group trained to stick together and the danger of even deepening the not one of us pack mentality and escalation of police state.Change my view.PS I am not here to talk about USA and its gun problems.',\n",
       "  'query': 'b, i, i',\n",
       "  'retireved_documents': ['Beanie Babies',\n",
       "   'Bobby Kush - “Good”',\n",
       "   'THE FAMILY that pickleballs together... ...makes memories together',\n",
       "   'Scunthorpe pub to offer free pints to customers who share the same name',\n",
       "   'Bank VTB (Azerbaijan) calls for bid']}]"
      ]
     },
     "execution_count": 12,
     "metadata": {},
     "output_type": "execute_result"
    }
   ],
   "source": [
    "import keyphrase_extraction\n",
    "from keyphrase_extraction import exctract_keyphrase\n",
    "import re\n",
    "\n",
    "# TODOs: News Data\n",
    "# TODOs: Ranking\n",
    "# TODOs: Stance\n",
    "# TODOs: Paralellise\n",
    "# TODOs: Target Premises\n",
    "\n",
    "ar_ = sample_args[_][\"arguments\"]\n",
    "queries = []\n",
    "sentences = re.split(r'(?<!\\w\\.\\w.)(?<![A-Z][a-z]\\.)(?<=\\.|\\?)\\s', ar_)\n",
    "\n",
    "from detection.BERT_adu_classifier import predict\n",
    "\n",
    "premises = []\n",
    "for sent in sentences:\n",
    "    prediction = predict(sent)\n",
    "    \n",
    "    if prediction == \"premise\":\n",
    "        premises.append((sent, prediction))\n",
    "\n",
    "results = []\n",
    "# Sentence Level\n",
    "for i in sentences:\n",
    "    \n",
    "    # TODOs: Refactor key_BERT as Class for multiple oututs\n",
    "    kp_ = exctract_keyphrase(i, n_gram=3, n_kp=3)\n",
    "    \n",
    "    query = \", \".join(i for i in kp_)\n",
    "    res = [i[\"_source\"][\"document\"][\"title\"] for i in news_db.search(query_=query, k=5)]\n",
    "\n",
    "    results.append({\n",
    "        \"argument_sentence\": i, \n",
    "        \"query\": query, \n",
    "        \"retireved_documents\": res,\n",
    "\n",
    "    })\n",
    "\n",
    "results\n",
    "\n",
    "# results"
   ]
  },
  {
   "cell_type": "code",
   "execution_count": 26,
   "metadata": {},
   "outputs": [
    {
     "name": "stderr",
     "output_type": "stream",
     "text": [
      "INFO:elastic_transport.transport:POST http://localhost:9200/news_cc/_search [status:200 duration:0.367s]\n"
     ]
    },
    {
     "data": {
      "text/plain": [
       "[{'argument_sentence': 'Fuck Islam and Fuck ISIS. We should repatriate all Muslims. They are all a bunch of violent criminals who do not share our values and never will. Without them Britain will be a better, safer place.',\n",
       "  'query': 'fuck isis repatriate muslims',\n",
       "  'retireved_documents': ['‘Assalamu Alaykom:’ peace be upon you',\n",
       "   'How We Got to Here: A Charlottesville Reading List',\n",
       "   'De-radicalization can work for former ISIS fighters',\n",
       "   'How to Get Assyrians to Stay',\n",
       "   'How to Get Christians to Stay']}]"
      ]
     },
     "execution_count": 26,
     "metadata": {},
     "output_type": "execute_result"
    }
   ],
   "source": [
    "# Argument Level\n",
    "\n",
    "results = []\n",
    "\n",
    "_ = 90\n",
    "hate_ = sample_hate[0][\"conan\"][_][\"hateSpeech\"]\n",
    "\n",
    "# queries = []\n",
    "# sentences = re.split(r'(?<!\\w\\.\\w.)(?<![A-Z][a-z]\\.)(?<=\\.|\\?)\\s', hate_)\n",
    "\n",
    "results = []\n",
    "\n",
    "# TODOs: Refactor key_BERT as Class for multiple oututs\n",
    "#kp_ = (exctract_keyphrase(hate_, n_gram=1, n_kp=1), exctract_keyphrase(hate_, n_gram=2, n_kp=1), exctract_keyphrase(hate_, n_gram=3, n_kp=1))\n",
    "\n",
    "kp_ = (exctract_keyphrase(hate_, n_gram=5, n_kp=1))\n",
    "\n",
    "query = \" ,\".join(i for i in kp_)\n",
    "query\n",
    "\n",
    "res = [i[\"_source\"][\"document\"][\"title\"] for i in news_db.search(query_=query, k=5)]\n",
    "\n",
    "results.append({\n",
    "    \"argument_sentence\": hate_, \n",
    "    \"query\": query, \n",
    "    \"retireved_documents\": res,\n",
    "\n",
    "})\n",
    "\n",
    "results\n"
   ]
  },
  {
   "cell_type": "code",
   "execution_count": 27,
   "metadata": {},
   "outputs": [
    {
     "name": "stderr",
     "output_type": "stream",
     "text": [
      "INFO:elastic_transport.transport:POST http://localhost:9200/knowledge/_search [status:200 duration:0.249s]\n"
     ]
    },
    {
     "data": {
      "text/plain": [
       "[{'argument_sentence': 'Fuck Islam and Fuck ISIS. We should repatriate all Muslims. They are all a bunch of violent criminals who do not share our values and never will. Without them Britain will be a better, safer place.',\n",
       "  'query': 'fuck isis repatriate muslims',\n",
       "  'retireved_documents': ['Refuting ISIS',\n",
       "   'Refuting ISIS',\n",
       "   'Take Off (2017 film)',\n",
       "   'Terrorism in India',\n",
       "   'Tareq Kamleh']}]"
      ]
     },
     "execution_count": 27,
     "metadata": {},
     "output_type": "execute_result"
    }
   ],
   "source": [
    "results = []\n",
    "res = [i[\"_source\"][\"document\"][\"title\"] for i in wiki_db.search(query_=query, k=5)]\n",
    "\n",
    "results.append({\n",
    "    \"argument_sentence\": hate_, \n",
    "    \"query\": query, \n",
    "    \"retireved_documents\": res,\n",
    "\n",
    "})\n",
    "\n",
    "results"
   ]
  },
  {
   "cell_type": "code",
   "execution_count": null,
   "metadata": {},
   "outputs": [
    {
     "data": {
      "text/plain": [
       "[{'_index': 'knowledge',\n",
       "  '_id': 'kbZa5YIBRqC1428DaQUk',\n",
       "  '_score': 33.672318,\n",
       "  '_ignored': ['document.text.keyword'],\n",
       "  '_source': {'document': {'id': '3408791',\n",
       "    'source': 'wikipedia',\n",
       "    'title': 'Ruling party',\n",
       "    'text': \"In parliamentary systems, the majority in the legislature also controls the executive branch of government, thus leaving no possibility of opposing parties concurrently occupying the executive and legislative branches of government. In other systems, such as in an American style presidential system, the party of the president does not necessarily also have a legislative majority. A 'ruling party' is also used to describe the party of one-party states, such as the Chinese Communist Party in the People's Republic of China. In his political manifesto 'The Green Book', the late Libyan leader Muammar al-Gaddafi attacked the ability of the ruling party, using it as a basis for his opposition to partisan politics. None\"}}},\n",
       " {'_index': 'knowledge',\n",
       "  '_id': 'JQ3H5YIBRqC1428Dnwum',\n",
       "  '_score': 33.24501,\n",
       "  '_ignored': ['document.text.keyword'],\n",
       "  '_source': {'document': {'id': '8622040',\n",
       "    'source': 'wikipedia',\n",
       "    'title': 'Fusion of powers',\n",
       "    'text': 'Fusion of powers is a feature of some parliamentary forms of government where different branches of government are intermingled, typically the executive and legislative branches. It is contrasted with the separation of powers found in presidential, semi-presidential and dualistic parliamentary forms of government, where the membership of the legislative and executive powers cannot overlap. Fusion of powers exists in many, if not a majority of, parliamentary democracies, and does so by design. However, in all modern democratic polities the judiciary does not possess legislative or executive powers. The system first arose as a result of political evolution in the United Kingdom over many centuries, as the powers of the monarch became constrained by Parliament.'}}},\n",
       " {'_index': 'knowledge',\n",
       "  '_id': 'OUcA5YIBRqC1428D6vvb',\n",
       "  '_score': 32.941406,\n",
       "  '_ignored': ['document.text.keyword'],\n",
       "  '_source': {'document': {'id': '18988566',\n",
       "    'source': 'wikipedia',\n",
       "    'title': 'Student governments in the United States',\n",
       "    'text': 'Structures. Many student governments are structured similarly to the federal government of the United States, consisting of distinct executive, legislative, and judicial branches. These structures often include elements which are not found in the federal government (e.g. legislative veto, programming branches, initiative, recall, referendum). Just like the federal government, these governments have the trappings of a presidential system, with a separation of powers between branches and a presidential veto. This is by far the most common type of structure, and is found in model student government constitutions and by-laws.'}}}]"
      ]
     },
     "execution_count": 10,
     "metadata": {},
     "output_type": "execute_result"
    }
   ],
   "source": [
    "#queries\n",
    "query = \"the executive the presidential system legislative branches partisan unproductive\"\n",
    "res = search_text(wiki_ev, query_=query, k=3)\n",
    "res"
   ]
  },
  {
   "cell_type": "code",
   "execution_count": null,
   "metadata": {},
   "outputs": [
    {
     "name": "stdout",
     "output_type": "stream",
     "text": [
      "Ruling party, Fusion of powers, Student governments in the United States\n"
     ]
    }
   ],
   "source": [
    "import re\n",
    "\n",
    "print(\", \".join(re.sub(r'\\[\\[(?:[^|\\]]*\\|)?([^\\]]*)]]', \"\", i[\"_source\"][\"document\"][\"title\"]).strip(\"[]\") for i in res))"
   ]
  },
  {
   "cell_type": "code",
   "execution_count": null,
   "metadata": {},
   "outputs": [],
   "source": [
    "### TEST SEARCH ###\n",
    "\n",
    "def search_text(es, query_, k=5):\n",
    "    results = es.search(\n",
    "        index = es.elastic_index,\n",
    "        query = {\n",
    "            \"match\": {\n",
    "                \"document.text\": query_,\n",
    "                },\n",
    "        },\n",
    "        size=k)\n",
    "\n",
    "    hits = results[\"hits\"][\"hits\"]\n",
    "    doc_ids = [row['_source'][\"document\"][\"id\"] for row in hits]\n",
    "\n",
    "    return hits\n",
    "\n",
    "def search_topic(es, topic, k=5):\n",
    "    results = es.search(\n",
    "        index = es.elastic_index,\n",
    "        body= {\n",
    "            \"size\": k,\n",
    "            \"query\": {\n",
    "                \"match\": {\n",
    "                    \"document.title\": topic,\n",
    "        }}})\n",
    "\n",
    "    hits = results[\"hits\"][\"hits\"]\n",
    "    doc_ids = [row['_source'][\"document\"][\"id\"] for row in hits]\n",
    "\n",
    "    title = hits[0][\"_source\"][\"document\"][\"title\"]\n",
    "    text = hits[0][\"_source\"][\"document\"][\"text\"]\n",
    "\n",
    "    return {\n",
    "        \"title\": title,\n",
    "        \"text\": text\n",
    "    }\n",
    "\n",
    "query = \"government emails\"\n",
    "text = search_text(wiki_ev, query_=query, k=10)\n",
    "\n",
    "print(text)\n"
   ]
  },
  {
   "cell_type": "code",
   "execution_count": null,
   "metadata": {},
   "outputs": [],
   "source": [
    "### SEARCH FUNCTION ###\n",
    "\n",
    "# TODOs: Implement as Class-DB object\n",
    "\n",
    "# def search_text(db, query_, k=5):\n",
    "#     results = db.search(\n",
    "#         index = es.elastic_index,\n",
    "#         query = {\n",
    "#             \"match\": {\n",
    "#                 \"document.text\": query_,\n",
    "#                 },\n",
    "#         },\n",
    "#         size=k)\n",
    "\n",
    "#     hits = results[\"hits\"][\"hits\"]\n",
    "#     doc_ids = [row['_source'][\"document\"][\"id\"] for row in hits]\n",
    "\n",
    "#     return hits"
   ]
  }
 ],
 "metadata": {
  "kernelspec": {
   "display_name": "vs_venv",
   "language": "python",
   "name": "vs_venv"
  },
  "language_info": {
   "codemirror_mode": {
    "name": "ipython",
    "version": 3
   },
   "file_extension": ".py",
   "mimetype": "text/x-python",
   "name": "python",
   "nbconvert_exporter": "python",
   "pygments_lexer": "ipython3",
   "version": "3.10.6"
  },
  "orig_nbformat": 4,
  "vscode": {
   "interpreter": {
    "hash": "f570427228f404ca5e5bd69d7c4f81f4bbf047c681baf5cde3c9d0636c1aef27"
   }
  }
 },
 "nbformat": 4,
 "nbformat_minor": 2
}
