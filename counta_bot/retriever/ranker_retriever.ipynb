{
 "cells": [
  {
   "cell_type": "code",
   "execution_count": 1,
   "metadata": {},
   "outputs": [
    {
     "name": "stderr",
     "output_type": "stream",
     "text": [
      "INFO:utils.elastic_db:Connecting to http://localhost:9200 \n",
      "INFO:utils.elastic_db:Connected to <Elasticsearch(['http://localhost:9200'])> \n",
      "INFO:utils.elastic_db:Connecting to http://localhost:9200 \n",
      "INFO:utils.elastic_db:Connected to <Elasticsearch(['http://localhost:9200'])> \n"
     ]
    }
   ],
   "source": [
    "# TODOs: Operate DB Class\n",
    "# TODOs: Use SQLite\n",
    "# TODOs: Implement BM25\n",
    "\n",
    "import sys\n",
    "from pathlib import Path\n",
    "sys.path[0] = str(Path(sys.path[0]).parent)\n",
    "\n",
    "from utils.elastic_db import ElasticDB\n",
    "\n",
    "# INIT DB OBJECT\n",
    "PORT = \"http://localhost:9200\"\n",
    "INDEX_NAME = \"news_cc\"\n",
    "\n",
    "news_db = ElasticDB(elastic_port=PORT, elastic_index=INDEX_NAME)\n",
    "wiki_db = ElasticDB(elastic_port=PORT, elastic_index=\"knowledge\")"
   ]
  },
  {
   "cell_type": "code",
   "execution_count": 2,
   "metadata": {},
   "outputs": [],
   "source": [
    "### LOAD DATA ###\n",
    "import json\n",
    "\n",
    "data = [json.loads(ln) for ln in open(\"../../data/train_cmv_cleaned.jsonl\")]\n",
    "topics = [json.loads(ln) for ln in open(\"../../data/claim_topics.jsonl\")]\n",
    "\n",
    "# kp = [json.loads(ln) for ln in open(\"../data/keyphrases.jsonl\")]\n",
    "ex_retrieve = [json.loads(ln) for ln in open(\"../../data/wiki_doc_retrieved_from_op_train.jsonlist\")]\n",
    "conan = [json.loads(ln) for ln in open(\"../../data/CONAN.json\")]\n",
    "\n",
    "ex_ranked = [json.loads(ln) for ln in open(\"../../data/selected_evidence.jsonl\")]\n"
   ]
  },
  {
   "cell_type": "code",
   "execution_count": 3,
   "metadata": {},
   "outputs": [
    {
     "data": {
      "text/plain": [
       "{'cid': 'd99pxly',\n",
       " 'evidence_info': [{'sentence': 'The suicide rates are sky high because there is little to no help whatsoever for these people and a large porportion of our society is denying their needs in the first place .',\n",
       "   'evidence': ['Suicide rates are generally higher amongst males, rural and regional dwellers, Aboriginal and Torres Strait Islander people.',\n",
       "    'F. Stephen Bridges asserts that there is \"a high incidence in early spring (April and May) and also a low incidence in winter\" of suicides rates.',\n",
       "    'In 2014, suicides rates amongst under-45 men in UK reached a 15-year high of 78% of the total 5,140.'],\n",
       "   'keyphrase': [[['Torres', 'Strait', 'Islander', 'people'],\n",
       "     ['Suicide', 'rates']],\n",
       "    [['a', 'high', 'incidence'], ['suicides', 'rates']],\n",
       "    [['suicides', 'rates', 'amongst', 'under-45', 'men', 'in', 'UK'],\n",
       "     ['a', '15-year', 'high']]]},\n",
       "  {'sentence': 'Kyler Prescott was killed as a result of going to a hospital for help - the cause of death was indeed suicide but it was triggered by outside factors out of his control .',\n",
       "   'evidence': ['A suicide attack is a political action where an attacker carries out violence against others which they understand will result in their own death.',\n",
       "    'The authors hypothesized that the high summer peaks in suicide deaths are the result of an ultimately disappointed hope amongst the emotionally discomforted that winter might bring an end to the “social isolation and depression brought about by the cold weather”.',\n",
       "    \"Attempted suicide or non-fatal suicidal behavior is self-injury with the desire to end one's life that does not result in death.\",\n",
       "    'For example, the death of a spouse and divorce are risk factors for suicide in both genders, but the effect is somewhat mitigated for females.'],\n",
       "   'keyphrase': [[['result', 'in', 'their', 'own', 'death'],\n",
       "     ['A', 'suicide', 'attack']],\n",
       "    [['suicide', 'deaths'], ['the', 'result']],\n",
       "    [['suicide', 'or', 'non-fatal', 'suicidal', 'behavior'],\n",
       "     ['result', 'in', 'death']],\n",
       "    [['risk', 'factors', 'for', 'suicide', 'in', 'both', 'genders'],\n",
       "     ['the', 'death']]]},\n",
       "  {'sentence': 'Zander had much more noticable factors that played a role in his death but the underlying realisation that nobody was willing to help him , or even believe that his problems and pain were real , was undeniably a reason for his death .',\n",
       "   'evidence': ['Epigenetics, the study of changes in genetic expression in response to environmental factors which do not alter the underlying DNA, is also believed to play a role in determining suicide risk.',\n",
       "    'A poor ability to solve problems, the loss of abilities one used to have, and poor impulse control also play a role.'],\n",
       "   'keyphrase': [[['play',\n",
       "      'a',\n",
       "      'role',\n",
       "      'in',\n",
       "      'determining',\n",
       "      'suicide',\n",
       "      'risk'],\n",
       "     ['the', 'underlying', 'DNA'],\n",
       "     ['environmental', 'factors']],\n",
       "    [['play', 'a', 'role'], ['solve', 'problems']]]}],\n",
       " 'tid': 't3_59mqls'}"
      ]
     },
     "execution_count": 3,
     "metadata": {},
     "output_type": "execute_result"
    }
   ],
   "source": [
    "### SAMPLE OUTPUT ###\n",
    "import random\n",
    "_ = random.randint(0, 1000)\n",
    "sample_ranked = ex_ranked[_]\n",
    "\n",
    "sample_ranked"
   ]
  },
  {
   "cell_type": "code",
   "execution_count": 5,
   "metadata": {},
   "outputs": [
    {
     "ename": "ModuleNotFoundError",
     "evalue": "No module named 'keyphrase_vectorizers'",
     "output_type": "error",
     "traceback": [
      "\u001b[0;31m---------------------------------------------------------------------------\u001b[0m",
      "\u001b[0;31mModuleNotFoundError\u001b[0m                       Traceback (most recent call last)",
      "\u001b[1;32m/Users/joshua.sheppard/PycharmProjects/counta_bot_e2e/counta_bot/retriever/ranker_retriever.ipynb Cell 4\u001b[0m in \u001b[0;36m<cell line: 1>\u001b[0;34m()\u001b[0m\n\u001b[0;32m----> <a href='vscode-notebook-cell:/Users/joshua.sheppard/PycharmProjects/counta_bot_e2e/counta_bot/retriever/ranker_retriever.ipynb#W4sZmlsZQ%3D%3D?line=0'>1</a>\u001b[0m \u001b[39mfrom\u001b[39;00m \u001b[39mutils\u001b[39;00m\u001b[39m.\u001b[39;00m\u001b[39mkeyphrase_extraction\u001b[39;00m \u001b[39mimport\u001b[39;00m exctract_keyphrase\n\u001b[1;32m      <a href='vscode-notebook-cell:/Users/joshua.sheppard/PycharmProjects/counta_bot_e2e/counta_bot/retriever/ranker_retriever.ipynb#W4sZmlsZQ%3D%3D?line=1'>2</a>\u001b[0m \u001b[39mfrom\u001b[39;00m \u001b[39mkeyphrase_vectorizers\u001b[39;00m \u001b[39mimport\u001b[39;00m KeyphraseCountVectorizer\n\u001b[1;32m      <a href='vscode-notebook-cell:/Users/joshua.sheppard/PycharmProjects/counta_bot_e2e/counta_bot/retriever/ranker_retriever.ipynb#W4sZmlsZQ%3D%3D?line=2'>3</a>\u001b[0m \u001b[39mimport\u001b[39;00m \u001b[39mrandom\u001b[39;00m\n",
      "File \u001b[0;32m~/PycharmProjects/counta_bot_e2e/counta_bot/utils/keyphrase_extraction.py:2\u001b[0m, in \u001b[0;36m<module>\u001b[0;34m\u001b[0m\n\u001b[1;32m      1\u001b[0m \u001b[39mfrom\u001b[39;00m \u001b[39mkeybert\u001b[39;00m \u001b[39mimport\u001b[39;00m KeyBERT\n\u001b[0;32m----> 2\u001b[0m \u001b[39mfrom\u001b[39;00m \u001b[39mkeyphrase_vectorizers\u001b[39;00m \u001b[39mimport\u001b[39;00m KeyphraseCountVectorizer\n\u001b[1;32m      4\u001b[0m kb \u001b[39m=\u001b[39m KeyBERT()\n\u001b[1;32m      6\u001b[0m \u001b[39mdef\u001b[39;00m \u001b[39mextract_keyphrase\u001b[39m(doc, n_gram\u001b[39m=\u001b[39m\u001b[39m3\u001b[39m, n_kp\u001b[39m=\u001b[39m\u001b[39m3\u001b[39m, use_mmr\u001b[39m=\u001b[39m\u001b[39m\"\u001b[39m\u001b[39mFalse\u001b[39m\u001b[39m\"\u001b[39m, use_maxsum\u001b[39m=\u001b[39m\u001b[39m\"\u001b[39m\u001b[39mFalse\u001b[39m\u001b[39m\"\u001b[39m):\n\u001b[1;32m      7\u001b[0m \n\u001b[1;32m      8\u001b[0m     \u001b[39m#kp = kb.extract_keywords(doc, keyphrase_ngram_range=(0, n_gram), stop_words=\"english\", diversity=0.2, vectorizer=KeyphraseCountVectorizer())\u001b[39;00m\n",
      "\u001b[0;31mModuleNotFoundError\u001b[0m: No module named 'keyphrase_vectorizers'"
     ]
    }
   ],
   "source": [
    "from utils.keyphrase_extraction import exctract_keyphrase\n",
    "from keyphrase_vectorizers import KeyphraseCountVectorizer\n",
    "import random\n",
    "import re\n",
    "\n",
    "# TODOs: News Data\n",
    "# TODOs: Ranking\n",
    "# TODOs: Ranking, Cosine\n",
    "# TODOs: Research Evidence Retireval: Context Aware, Neural Retrieval \n",
    "# TODOs: Stance\n",
    "# TODOs: Paralellise\n",
    "# TODOs: Target ADUs: Premises, Claims, discard non-ADUs\n",
    "\n",
    "#from BERT_adu_classifier import predict\n",
    "# premises = []\n",
    "# for sent in sentences:\n",
    "#     prediction = predict(sent)\n",
    "    \n",
    "#     if prediction == \"premise\":\n",
    "#         premises.append(sent)\n",
    "\n",
    "_ = random.randint(0, 1000)\n",
    "\n",
    "arg = [data][_][\"arguments\"]\n",
    "queries = []\n",
    "sentences = re.split(r'(?<!\\w\\.\\w.)(?<![A-Z][a-z]\\.)(?<=\\.|\\?)\\s', arg)\n",
    "\n",
    "results = []\n",
    "\n",
    "for i in sentences:\n",
    "    # TODOs: Extend Keyphrase Model to Select varying length keyphrases\n",
    "    kp_ = extract_keyphrase(i, n_gram=3, n_kp=3)\n",
    "    results.append(kp_)\n",
    "\n",
    "#     query = \", \".join(i for i in kp_)\n",
    "#     res = [i[\"_source\"][\"document\"][\"title\"] for i in news_db.search(query_=query, k=5)]\n",
    "\n",
    "#     results.append({\n",
    "#         \"argument_sentence\": i, \n",
    "#         \"query\": query, \n",
    "#         \"retireved_documents\": res,\n",
    "\n",
    "#     })\n",
    "\n",
    "# results\n",
    "\n",
    "# results"
   ]
  },
  {
   "cell_type": "code",
   "execution_count": 26,
   "metadata": {},
   "outputs": [
    {
     "name": "stderr",
     "output_type": "stream",
     "text": [
      "INFO:elastic_transport.transport:POST http://localhost:9200/news_cc/_search [status:200 duration:0.367s]\n"
     ]
    },
    {
     "data": {
      "text/plain": [
       "[{'argument_sentence': 'Fuck Islam and Fuck ISIS. We should repatriate all Muslims. They are all a bunch of violent criminals who do not share our values and never will. Without them Britain will be a better, safer place.',\n",
       "  'query': 'fuck isis repatriate muslims',\n",
       "  'retireved_documents': ['‘Assalamu Alaykom:’ peace be upon you',\n",
       "   'How We Got to Here: A Charlottesville Reading List',\n",
       "   'De-radicalization can work for former ISIS fighters',\n",
       "   'How to Get Assyrians to Stay',\n",
       "   'How to Get Christians to Stay']}]"
      ]
     },
     "execution_count": 26,
     "metadata": {},
     "output_type": "execute_result"
    }
   ],
   "source": [
    "# Argument Level\n",
    "\n",
    "results = []\n",
    "\n",
    "_ = 90\n",
    "hate_ = sample_hate[0][\"conan\"][_][\"hateSpeech\"]\n",
    "\n",
    "# queries = []\n",
    "# sentences = re.split(r'(?<!\\w\\.\\w.)(?<![A-Z][a-z]\\.)(?<=\\.|\\?)\\s', hate_)\n",
    "\n",
    "results = []\n",
    "\n",
    "# TODOs: Refactor key_BERT as Class for multiple oututs\n",
    "#kp_ = (exctract_keyphrase(hate_, n_gram=1, n_kp=1), exctract_keyphrase(hate_, n_gram=2, n_kp=1), exctract_keyphrase(hate_, n_gram=3, n_kp=1))\n",
    "\n",
    "kp_ = (exctract_keyphrase(hate_, n_gram=5, n_kp=1))\n",
    "\n",
    "query = \" ,\".join(i for i in kp_)\n",
    "query\n",
    "\n",
    "res = [i[\"_source\"][\"document\"][\"title\"] for i in news_db.search(query_=query, k=5)]\n",
    "\n",
    "results.append({\n",
    "    \"argument_sentence\": hate_, \n",
    "    \"query\": query, \n",
    "    \"retireved_documents\": res,\n",
    "\n",
    "})\n",
    "\n",
    "results\n"
   ]
  },
  {
   "cell_type": "code",
   "execution_count": 27,
   "metadata": {},
   "outputs": [
    {
     "name": "stderr",
     "output_type": "stream",
     "text": [
      "INFO:elastic_transport.transport:POST http://localhost:9200/knowledge/_search [status:200 duration:0.249s]\n"
     ]
    },
    {
     "data": {
      "text/plain": [
       "[{'argument_sentence': 'Fuck Islam and Fuck ISIS. We should repatriate all Muslims. They are all a bunch of violent criminals who do not share our values and never will. Without them Britain will be a better, safer place.',\n",
       "  'query': 'fuck isis repatriate muslims',\n",
       "  'retireved_documents': ['Refuting ISIS',\n",
       "   'Refuting ISIS',\n",
       "   'Take Off (2017 film)',\n",
       "   'Terrorism in India',\n",
       "   'Tareq Kamleh']}]"
      ]
     },
     "execution_count": 27,
     "metadata": {},
     "output_type": "execute_result"
    }
   ],
   "source": [
    "results = []\n",
    "res = [i[\"_source\"][\"document\"][\"title\"] for i in wiki_db.search(query_=query, k=5)]\n",
    "\n",
    "results.append({\n",
    "    \"argument_sentence\": hate_, \n",
    "    \"query\": query, \n",
    "    \"retireved_documents\": res,\n",
    "\n",
    "})\n",
    "\n",
    "results"
   ]
  },
  {
   "cell_type": "code",
   "execution_count": null,
   "metadata": {},
   "outputs": [
    {
     "data": {
      "text/plain": [
       "[{'_index': 'knowledge',\n",
       "  '_id': 'kbZa5YIBRqC1428DaQUk',\n",
       "  '_score': 33.672318,\n",
       "  '_ignored': ['document.text.keyword'],\n",
       "  '_source': {'document': {'id': '3408791',\n",
       "    'source': 'wikipedia',\n",
       "    'title': 'Ruling party',\n",
       "    'text': \"In parliamentary systems, the majority in the legislature also controls the executive branch of government, thus leaving no possibility of opposing parties concurrently occupying the executive and legislative branches of government. In other systems, such as in an American style presidential system, the party of the president does not necessarily also have a legislative majority. A 'ruling party' is also used to describe the party of one-party states, such as the Chinese Communist Party in the People's Republic of China. In his political manifesto 'The Green Book', the late Libyan leader Muammar al-Gaddafi attacked the ability of the ruling party, using it as a basis for his opposition to partisan politics. None\"}}},\n",
       " {'_index': 'knowledge',\n",
       "  '_id': 'JQ3H5YIBRqC1428Dnwum',\n",
       "  '_score': 33.24501,\n",
       "  '_ignored': ['document.text.keyword'],\n",
       "  '_source': {'document': {'id': '8622040',\n",
       "    'source': 'wikipedia',\n",
       "    'title': 'Fusion of powers',\n",
       "    'text': 'Fusion of powers is a feature of some parliamentary forms of government where different branches of government are intermingled, typically the executive and legislative branches. It is contrasted with the separation of powers found in presidential, semi-presidential and dualistic parliamentary forms of government, where the membership of the legislative and executive powers cannot overlap. Fusion of powers exists in many, if not a majority of, parliamentary democracies, and does so by design. However, in all modern democratic polities the judiciary does not possess legislative or executive powers. The system first arose as a result of political evolution in the United Kingdom over many centuries, as the powers of the monarch became constrained by Parliament.'}}},\n",
       " {'_index': 'knowledge',\n",
       "  '_id': 'OUcA5YIBRqC1428D6vvb',\n",
       "  '_score': 32.941406,\n",
       "  '_ignored': ['document.text.keyword'],\n",
       "  '_source': {'document': {'id': '18988566',\n",
       "    'source': 'wikipedia',\n",
       "    'title': 'Student governments in the United States',\n",
       "    'text': 'Structures. Many student governments are structured similarly to the federal government of the United States, consisting of distinct executive, legislative, and judicial branches. These structures often include elements which are not found in the federal government (e.g. legislative veto, programming branches, initiative, recall, referendum). Just like the federal government, these governments have the trappings of a presidential system, with a separation of powers between branches and a presidential veto. This is by far the most common type of structure, and is found in model student government constitutions and by-laws.'}}}]"
      ]
     },
     "execution_count": 10,
     "metadata": {},
     "output_type": "execute_result"
    }
   ],
   "source": [
    "#queries\n",
    "query = \"the executive the presidential system legislative branches partisan unproductive\"\n",
    "res = search_text(wiki_ev, query_=query, k=3)\n",
    "res"
   ]
  },
  {
   "cell_type": "code",
   "execution_count": null,
   "metadata": {},
   "outputs": [
    {
     "name": "stdout",
     "output_type": "stream",
     "text": [
      "Ruling party, Fusion of powers, Student governments in the United States\n"
     ]
    }
   ],
   "source": [
    "import re\n",
    "\n",
    "print(\", \".join(re.sub(r'\\[\\[(?:[^|\\]]*\\|)?([^\\]]*)]]', \"\", i[\"_source\"][\"document\"][\"title\"]).strip(\"[]\") for i in res))"
   ]
  },
  {
   "cell_type": "code",
   "execution_count": null,
   "metadata": {},
   "outputs": [],
   "source": [
    "### TEST SEARCH ###\n",
    "\n",
    "def search_text(es, query_, k=5):\n",
    "    results = es.search(\n",
    "        index = es.elastic_index,\n",
    "        query = {\n",
    "            \"match\": {\n",
    "                \"document.text\": query_,\n",
    "                },\n",
    "        },\n",
    "        size=k)\n",
    "\n",
    "    hits = results[\"hits\"][\"hits\"]\n",
    "    doc_ids = [row['_source'][\"document\"][\"id\"] for row in hits]\n",
    "\n",
    "    return hits\n",
    "\n",
    "def search_topic(es, topic, k=5):\n",
    "    results = es.search(\n",
    "        index = es.elastic_index,\n",
    "        body= {\n",
    "            \"size\": k,\n",
    "            \"query\": {\n",
    "                \"match\": {\n",
    "                    \"document.title\": topic,\n",
    "        }}})\n",
    "\n",
    "    hits = results[\"hits\"][\"hits\"]\n",
    "    doc_ids = [row['_source'][\"document\"][\"id\"] for row in hits]\n",
    "\n",
    "    title = hits[0][\"_source\"][\"document\"][\"title\"]\n",
    "    text = hits[0][\"_source\"][\"document\"][\"text\"]\n",
    "\n",
    "    return {\n",
    "        \"title\": title,\n",
    "        \"text\": text\n",
    "    }\n",
    "\n",
    "query = \"government emails\"\n",
    "text = search_text(wiki_ev, query_=query, k=10)\n",
    "\n",
    "print(text)\n"
   ]
  },
  {
   "cell_type": "code",
   "execution_count": null,
   "metadata": {},
   "outputs": [],
   "source": [
    "### SEARCH FUNCTION ###\n",
    "\n",
    "# TODOs: Implement as Class-DB object\n",
    "\n",
    "# def search_text(db, query_, k=5):\n",
    "#     results = db.search(\n",
    "#         index = es.elastic_index,\n",
    "#         query = {\n",
    "#             \"match\": {\n",
    "#                 \"document.text\": query_,\n",
    "#                 },\n",
    "#         },\n",
    "#         size=k)\n",
    "\n",
    "#     hits = results[\"hits\"][\"hits\"]\n",
    "#     doc_ids = [row['_source'][\"document\"][\"id\"] for row in hits]\n",
    "\n",
    "#     return hits"
   ]
  }
 ],
 "metadata": {
  "kernelspec": {
   "display_name": "vs_venv",
   "language": "python",
   "name": "vs_venv"
  },
  "language_info": {
   "codemirror_mode": {
    "name": "ipython",
    "version": 3
   },
   "file_extension": ".py",
   "mimetype": "text/x-python",
   "name": "python",
   "nbconvert_exporter": "python",
   "pygments_lexer": "ipython3",
   "version": "3.10.6"
  },
  "orig_nbformat": 4,
  "vscode": {
   "interpreter": {
    "hash": "f570427228f404ca5e5bd69d7c4f81f4bbf047c681baf5cde3c9d0636c1aef27"
   }
  }
 },
 "nbformat": 4,
 "nbformat_minor": 2
}
