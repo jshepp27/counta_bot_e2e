{
 "cells": [
  {
   "cell_type": "code",
   "execution_count": 2,
   "metadata": {},
   "outputs": [
    {
     "ename": "ModuleNotFoundError",
     "evalue": "No module named 'utils'",
     "output_type": "error",
     "traceback": [
      "\u001b[0;31m---------------------------------------------------------------------------\u001b[0m",
      "\u001b[0;31mModuleNotFoundError\u001b[0m                       Traceback (most recent call last)",
      "\u001b[1;32m/Users/joshua.sheppard/PycharmProjects/counta_bot_e2e/counta_bot/retriever/ranker_retriever.ipynb Cell 1\u001b[0m in \u001b[0;36m<cell line: 5>\u001b[0;34m()\u001b[0m\n\u001b[1;32m      <a href='vscode-notebook-cell:/Users/joshua.sheppard/PycharmProjects/counta_bot_e2e/counta_bot/retriever/ranker_retriever.ipynb#W0sZmlsZQ%3D%3D?line=0'>1</a>\u001b[0m \u001b[39m# TODOs: Operate DB Class\u001b[39;00m\n\u001b[1;32m      <a href='vscode-notebook-cell:/Users/joshua.sheppard/PycharmProjects/counta_bot_e2e/counta_bot/retriever/ranker_retriever.ipynb#W0sZmlsZQ%3D%3D?line=1'>2</a>\u001b[0m \u001b[39m# TODOs: Use SQLite\u001b[39;00m\n\u001b[1;32m      <a href='vscode-notebook-cell:/Users/joshua.sheppard/PycharmProjects/counta_bot_e2e/counta_bot/retriever/ranker_retriever.ipynb#W0sZmlsZQ%3D%3D?line=2'>3</a>\u001b[0m \u001b[39m# TODOs: Implement BM25\u001b[39;00m\n\u001b[0;32m----> <a href='vscode-notebook-cell:/Users/joshua.sheppard/PycharmProjects/counta_bot_e2e/counta_bot/retriever/ranker_retriever.ipynb#W0sZmlsZQ%3D%3D?line=4'>5</a>\u001b[0m \u001b[39mfrom\u001b[39;00m \u001b[39mutils\u001b[39;00m\u001b[39m.\u001b[39;00m\u001b[39melastic_db\u001b[39;00m \u001b[39mimport\u001b[39;00m ElasticDB\n\u001b[1;32m      <a href='vscode-notebook-cell:/Users/joshua.sheppard/PycharmProjects/counta_bot_e2e/counta_bot/retriever/ranker_retriever.ipynb#W0sZmlsZQ%3D%3D?line=6'>7</a>\u001b[0m \u001b[39m# INIT DB OBJECT\u001b[39;00m\n\u001b[1;32m      <a href='vscode-notebook-cell:/Users/joshua.sheppard/PycharmProjects/counta_bot_e2e/counta_bot/retriever/ranker_retriever.ipynb#W0sZmlsZQ%3D%3D?line=7'>8</a>\u001b[0m PORT \u001b[39m=\u001b[39m \u001b[39m\"\u001b[39m\u001b[39mhttp://localhost:9200\u001b[39m\u001b[39m\"\u001b[39m\n",
      "\u001b[0;31mModuleNotFoundError\u001b[0m: No module named 'utils'"
     ]
    }
   ],
   "source": [
    "# TODOs: Operate DB Class\n",
    "# TODOs: Use SQLite\n",
    "# TODOs: Implement BM25\n",
    "\n",
    "from utils.elastic_db import ElasticDB\n",
    "\n",
    "# INIT DB OBJECT\n",
    "PORT = \"http://localhost:9200\"\n",
    "INDEX_NAME = \"news_cc\"\n",
    "\n",
    "news_db = ElasticDB(elastic_port=PORT, elastic_index=INDEX_NAME)\n",
    "wiki_db = ElasticDB(elastic_port=PORT, elastic_index=\"knowledge\")"
   ]
  },
  {
   "cell_type": "code",
   "execution_count": 564,
   "metadata": {},
   "outputs": [],
   "source": [
    "### LOAD DATASETS ###\n",
    "import json\n",
    "\n",
    "data = [json.loads(ln) for ln in open(\"../../data/train_cmv_cleaned.jsonl\")]\n",
    "topics = [json.loads(ln) for ln in open(\"../../data/claim_topics.jsonl\")]\n",
    "\n",
    "ex_retrieval = [json.loads(ln) for ln in open(\"../../data/wiki_doc_retrieved_from_op_train.jsonlist\")]\n",
    "ex_ranked = [json.loads(ln) for ln in open(\"../../data/selected_evidence.jsonl\")]\n",
    "\n",
    "conan = [json.loads(ln) for ln in open(\"../../data/CONAN.json\")]"
   ]
  },
  {
   "cell_type": "code",
   "execution_count": 565,
   "metadata": {},
   "outputs": [
    {
     "data": {
      "text/plain": [
       "3456"
      ]
     },
     "execution_count": 565,
     "metadata": {},
     "output_type": "execute_result"
    }
   ],
   "source": [
    "len(data)"
   ]
  },
  {
   "cell_type": "code",
   "execution_count": 566,
   "metadata": {},
   "outputs": [
    {
     "data": {
      "text/plain": [
       "{'tid': 't3_1qafze',\n",
       " 'retrieval_results': [{'retrieved_document_titles': ['South African criminal law',\n",
       "    'Congenital disorder',\n",
       "    'Insanity defense',\n",
       "    'Treason in Arthurian legend',\n",
       "    'Psychiatric and mental health nursing'],\n",
       "   'query': 'egregious crimes mental defects commit',\n",
       "   'sentence': 'People with mental defects who commit egregious crimes should not be punished any differently . '},\n",
       "  {'retrieved_document_titles': ['Kehar Singh',\n",
       "    'Sentence (law)',\n",
       "    'Adam Yahiye Gadahn',\n",
       "    '68th Academy Awards',\n",
       "    'Lionel Jospin'],\n",
       "   'query': 'egregious crime a crime horrifying',\n",
       "   'sentence': \"I do n't know if there 's a legal term for what I have in mind for ` egregious crime ' - more of an intuitive notion of a crime that is simply horrifying , that shocks you about what people are capable of . \"},\n",
       "  {'retrieved_document_titles': ['South African criminal law',\n",
       "    'Ages of consent in Europe',\n",
       "    'Ghulam Azam',\n",
       "    'LGBT rights in the United States',\n",
       "    'Insanity defense'],\n",
       "   'query': 'lenient punishment recognizable mental defect crimes commits receive clinically',\n",
       "   'sentence': \"I think anyone who commits these kinds of crimes is fucked up in some way -LRB- tried to think of a more politically correct term , gave up -RRB- , and I do n't think some should receive more lenient punishment because one has some clinically recognizable mental defect . \"},\n",
       "  {'retrieved_document_titles': ['Organized crime',\n",
       "    'South African criminal law',\n",
       "    'Victimology',\n",
       "    'San Bernardino, California',\n",
       "    'Criminal record'],\n",
       "   'query': 'the crime criminal b criminal a indicative',\n",
       "   'sentence': 'For example , if criminal A and criminal B torture and kill someone , the crime alone is indicative that they are off-balance in some way . '},\n",
       "  {'retrieved_document_titles': ['South African criminal law',\n",
       "    'Capital punishment',\n",
       "    'Daṇḍa (Hindu punishment)',\n",
       "    'Honor killing',\n",
       "    'Capital punishment in Iran'],\n",
       "   'query': 'crimes the same punishment commit receive',\n",
       "   'sentence': \"I just do n't believe that anyone could commit these kinds of crimes without being ` insane ' in some way , and they should all receive the same punishment and attempt at treatment after conviction . \"},\n",
       "  {'retrieved_document_titles': ['South African criminal law',\n",
       "    'Ages of consent in the United States',\n",
       "    'English criminal law',\n",
       "    'Insanity defense',\n",
       "    'Resisting arrest'],\n",
       "   'query': 'a crime insanity these crimes commits guilty disgusted commit guilty',\n",
       "   'sentence': \"Anyone who commits these crimes is guilty , and I 'm disgusted that there are people who could commit a crime like raping and killing a child and then be deemed ` not guilty by reason of insanity ' . \"}]}"
      ]
     },
     "execution_count": 566,
     "metadata": {},
     "output_type": "execute_result"
    }
   ],
   "source": [
    "### SAMPLE OUTPUT ###\n",
    "import random\n",
    "\n",
    "# TODOs: Replicate Output, Passage Evidence Retrieval\n",
    "# TODOs: Replicate Output, Passage Ranking\n",
    "\n",
    "_ = random.randint(0, 1000)\n",
    "ranked = ex_ranked[_]\n",
    "retireval = ex_retrieval[_]\n",
    "\n",
    "retireval"
   ]
  },
  {
   "cell_type": "code",
   "execution_count": 567,
   "metadata": {},
   "outputs": [],
   "source": [
    "# TODOs: News Data\n",
    "# TODOs: Ranking\n",
    "# TODOs: Ranking, Cosine\n",
    "# TODOs: Research Evidence Retireval: Context Aware, Neural Retrieval\n",
    "# TODOs: Stance\n",
    "# TODOs: Target ADUs: Premises, Claims, discard non-ADUs, thus reducing noise over retreival \n",
    "# TODOs: Paralellise\n",
    "\n",
    "# TERMS => Input Argument : args : arg\n",
    "# TERMS => Argument Discourse Units : adu : adu_prem : adu_claim\n",
    "# TERMS => Evidence : ev\n",
    "# TERMS => Counter Evidence : counta_ev"
   ]
  },
  {
   "cell_type": "code",
   "execution_count": 568,
   "metadata": {},
   "outputs": [
    {
     "name": "stdout",
     "output_type": "stream",
     "text": [
      "622\n"
     ]
    },
    {
     "data": {
      "text/plain": [
       "('Welfare you receive isnt your money and things like food stamps that make welfare nondiscretionary are a good idea.',\n",
       " 'A social safety net is a good idea and money is spent with the intent of providing a specific kind of help. In many places this includes a cash handout. I believe this is wrong on many levels. The money may be misspent. This idea is NOT based on the assumption that poor people are all stupid or drug addicts. Its simply the fact that theres no way of ensuring that the cash is used for its intended purpose. The best assumption you can make is that people would be so desperately craving the thing you give them extra money for that they would almost certainly spend it on that but people may end up endure forms of squalor that were far from what the well intentioned policy makers had in mind. From the governments perspective money is also being spent inefficiently. Lets say a program wanted to ensure that people were well fed. Theyd have to find a cash amount that would buy enough healthy food to feed the recipients but people have different needs so theyll have to provide to the upper percentile of demand the alternative is weighing people paying women less etc. This not only will result in discretionary income but inequality in how much everyone gets. A food stamp system would allow everyone to get as much food as they need and the money left over is still in the governments hands to spend on other initiatives. Things like food stamps are patronising and thats a good thing. A cash handout creates a sense of entitlement beyond what something patronising like food stamps rent vouchers etc. create. By the time moneys in your pocket or bank account theres several layers between you and the people providing that service. Food stamps create a meaningful difference between working poor and welfare recipients to encourage escaping the system. Theres also the huge benefit of less resentment of those on welfare. In general they communicate purpose more clearly. Too often theres an attitude of getting as much money as you can from the government and paying as little tax as possible. It seems like people would be less likely to trick their way into receiving food stamps education and other initiatives purpose built to meet needs. On the other side I would think policies would allow people to see their taxes as less of a redistribution of wealth and more as funding for benevolent programs to create a better society.I think as much welfare as possible should be in the form of vouchers and other purpose specific non discretionary forms. I like food stamps I like rent vouchers I like free healthcare and education. Things like these over cash seem like the best way to prevent the safety net becoming a fishing net. I cant think of many situations where cash is the best option which is why Im here.The other aspect to this changemyview is that Im ok with policies that patronise the less fortunate. Being well fed healthy comfortably sheltered continually educated to eventually earn the life you want are more important than not being insulted. If anyone can enlighten me on what its like to be offended by a government policy assuming youre stupid or malevolent especially if you dont pay taxes that would be helpful.')"
      ]
     },
     "execution_count": 568,
     "metadata": {},
     "output_type": "execute_result"
    }
   ],
   "source": [
    "### SUBJECT ARG ###\n",
    "import random\n",
    "import re\n",
    "\n",
    "# Note: 340; Gender Equality\n",
    "\n",
    "_ = random.randint(0, 1000)\n",
    "print(_)\n",
    "\n",
    "claim = data[_][\"titles\"]\n",
    "arg = data[_][\"arguments\"]\n",
    "claim, arg"
   ]
  },
  {
   "cell_type": "code",
   "execution_count": 569,
   "metadata": {},
   "outputs": [
    {
     "data": {
      "text/plain": [
       "['hello, my name is Josh! How are you doing today?',\n",
       " \"I'm curious ... will this line seperate?\",\n",
       " \"I'm not so sure Dr. Evil\"]"
      ]
     },
     "execution_count": 569,
     "metadata": {},
     "output_type": "execute_result"
    }
   ],
   "source": [
    "### NLP FUNCTIONS ###\n",
    "\n",
    "def sentences_segment(doc):\n",
    "    return [i for i in re.split(r'(?<=[^A-Z].[.?]) +(?=[A-Z])', doc)]\n",
    "\n",
    "def tokeniser(doc):\n",
    "    return re.findall(r\"\\w+(?:'\\w+)?|[^\\w\\s]\", doc)\n",
    "\n",
    "# Test Statements\n",
    "tokeniser(\"hello, my name is Josh!\")\n",
    "sentences_segment(\"hello, my name is Josh! How are you doing today? I'm curious ... will this line seperate? I'm not so sure Dr. Evil\")"
   ]
  },
  {
   "cell_type": "code",
   "execution_count": 570,
   "metadata": {},
   "outputs": [
    {
     "name": "stdout",
     "output_type": "stream",
     "text": [
      "A social safety net is a good idea and money is spent with the intent of providing a specific kind of help.\n"
     ]
    },
    {
     "name": "stderr",
     "output_type": "stream",
     "text": [
      "INFO:elastic_transport.transport:POST http://localhost:9200/news_cc/_search [status:200 duration:0.075s]\n",
      "INFO:elastic_transport.transport:POST http://localhost:9200/news_cc/_search [status:200 duration:0.018s]\n"
     ]
    },
    {
     "name": "stdout",
     "output_type": "stream",
     "text": [
      "In many places this includes a cash handout.\n"
     ]
    },
    {
     "name": "stderr",
     "output_type": "stream",
     "text": [
      "INFO:elastic_transport.transport:POST http://localhost:9200/news_cc/_search [status:200 duration:0.115s]\n",
      "INFO:elastic_transport.transport:POST http://localhost:9200/news_cc/_search [status:200 duration:0.008s]\n"
     ]
    },
    {
     "name": "stdout",
     "output_type": "stream",
     "text": [
      "I believe this is wrong on many levels.\n"
     ]
    },
    {
     "name": "stderr",
     "output_type": "stream",
     "text": [
      "INFO:elastic_transport.transport:POST http://localhost:9200/news_cc/_search [status:200 duration:0.059s]\n",
      "INFO:elastic_transport.transport:POST http://localhost:9200/news_cc/_search [status:200 duration:0.007s]\n"
     ]
    },
    {
     "name": "stdout",
     "output_type": "stream",
     "text": [
      "This idea is NOT based on the assumption that poor people are all stupid or drug addicts.\n"
     ]
    },
    {
     "name": "stderr",
     "output_type": "stream",
     "text": [
      "INFO:elastic_transport.transport:POST http://localhost:9200/news_cc/_search [status:200 duration:0.110s]\n",
      "INFO:elastic_transport.transport:POST http://localhost:9200/news_cc/_search [status:200 duration:0.007s]\n"
     ]
    },
    {
     "name": "stdout",
     "output_type": "stream",
     "text": [
      "Its simply the fact that theres no way of ensuring that the cash is used for its intended purpose.\n"
     ]
    },
    {
     "name": "stderr",
     "output_type": "stream",
     "text": [
      "INFO:elastic_transport.transport:POST http://localhost:9200/news_cc/_search [status:200 duration:0.041s]\n",
      "INFO:elastic_transport.transport:POST http://localhost:9200/news_cc/_search [status:200 duration:0.007s]\n"
     ]
    },
    {
     "name": "stdout",
     "output_type": "stream",
     "text": [
      "The best assumption you can make is that people would be so desperately craving the thing you give them extra money for that they would almost certainly spend it on that but people may end up endure forms of squalor that were far from what the well intentioned policy makers had in mind.\n"
     ]
    },
    {
     "name": "stderr",
     "output_type": "stream",
     "text": [
      "INFO:elastic_transport.transport:POST http://localhost:9200/news_cc/_search [status:200 duration:0.111s]\n",
      "INFO:elastic_transport.transport:POST http://localhost:9200/news_cc/_search [status:200 duration:0.013s]\n"
     ]
    },
    {
     "name": "stdout",
     "output_type": "stream",
     "text": [
      "From the governments perspective money is also being spent inefficiently.\n"
     ]
    },
    {
     "name": "stderr",
     "output_type": "stream",
     "text": [
      "INFO:elastic_transport.transport:POST http://localhost:9200/news_cc/_search [status:200 duration:0.059s]\n",
      "INFO:elastic_transport.transport:POST http://localhost:9200/news_cc/_search [status:200 duration:0.007s]\n"
     ]
    },
    {
     "name": "stdout",
     "output_type": "stream",
     "text": [
      "Lets say a program wanted to ensure that people were well fed.\n"
     ]
    },
    {
     "name": "stderr",
     "output_type": "stream",
     "text": [
      "INFO:elastic_transport.transport:POST http://localhost:9200/news_cc/_search [status:200 duration:0.053s]\n",
      "INFO:elastic_transport.transport:POST http://localhost:9200/news_cc/_search [status:200 duration:0.006s]\n"
     ]
    },
    {
     "name": "stdout",
     "output_type": "stream",
     "text": [
      "Theyd have to find a cash amount that would buy enough healthy food to feed the recipients but people have different needs so theyll have to provide to the upper percentile of demand the alternative is weighing people paying women less etc.\n"
     ]
    },
    {
     "name": "stderr",
     "output_type": "stream",
     "text": [
      "INFO:elastic_transport.transport:POST http://localhost:9200/news_cc/_search [status:200 duration:0.089s]\n",
      "INFO:elastic_transport.transport:POST http://localhost:9200/news_cc/_search [status:200 duration:0.010s]\n"
     ]
    },
    {
     "name": "stdout",
     "output_type": "stream",
     "text": [
      "This not only will result in discretionary income but inequality in how much everyone gets.\n"
     ]
    },
    {
     "name": "stderr",
     "output_type": "stream",
     "text": [
      "INFO:elastic_transport.transport:POST http://localhost:9200/news_cc/_search [status:200 duration:0.052s]\n",
      "INFO:elastic_transport.transport:POST http://localhost:9200/news_cc/_search [status:200 duration:0.008s]\n"
     ]
    },
    {
     "name": "stdout",
     "output_type": "stream",
     "text": [
      "A food stamp system would allow everyone to get as much food as they need and the money left over is still in the governments hands to spend on other initiatives.\n"
     ]
    },
    {
     "name": "stderr",
     "output_type": "stream",
     "text": [
      "INFO:elastic_transport.transport:POST http://localhost:9200/news_cc/_search [status:200 duration:0.061s]\n",
      "INFO:elastic_transport.transport:POST http://localhost:9200/news_cc/_search [status:200 duration:0.012s]\n"
     ]
    },
    {
     "name": "stdout",
     "output_type": "stream",
     "text": [
      "Things like food stamps are patronising and thats a good thing.\n"
     ]
    },
    {
     "name": "stderr",
     "output_type": "stream",
     "text": [
      "INFO:elastic_transport.transport:POST http://localhost:9200/news_cc/_search [status:200 duration:0.040s]\n",
      "INFO:elastic_transport.transport:POST http://localhost:9200/news_cc/_search [status:200 duration:0.012s]\n"
     ]
    },
    {
     "name": "stdout",
     "output_type": "stream",
     "text": [
      "A cash handout creates a sense of entitlement beyond what something patronising like food stamps rent vouchers etc. create.\n"
     ]
    },
    {
     "name": "stderr",
     "output_type": "stream",
     "text": [
      "INFO:elastic_transport.transport:POST http://localhost:9200/news_cc/_search [status:200 duration:0.045s]\n",
      "INFO:elastic_transport.transport:POST http://localhost:9200/news_cc/_search [status:200 duration:0.007s]\n"
     ]
    },
    {
     "name": "stdout",
     "output_type": "stream",
     "text": [
      "By the time moneys in your pocket or bank account theres several layers between you and the people providing that service.\n"
     ]
    },
    {
     "name": "stderr",
     "output_type": "stream",
     "text": [
      "INFO:elastic_transport.transport:POST http://localhost:9200/news_cc/_search [status:200 duration:0.066s]\n",
      "INFO:elastic_transport.transport:POST http://localhost:9200/news_cc/_search [status:200 duration:0.013s]\n"
     ]
    },
    {
     "name": "stdout",
     "output_type": "stream",
     "text": [
      "Food stamps create a meaningful difference between working poor and welfare recipients to encourage escaping the system.\n"
     ]
    },
    {
     "name": "stderr",
     "output_type": "stream",
     "text": [
      "INFO:elastic_transport.transport:POST http://localhost:9200/news_cc/_search [status:200 duration:0.064s]\n",
      "INFO:elastic_transport.transport:POST http://localhost:9200/news_cc/_search [status:200 duration:0.007s]\n"
     ]
    },
    {
     "name": "stdout",
     "output_type": "stream",
     "text": [
      "Theres also the huge benefit of less resentment of those on welfare.\n"
     ]
    },
    {
     "name": "stderr",
     "output_type": "stream",
     "text": [
      "INFO:elastic_transport.transport:POST http://localhost:9200/news_cc/_search [status:200 duration:0.080s]\n",
      "INFO:elastic_transport.transport:POST http://localhost:9200/news_cc/_search [status:200 duration:0.008s]\n"
     ]
    },
    {
     "name": "stdout",
     "output_type": "stream",
     "text": [
      "Too often theres an attitude of getting as much money as you can from the government and paying as little tax as possible.\n"
     ]
    },
    {
     "name": "stderr",
     "output_type": "stream",
     "text": [
      "INFO:elastic_transport.transport:POST http://localhost:9200/news_cc/_search [status:200 duration:0.076s]\n",
      "INFO:elastic_transport.transport:POST http://localhost:9200/news_cc/_search [status:200 duration:0.016s]\n"
     ]
    },
    {
     "name": "stdout",
     "output_type": "stream",
     "text": [
      "It seems like people would be less likely to trick their way into receiving food stamps education and other initiatives purpose built to meet needs.\n"
     ]
    },
    {
     "name": "stderr",
     "output_type": "stream",
     "text": [
      "INFO:elastic_transport.transport:POST http://localhost:9200/news_cc/_search [status:200 duration:0.069s]\n",
      "INFO:elastic_transport.transport:POST http://localhost:9200/news_cc/_search [status:200 duration:0.012s]\n"
     ]
    },
    {
     "name": "stdout",
     "output_type": "stream",
     "text": [
      "On the other side I would think policies would allow people to see their taxes as less of a redistribution of wealth and more as funding for benevolent programs to create a better society.I think as much welfare as possible should be in the form of vouchers and other purpose specific non discretionary forms.\n"
     ]
    },
    {
     "name": "stderr",
     "output_type": "stream",
     "text": [
      "INFO:elastic_transport.transport:POST http://localhost:9200/news_cc/_search [status:200 duration:0.080s]\n",
      "INFO:elastic_transport.transport:POST http://localhost:9200/news_cc/_search [status:200 duration:0.006s]\n"
     ]
    },
    {
     "name": "stdout",
     "output_type": "stream",
     "text": [
      "I like food stamps I like rent vouchers I like free healthcare and education.\n"
     ]
    },
    {
     "name": "stderr",
     "output_type": "stream",
     "text": [
      "INFO:elastic_transport.transport:POST http://localhost:9200/news_cc/_search [status:200 duration:0.068s]\n",
      "INFO:elastic_transport.transport:POST http://localhost:9200/news_cc/_search [status:200 duration:0.006s]\n"
     ]
    },
    {
     "name": "stdout",
     "output_type": "stream",
     "text": [
      "Things like these over cash seem like the best way to prevent the safety net becoming a fishing net.\n"
     ]
    },
    {
     "name": "stderr",
     "output_type": "stream",
     "text": [
      "INFO:elastic_transport.transport:POST http://localhost:9200/news_cc/_search [status:200 duration:0.084s]\n",
      "INFO:elastic_transport.transport:POST http://localhost:9200/news_cc/_search [status:200 duration:0.007s]\n"
     ]
    },
    {
     "name": "stdout",
     "output_type": "stream",
     "text": [
      "I cant think of many situations where cash is the best option which is why Im here.The other aspect to this changemyview is that Im ok with policies that patronise the less fortunate.\n"
     ]
    },
    {
     "name": "stderr",
     "output_type": "stream",
     "text": [
      "INFO:elastic_transport.transport:POST http://localhost:9200/news_cc/_search [status:200 duration:0.064s]\n",
      "INFO:elastic_transport.transport:POST http://localhost:9200/news_cc/_search [status:200 duration:0.008s]\n"
     ]
    },
    {
     "name": "stdout",
     "output_type": "stream",
     "text": [
      "Being well fed healthy comfortably sheltered continually educated to eventually earn the life you want are more important than not being insulted.\n"
     ]
    },
    {
     "name": "stderr",
     "output_type": "stream",
     "text": [
      "INFO:elastic_transport.transport:POST http://localhost:9200/news_cc/_search [status:200 duration:0.017s]\n",
      "INFO:elastic_transport.transport:POST http://localhost:9200/news_cc/_search [status:200 duration:0.004s]\n"
     ]
    },
    {
     "name": "stdout",
     "output_type": "stream",
     "text": [
      "If anyone can enlighten me on what its like to be offended by a government policy assuming youre stupid or malevolent especially if you dont pay taxes that would be helpful.\n"
     ]
    },
    {
     "name": "stderr",
     "output_type": "stream",
     "text": [
      "INFO:elastic_transport.transport:POST http://localhost:9200/news_cc/_search [status:200 duration:0.086s]\n",
      "INFO:elastic_transport.transport:POST http://localhost:9200/news_cc/_search [status:200 duration:0.010s]\n"
     ]
    }
   ],
   "source": [
    "from utils.keyphrase_extraction import extract_keyphrase\n",
    "\n",
    "# TODOs: Fix Sentencizer\n",
    "# TODOs: Tokeniser Function\n",
    "# TODOs: Domain Restrict - polarising social and political debate (Class labelling); Note: currently, open-domain. Score Highly Polarised Discussions.\n",
    "# TODOs: Bag of Topics, Concepts for Topic Labelling\n",
    "# TODOs: News, Political, Sociology and 'Good', 'Positive' counter-evidence Knowledge Base.\n",
    "# TODOs: Consider parsing and normalising knowledge; extracting core ADU arguments, premises, evidence and claims.\n",
    "# TODOs: Sentence Segment Function\n",
    "# TODOs: Semantic Retrieval ** \n",
    "# TODOs: Fix Sentence parsing\n",
    "# TODOs: Parameterise Index-DB in use\n",
    "# TODOs: Implement as a Class\n",
    "\n",
    "### RETRIEVER ###\n",
    "\n",
    "# TODOs: Filter ADUs; Strong and disputable arguments (Premise rakning, NLI, Argument Similarity (counter stance))\n",
    "db = news_db\n",
    "\n",
    "ad_units = [i for i in re.split(r'(?<=[^A-Z].[.?]) +(?=[A-Z])', arg)]\n",
    "\n",
    "queries = []\n",
    "retrieved_ev = []\n",
    "\n",
    "for adu in ad_units:\n",
    "    toks = re.findall(r\"\\w+(?:'\\w+)?|[^\\w\\s]\", adu)\n",
    "\n",
    "    if len(toks) <= 8:\n",
    "        continue\n",
    "\n",
    "    print(adu)    \n",
    "    kp = extract_keyphrase(adu, n_kp=3)\n",
    "    query = \", \".join(i for i in kp)\n",
    "    \n",
    "    # TODOs: Re-init DB with smaller passage size\n",
    "    titles = [i[\"_source\"][\"document\"][\"title\"] for i in db.search(query_=query, k=10)]\n",
    "    evidence = [i[\"_source\"][\"document\"][\"text\"] for i in db.search(query_=query, k=10)]\n",
    "\n",
    "    retrieved_ev.append({\n",
    "        \"argument_discourse_unit\": adu, \n",
    "        \"retrieved_documents_titles\": titles,\n",
    "        \"adu_keyphrases\": query,\n",
    "        \"retrieved_evidence\": evidence,\n",
    "        \"merged_evidence\": \", \".join(ln for ln in evidence)\n",
    "    })"
   ]
  },
  {
   "cell_type": "code",
   "execution_count": 571,
   "metadata": {},
   "outputs": [
    {
     "data": {
      "text/plain": [
       "('A social safety net is a good idea and money is spent with the intent of providing a specific kind of help.',\n",
       " 'social safety net, good idea, money',\n",
       " 'Even some proponents of expanding the social safety net oppose the idea, fearing it would siphon money from existing programs.')"
      ]
     },
     "execution_count": 571,
     "metadata": {},
     "output_type": "execute_result"
    }
   ],
   "source": [
    "### PASSAGE RANKING; KEYWORD OVERLAP ###\n",
    "\n",
    "### SAMPLE SINGLE OBJECT ###\n",
    "adu_idx = 0\n",
    "ev_idx = 0\n",
    "\n",
    "# TODOs: For each ADU, Rank Merged Evidence using Keyword Overlap and Filter for Contrasting Stance\n",
    "\n",
    "# Extract ADU and retrieved Evidence set, given by the ADU index\n",
    "evidence = sentences_segment(retrieved_ev[adu_idx][\"merged_evidence\"])\n",
    "adu = retrieved_ev[adu_idx]['argument_discourse_unit']\n",
    "adu_kp = retrieved_ev[adu_idx]['adu_keyphrases']\n",
    "\n",
    "# Sample single evidence item, from merged, given by the evidence_index\n",
    "adu, adu_kp, evidence[ev_idx]"
   ]
  },
  {
   "cell_type": "code",
   "execution_count": 239,
   "metadata": {},
   "outputs": [
    {
     "data": {
      "text/plain": [
       "[{'adu': 'Hello! Let me preface by saying I dont believe there is a better sex.',\n",
       "  'adu_kp': ['better sex'],\n",
       "  'ev_unit': \"The sex isn't automatically better just because you're in a relationship, but it has more of an opportunity to get really good.\",\n",
       "  'ev_unit_kp': ['sex', 'relationship', 'opportunity'],\n",
       "  'kp_overlap': 1},\n",
       " {'adu': 'Hello! Let me preface by saying I dont believe there is a better sex.',\n",
       "  'adu_kp': ['better sex'],\n",
       "  'ev_unit': \"The mutual trust and understanding you share with your partner will lead to better sex, but that's not the only reason sex can be better when you're in a relationship.\",\n",
       "  'ev_unit_kp': ['better sex', 'mutual trust', 'relationship'],\n",
       "  'kp_overlap': 2},\n",
       " {'adu': 'Hello! Let me preface by saying I dont believe there is a better sex.',\n",
       "  'adu_kp': ['better sex'],\n",
       "  'ev_unit': \"Here are three explanations for why sex can feel so much more satisfying when you're in a relationship. 1 Communication is scientifically proven to lead to better sex.\",\n",
       "  'ev_unit_kp': ['better sex', 'sex', 'relationship'],\n",
       "  'kp_overlap': 3},\n",
       " {'adu': 'Hello! Let me preface by saying I dont believe there is a better sex.',\n",
       "  'adu_kp': ['better sex'],\n",
       "  'ev_unit': \"Stocksy/Laura Stolfi A 2017 study conducted at the Medical University of Vienna treated women in long-term relationships with either the 'bonding hormone' oxytocin or with a placebo and asked them to keep a joint diary with their partners about their sex lives., Plus, you are both more comfortable around one another in general, which translates to less pressure and the ability to enjoy yourselves more during sex.\",\n",
       "  'ev_unit_kp': ['oxytocin', 'sex lives', 'bonding hormone'],\n",
       "  'kp_overlap': 1},\n",
       " {'adu': 'Hello! Let me preface by saying I dont believe there is a better sex.',\n",
       "  'adu_kp': ['better sex'],\n",
       "  'ev_unit': \"If the first time you have sex with someone isn't great, that's likely because you aren't yet familiar with each other's preferences.\",\n",
       "  'ev_unit_kp': ['sex', 'first time', 'preferences'],\n",
       "  'kp_overlap': 1},\n",
       " {'adu': 'Hello! Let me preface by saying I dont believe there is a better sex.',\n",
       "  'adu_kp': ['better sex'],\n",
       "  'ev_unit': \"The sex isn't automatically better just because you're in a relationship, but it has more of an opportunity to get really good.\",\n",
       "  'ev_unit_kp': ['sex', 'relationship', 'opportunity'],\n",
       "  'kp_overlap': 1},\n",
       " {'adu': 'Hello! Let me preface by saying I dont believe there is a better sex.',\n",
       "  'adu_kp': ['better sex'],\n",
       "  'ev_unit': \"The mutual trust and understanding you share with your partner will lead to better sex, but that's not the only reason sex can be better when you're in a relationship.\",\n",
       "  'ev_unit_kp': ['better sex', 'mutual trust', 'relationship'],\n",
       "  'kp_overlap': 2},\n",
       " {'adu': 'Hello! Let me preface by saying I dont believe there is a better sex.',\n",
       "  'adu_kp': ['better sex'],\n",
       "  'ev_unit': \"Here are three explanations for why sex can feel so much more satisfying when you're in a relationship., It also helps you develop a healthy relationship as intimacy makes people talk about different things they haven’t told anybody else.\",\n",
       "  'ev_unit_kp': ['intimacy', 'sex', 'healthy relationship'],\n",
       "  'kp_overlap': 1},\n",
       " {'adu': 'Hello! Let me preface by saying I dont believe there is a better sex.',\n",
       "  'adu_kp': ['better sex'],\n",
       "  'ev_unit': 'According to a research by the University of Kansas mentioned in the story, women love if there is good foreplay and afterplay is equally important which makes sex better.',\n",
       "  'ev_unit_kp': ['good foreplay', 'sex', 'women'],\n",
       "  'kp_overlap': 1},\n",
       " {'adu': 'Hello! Let me preface by saying I dont believe there is a better sex.',\n",
       "  'adu_kp': ['better sex'],\n",
       "  'ev_unit': 'Afterplay also ends up helping make the next time a better experience than the last.',\n",
       "  'ev_unit_kp': ['afterplay', 'better experience', 'next time'],\n",
       "  'kp_overlap': 1},\n",
       " {'adu': 'Hello! Let me preface by saying I dont believe there is a better sex.',\n",
       "  'adu_kp': ['better sex'],\n",
       "  'ev_unit': 'Afterplay also makes way for better sex and increases the frequency of sex among two individuals or the couple too.',\n",
       "  'ev_unit_kp': ['afterplay', 'better sex', 'sex'],\n",
       "  'kp_overlap': 3},\n",
       " {'adu': 'Hello! Let me preface by saying I dont believe there is a better sex.',\n",
       "  'adu_kp': ['better sex'],\n",
       "  'ev_unit': 'None, Jake: This Better Not Bite Me in the Ass, name of your sex tape.',\n",
       "  'ev_unit_kp': ['sex tape', 'jake', 'none'],\n",
       "  'kp_overlap': 1},\n",
       " {'adu': 'Hello! Let me preface by saying I dont believe there is a better sex.',\n",
       "  'adu_kp': ['better sex'],\n",
       "  'ev_unit': 'Amy: Why doesn’t your mouth work?',\n",
       "  'ev_unit_kp': ['mouth work', 'amy'],\n",
       "  'kp_overlap': 0},\n",
       " {'adu': 'Hello! Let me preface by saying I dont believe there is a better sex.',\n",
       "  'adu_kp': ['better sex'],\n",
       "  'ev_unit': 'Jake: Why Doesn’t Your Mouth Work?',\n",
       "  'ev_unit_kp': ['mouth work'],\n",
       "  'kp_overlap': 0},\n",
       " {'adu': 'Hello! Let me preface by saying I dont believe there is a better sex.',\n",
       "  'adu_kp': ['better sex'],\n",
       "  'ev_unit': \"Amy: What?, According to a study published in the Journal of Sex Research, those who 'feel their age' tended to have less sex, while those who remained in better health had more active and satisfying sex lives. 'The younger people feel, the more likely they are to maintain high sexual satisfaction as they get older (or at least they'll experience a much less noticeable change),' wrote Lehmiller.\",\n",
       "  'ev_unit_kp': ['less sex', 'younger people', 'high sexual satisfaction'],\n",
       "  'kp_overlap': 1},\n",
       " {'adu': 'Hello! Let me preface by saying I dont believe there is a better sex.',\n",
       "  'adu_kp': ['better sex'],\n",
       "  'ev_unit': \"It's worth noting that these study results come from a small sample of the population, and it shouldn't be the standard for how much sex we should be having.\",\n",
       "  'ev_unit_kp': ['study results', 'much sex', 'small sample'],\n",
       "  'kp_overlap': 1},\n",
       " {'adu': 'Hello! Let me preface by saying I dont believe there is a better sex.',\n",
       "  'adu_kp': ['better sex'],\n",
       "  'ev_unit': \"However, there is plenty of research that backs up the claim that sex is great for one's health, so the more you get busy, the better!Also on HuffPost: None, The release of oxytocin during sex may have a calming effect on the body. 8.\",\n",
       "  'ev_unit_kp': ['sex', 'oxytocin', 'health'],\n",
       "  'kp_overlap': 1},\n",
       " {'adu': 'Hello! Let me preface by saying I dont believe there is a better sex.',\n",
       "  'adu_kp': ['better sex'],\n",
       "  'ev_unit': \"A sharper memoryFrequent sex may improve women's memories.\",\n",
       "  'ev_unit_kp': ['sharper memoryfrequent sex', 'memories', 'women'],\n",
       "  'kp_overlap': 1},\n",
       " {'adu': 'Hello! Let me preface by saying I dont believe there is a better sex.',\n",
       "  'adu_kp': ['better sex'],\n",
       "  'ev_unit': 'Scientists at McGill University in Canada found women who had recently had sex were better able to remember abstract words in a word-memory task.',\n",
       "  'ev_unit_kp': ['abstract words', 'sex', 'word'],\n",
       "  'kp_overlap': 1},\n",
       " {'adu': 'Hello! Let me preface by saying I dont believe there is a better sex.',\n",
       "  'adu_kp': ['better sex'],\n",
       "  'ev_unit': 'Sex may stimulate the development of neurons in the part of the brain involved in learning and memory., It found single women are having the best sex at 66 years old and men at 64.',\n",
       "  'ev_unit_kp': ['sex', 'best sex', 'neurons'],\n",
       "  'kp_overlap': 2},\n",
       " {'adu': 'Hello! Let me preface by saying I dont believe there is a better sex.',\n",
       "  'adu_kp': ['better sex'],\n",
       "  'ev_unit': 'Sex therapist Dr Madeleine Castellanos said lovemaking is more fulfilling for single men and women in their 60s because they are experienced, they know what they want and are free to explore the dimensions of their sexuality.',\n",
       "  'ev_unit_kp': ['sexuality',\n",
       "   'sex therapist dr madeleine castellanos',\n",
       "   'single men'],\n",
       "  'kp_overlap': 1},\n",
       " {'adu': 'Hello! Let me preface by saying I dont believe there is a better sex.',\n",
       "  'adu_kp': ['better sex'],\n",
       "  'ev_unit': \"A new survey revealed single men and women are having the best sex at 60'As you get older you know what you like physically,' sex therapist Dr Castellanos, a New York-based sex therapist, told Daily Mail Online.\",\n",
       "  'ev_unit_kp': ['best sex', 'sex therapist', 'sex therapist dr castellanos'],\n",
       "  'kp_overlap': 3},\n",
       " {'adu': 'Hello! Let me preface by saying I dont believe there is a better sex.',\n",
       "  'adu_kp': ['better sex'],\n",
       "  'ev_unit': 'While many think younger people have a better time knocking boots, the recent survey revealed it actually gets better with age.',\n",
       "  'ev_unit_kp': ['younger people', 'boots', 'age'],\n",
       "  'kp_overlap': 0},\n",
       " {'adu': 'Hello! Let me preface by saying I dont believe there is a better sex.',\n",
       "  'adu_kp': ['better sex'],\n",
       "  'ev_unit': 'In fact, a study published by National Commission on Aging found women, in particular, said sex in their 70s was at least as satisfying or more satisfying physically than it was in their 40s., The Australian sex worker: “I was disgusted that he would equate sex with his wife with ‘taking one for the team’. “I was further disgusted by the way he gaslit his wife when she was firmly in the right.',\n",
       "  'ev_unit_kp': ['australian sex worker', '70s', 'aging'],\n",
       "  'kp_overlap': 1},\n",
       " {'adu': 'Hello! Let me preface by saying I dont believe there is a better sex.',\n",
       "  'adu_kp': ['better sex'],\n",
       "  'ev_unit': 'I stopped seeing him after that.”10 sex tips for men Want to improve your sex life?',\n",
       "  'ev_unit_kp': ['sex tips', 'sex life', 'men'],\n",
       "  'kp_overlap': 2},\n",
       " {'adu': 'Hello! Let me preface by saying I dont believe there is a better sex.',\n",
       "  'adu_kp': ['better sex'],\n",
       "  'ev_unit': 'These simple ideas and techniques could help both you and your lover enjoy better sex. 1 / 10 Getty Images/Caiaimage Think beyond the thrust., A mother-of-one believes that her job as a sex worker makes her a better parent.',\n",
       "  'ev_unit_kp': ['better sex', 'sex worker', 'better parent'],\n",
       "  'kp_overlap': 4},\n",
       " {'adu': 'Hello! Let me preface by saying I dont believe there is a better sex.',\n",
       "  'adu_kp': ['better sex'],\n",
       "  'ev_unit': \"Elle Stanger is a mom, stripper, sex writer and often refers to herself as an 'unlicensed underwear therapist.'The 31-year-old from Portland, Oregon, has a five-year-old daughter - and she believes her job makes her a better parent, reports the Daily Mail.\",\n",
       "  'ev_unit_kp': ['elle stanger',\n",
       "   'old daughter',\n",
       "   'unlicensed underwear therapist'],\n",
       "  'kp_overlap': 0},\n",
       " {'adu': 'Hello! Let me preface by saying I dont believe there is a better sex.',\n",
       "  'adu_kp': ['better sex'],\n",
       "  'ev_unit': \"She said: 'The nature of my work is varied.\",\n",
       "  'ev_unit_kp': ['nature', 'work'],\n",
       "  'kp_overlap': 0},\n",
       " {'adu': 'Hello! Let me preface by saying I dont believe there is a better sex.',\n",
       "  'adu_kp': ['better sex'],\n",
       "  'ev_unit': \"I work in a strip club three days a week, I've done webcam on and off, I write erotica and I sell my own porn, me and my partner just made our own - that was fun.\",\n",
       "  'ev_unit_kp': ['own porn', 'strip club', 'erotica'],\n",
       "  'kp_overlap': 0},\n",
       " {'adu': 'Hello! Let me preface by saying I dont believe there is a better sex.',\n",
       "  'adu_kp': ['better sex'],\n",
       "  'ev_unit': \"Advertisement'I feel like being a sex worker makes me a better mom because I've developed a greater sense of empathy., We’re sure to get more before the season is over, so here is a list of every sex tape that Jake has invented on B99 so far.\",\n",
       "  'ev_unit_kp': ['sex tape', 'sex worker', 'jake'],\n",
       "  'kp_overlap': 2},\n",
       " {'adu': 'Hello! Let me preface by saying I dont believe there is a better sex.',\n",
       "  'adu_kp': ['better sex'],\n",
       "  'ev_unit': 'Body PartsAmy: I’ll get my stuff, but this better not bite me in the ass.',\n",
       "  'ev_unit_kp': ['body partsamy', 'ass', 'stuff'],\n",
       "  'kp_overlap': 0},\n",
       " {'adu': 'Hello! Let me preface by saying I dont believe there is a better sex.',\n",
       "  'adu_kp': ['better sex'],\n",
       "  'ev_unit': 'Jake: This Better Not Bite Me in the Ass, name of your sex tape.',\n",
       "  'ev_unit_kp': ['sex tape', 'jake', 'ass'],\n",
       "  'kp_overlap': 1},\n",
       " {'adu': 'Hello! Let me preface by saying I dont believe there is a better sex.',\n",
       "  'adu_kp': ['better sex'],\n",
       "  'ev_unit': 'Amy: Why doesn’t your mouth work?',\n",
       "  'ev_unit_kp': ['mouth work', 'amy'],\n",
       "  'kp_overlap': 0},\n",
       " {'adu': 'Hello! Let me preface by saying I dont believe there is a better sex.',\n",
       "  'adu_kp': ['better sex'],\n",
       "  'ev_unit': 'Jake: Why Doesn’t Your Mouth Work?',\n",
       "  'ev_unit_kp': ['mouth work'],\n",
       "  'kp_overlap': 0}]"
      ]
     },
     "execution_count": 239,
     "metadata": {},
     "output_type": "execute_result"
    }
   ],
   "source": [
    "# TODOs: Speed-up, Parrelleise, Yield\n",
    "def overlap_score(evidence_kp, adu_kp):\n",
    "    score = 0\n",
    "    \n",
    "    # Split Keyphrase into components, scoring partial units as overlap\n",
    "    for i in evidence_kp:\n",
    "        for j in i.split():\n",
    "            # Ensure string value, to enact .find\n",
    "            if \" \".join(adu_kp).find(j) != -1: score += 1\n",
    "            \n",
    "            else: continue\n",
    "    \n",
    "    return score\n",
    "\n",
    "ev_units = evidence\n",
    "adu_kp = extract_keyphrase(adu)\n",
    "\n",
    "adu_ev_overlap = []\n",
    "\n",
    "kp_1 = ['sex', 'relationship', 'opportunity'] \n",
    "kp_2 = ['better sex']\n",
    "\n",
    "overlap_score(kp_2, kp_1)\n",
    "\n",
    "for ev_unit in evidence:\n",
    "    #print(ev_unit)\n",
    "    toks = tokeniser(ev_unit)\n",
    "\n",
    "    # Exprimental Value\n",
    "    if len(toks) <= 8:\n",
    "        continue\n",
    "    \n",
    "    ev_unit_kp = extract_keyphrase(ev_unit)\n",
    "    kp_overlap = overlap_score(evidence_kp=ev_unit_kp, adu_kp=adu_kp)\n",
    "    \n",
    "    adu_ev_overlap.append({\n",
    "        \"adu\": adu, \n",
    "        \"adu_kp\": adu_kp,\n",
    "        \"ev_unit\": ev_unit,\n",
    "        \"ev_unit_kp\": ev_unit_kp, \n",
    "        \"kp_overlap\": kp_overlap\n",
    "        \n",
    "        })\n",
    "        \n",
    "adu_ev_overlap\n"
   ]
  },
  {
   "cell_type": "code",
   "execution_count": 562,
   "metadata": {},
   "outputs": [
    {
     "data": {
      "text/plain": [
       "[{'adu': 'Hello! Let me preface by saying I dont believe there is a better sex.',\n",
       "  'adu_kp': ['better sex'],\n",
       "  'ev_unit': 'These simple ideas and techniques could help both you and your lover enjoy better sex. 1 / 10 Getty Images/Caiaimage Think beyond the thrust., A mother-of-one believes that her job as a sex worker makes her a better parent.',\n",
       "  'ev_unit_kp': ['better sex', 'sex worker', 'better parent'],\n",
       "  'kp_overlap': 4},\n",
       " {'adu': 'Hello! Let me preface by saying I dont believe there is a better sex.',\n",
       "  'adu_kp': ['better sex'],\n",
       "  'ev_unit': \"Here are three explanations for why sex can feel so much more satisfying when you're in a relationship. 1 Communication is scientifically proven to lead to better sex.\",\n",
       "  'ev_unit_kp': ['better sex', 'sex', 'relationship'],\n",
       "  'kp_overlap': 3},\n",
       " {'adu': 'Hello! Let me preface by saying I dont believe there is a better sex.',\n",
       "  'adu_kp': ['better sex'],\n",
       "  'ev_unit': 'Afterplay also makes way for better sex and increases the frequency of sex among two individuals or the couple too.',\n",
       "  'ev_unit_kp': ['afterplay', 'better sex', 'sex'],\n",
       "  'kp_overlap': 3},\n",
       " {'adu': 'Hello! Let me preface by saying I dont believe there is a better sex.',\n",
       "  'adu_kp': ['better sex'],\n",
       "  'ev_unit': \"A new survey revealed single men and women are having the best sex at 60'As you get older you know what you like physically,' sex therapist Dr Castellanos, a New York-based sex therapist, told Daily Mail Online.\",\n",
       "  'ev_unit_kp': ['best sex', 'sex therapist', 'sex therapist dr castellanos'],\n",
       "  'kp_overlap': 3},\n",
       " {'adu': 'Hello! Let me preface by saying I dont believe there is a better sex.',\n",
       "  'adu_kp': ['better sex'],\n",
       "  'ev_unit': \"The mutual trust and understanding you share with your partner will lead to better sex, but that's not the only reason sex can be better when you're in a relationship.\",\n",
       "  'ev_unit_kp': ['better sex', 'mutual trust', 'relationship'],\n",
       "  'kp_overlap': 2},\n",
       " {'adu': 'Hello! Let me preface by saying I dont believe there is a better sex.',\n",
       "  'adu_kp': ['better sex'],\n",
       "  'ev_unit': \"The mutual trust and understanding you share with your partner will lead to better sex, but that's not the only reason sex can be better when you're in a relationship.\",\n",
       "  'ev_unit_kp': ['better sex', 'mutual trust', 'relationship'],\n",
       "  'kp_overlap': 2},\n",
       " {'adu': 'Hello! Let me preface by saying I dont believe there is a better sex.',\n",
       "  'adu_kp': ['better sex'],\n",
       "  'ev_unit': 'Sex may stimulate the development of neurons in the part of the brain involved in learning and memory., It found single women are having the best sex at 66 years old and men at 64.',\n",
       "  'ev_unit_kp': ['sex', 'best sex', 'neurons'],\n",
       "  'kp_overlap': 2},\n",
       " {'adu': 'Hello! Let me preface by saying I dont believe there is a better sex.',\n",
       "  'adu_kp': ['better sex'],\n",
       "  'ev_unit': 'I stopped seeing him after that.”10 sex tips for men Want to improve your sex life?',\n",
       "  'ev_unit_kp': ['sex tips', 'sex life', 'men'],\n",
       "  'kp_overlap': 2},\n",
       " {'adu': 'Hello! Let me preface by saying I dont believe there is a better sex.',\n",
       "  'adu_kp': ['better sex'],\n",
       "  'ev_unit': \"Advertisement'I feel like being a sex worker makes me a better mom because I've developed a greater sense of empathy., We’re sure to get more before the season is over, so here is a list of every sex tape that Jake has invented on B99 so far.\",\n",
       "  'ev_unit_kp': ['sex tape', 'sex worker', 'jake'],\n",
       "  'kp_overlap': 2},\n",
       " {'adu': 'Hello! Let me preface by saying I dont believe there is a better sex.',\n",
       "  'adu_kp': ['better sex'],\n",
       "  'ev_unit': \"The sex isn't automatically better just because you're in a relationship, but it has more of an opportunity to get really good.\",\n",
       "  'ev_unit_kp': ['sex', 'relationship', 'opportunity'],\n",
       "  'kp_overlap': 1},\n",
       " {'adu': 'Hello! Let me preface by saying I dont believe there is a better sex.',\n",
       "  'adu_kp': ['better sex'],\n",
       "  'ev_unit': \"Stocksy/Laura Stolfi A 2017 study conducted at the Medical University of Vienna treated women in long-term relationships with either the 'bonding hormone' oxytocin or with a placebo and asked them to keep a joint diary with their partners about their sex lives., Plus, you are both more comfortable around one another in general, which translates to less pressure and the ability to enjoy yourselves more during sex.\",\n",
       "  'ev_unit_kp': ['oxytocin', 'sex lives', 'bonding hormone'],\n",
       "  'kp_overlap': 1},\n",
       " {'adu': 'Hello! Let me preface by saying I dont believe there is a better sex.',\n",
       "  'adu_kp': ['better sex'],\n",
       "  'ev_unit': \"If the first time you have sex with someone isn't great, that's likely because you aren't yet familiar with each other's preferences.\",\n",
       "  'ev_unit_kp': ['sex', 'first time', 'preferences'],\n",
       "  'kp_overlap': 1},\n",
       " {'adu': 'Hello! Let me preface by saying I dont believe there is a better sex.',\n",
       "  'adu_kp': ['better sex'],\n",
       "  'ev_unit': \"The sex isn't automatically better just because you're in a relationship, but it has more of an opportunity to get really good.\",\n",
       "  'ev_unit_kp': ['sex', 'relationship', 'opportunity'],\n",
       "  'kp_overlap': 1},\n",
       " {'adu': 'Hello! Let me preface by saying I dont believe there is a better sex.',\n",
       "  'adu_kp': ['better sex'],\n",
       "  'ev_unit': \"Here are three explanations for why sex can feel so much more satisfying when you're in a relationship., It also helps you develop a healthy relationship as intimacy makes people talk about different things they haven’t told anybody else.\",\n",
       "  'ev_unit_kp': ['intimacy', 'sex', 'healthy relationship'],\n",
       "  'kp_overlap': 1},\n",
       " {'adu': 'Hello! Let me preface by saying I dont believe there is a better sex.',\n",
       "  'adu_kp': ['better sex'],\n",
       "  'ev_unit': 'According to a research by the University of Kansas mentioned in the story, women love if there is good foreplay and afterplay is equally important which makes sex better.',\n",
       "  'ev_unit_kp': ['good foreplay', 'sex', 'women'],\n",
       "  'kp_overlap': 1},\n",
       " {'adu': 'Hello! Let me preface by saying I dont believe there is a better sex.',\n",
       "  'adu_kp': ['better sex'],\n",
       "  'ev_unit': 'Afterplay also ends up helping make the next time a better experience than the last.',\n",
       "  'ev_unit_kp': ['afterplay', 'better experience', 'next time'],\n",
       "  'kp_overlap': 1},\n",
       " {'adu': 'Hello! Let me preface by saying I dont believe there is a better sex.',\n",
       "  'adu_kp': ['better sex'],\n",
       "  'ev_unit': 'None, Jake: This Better Not Bite Me in the Ass, name of your sex tape.',\n",
       "  'ev_unit_kp': ['sex tape', 'jake', 'none'],\n",
       "  'kp_overlap': 1},\n",
       " {'adu': 'Hello! Let me preface by saying I dont believe there is a better sex.',\n",
       "  'adu_kp': ['better sex'],\n",
       "  'ev_unit': \"Amy: What?, According to a study published in the Journal of Sex Research, those who 'feel their age' tended to have less sex, while those who remained in better health had more active and satisfying sex lives. 'The younger people feel, the more likely they are to maintain high sexual satisfaction as they get older (or at least they'll experience a much less noticeable change),' wrote Lehmiller.\",\n",
       "  'ev_unit_kp': ['less sex', 'younger people', 'high sexual satisfaction'],\n",
       "  'kp_overlap': 1},\n",
       " {'adu': 'Hello! Let me preface by saying I dont believe there is a better sex.',\n",
       "  'adu_kp': ['better sex'],\n",
       "  'ev_unit': \"It's worth noting that these study results come from a small sample of the population, and it shouldn't be the standard for how much sex we should be having.\",\n",
       "  'ev_unit_kp': ['study results', 'much sex', 'small sample'],\n",
       "  'kp_overlap': 1},\n",
       " {'adu': 'Hello! Let me preface by saying I dont believe there is a better sex.',\n",
       "  'adu_kp': ['better sex'],\n",
       "  'ev_unit': \"However, there is plenty of research that backs up the claim that sex is great for one's health, so the more you get busy, the better!Also on HuffPost: None, The release of oxytocin during sex may have a calming effect on the body. 8.\",\n",
       "  'ev_unit_kp': ['sex', 'oxytocin', 'health'],\n",
       "  'kp_overlap': 1},\n",
       " {'adu': 'Hello! Let me preface by saying I dont believe there is a better sex.',\n",
       "  'adu_kp': ['better sex'],\n",
       "  'ev_unit': \"A sharper memoryFrequent sex may improve women's memories.\",\n",
       "  'ev_unit_kp': ['sharper memoryfrequent sex', 'memories', 'women'],\n",
       "  'kp_overlap': 1},\n",
       " {'adu': 'Hello! Let me preface by saying I dont believe there is a better sex.',\n",
       "  'adu_kp': ['better sex'],\n",
       "  'ev_unit': 'Scientists at McGill University in Canada found women who had recently had sex were better able to remember abstract words in a word-memory task.',\n",
       "  'ev_unit_kp': ['abstract words', 'sex', 'word'],\n",
       "  'kp_overlap': 1},\n",
       " {'adu': 'Hello! Let me preface by saying I dont believe there is a better sex.',\n",
       "  'adu_kp': ['better sex'],\n",
       "  'ev_unit': 'Sex therapist Dr Madeleine Castellanos said lovemaking is more fulfilling for single men and women in their 60s because they are experienced, they know what they want and are free to explore the dimensions of their sexuality.',\n",
       "  'ev_unit_kp': ['sexuality',\n",
       "   'sex therapist dr madeleine castellanos',\n",
       "   'single men'],\n",
       "  'kp_overlap': 1},\n",
       " {'adu': 'Hello! Let me preface by saying I dont believe there is a better sex.',\n",
       "  'adu_kp': ['better sex'],\n",
       "  'ev_unit': 'In fact, a study published by National Commission on Aging found women, in particular, said sex in their 70s was at least as satisfying or more satisfying physically than it was in their 40s., The Australian sex worker: “I was disgusted that he would equate sex with his wife with ‘taking one for the team’. “I was further disgusted by the way he gaslit his wife when she was firmly in the right.',\n",
       "  'ev_unit_kp': ['australian sex worker', '70s', 'aging'],\n",
       "  'kp_overlap': 1},\n",
       " {'adu': 'Hello! Let me preface by saying I dont believe there is a better sex.',\n",
       "  'adu_kp': ['better sex'],\n",
       "  'ev_unit': 'Jake: This Better Not Bite Me in the Ass, name of your sex tape.',\n",
       "  'ev_unit_kp': ['sex tape', 'jake', 'ass'],\n",
       "  'kp_overlap': 1}]"
      ]
     },
     "execution_count": 562,
     "metadata": {},
     "output_type": "execute_result"
    }
   ],
   "source": [
    "### OVERLAP RANKED EVIDENCE ###\n",
    "\n",
    "adu_ev_overlap.sort(key=lambda y: y[\"kp_overlap\"], reverse=True)\n",
    "adu_ev_overlap\n",
    "\n",
    "### FILTER IRRELEVANT EVIDENCE ###\n",
    "overlapping = [i for i in adu_ev_overlap if i[\"kp_overlap\"] !=0]\n",
    "\n",
    "len(adu_ev_overlap), len(overlapping)\n",
    "overlapping\n"
   ]
  },
  {
   "cell_type": "code",
   "execution_count": 614,
   "metadata": {},
   "outputs": [
    {
     "ename": "ModuleNotFoundError",
     "evalue": "No module named 'detection'",
     "output_type": "error",
     "traceback": [
      "\u001b[0;31m---------------------------------------------------------------------------\u001b[0m",
      "\u001b[0;31mModuleNotFoundError\u001b[0m                       Traceback (most recent call last)",
      "\u001b[1;32m/Users/joshua.sheppard/PycharmProjects/counta_bot_e2e/counta_bot/retriever/ranker_retriever.ipynb Cell 12\u001b[0m in \u001b[0;36m<cell line: 2>\u001b[0;34m()\u001b[0m\n\u001b[1;32m      <a href='vscode-notebook-cell:/Users/joshua.sheppard/PycharmProjects/counta_bot_e2e/counta_bot/retriever/ranker_retriever.ipynb#X66sZmlsZQ%3D%3D?line=0'>1</a>\u001b[0m \u001b[39m### ASSERT SAME STANCE ###\u001b[39;00m\n\u001b[0;32m----> <a href='vscode-notebook-cell:/Users/joshua.sheppard/PycharmProjects/counta_bot_e2e/counta_bot/retriever/ranker_retriever.ipynb#X66sZmlsZQ%3D%3D?line=1'>2</a>\u001b[0m \u001b[39mfrom\u001b[39;00m \u001b[39mdetection\u001b[39;00m\u001b[39m.\u001b[39;00m\u001b[39mstance_classifier\u001b[39;00m \u001b[39mimport\u001b[39;00m sentence_stance, compare_stance\n\u001b[1;32m      <a href='vscode-notebook-cell:/Users/joshua.sheppard/PycharmProjects/counta_bot_e2e/counta_bot/retriever/ranker_retriever.ipynb#X66sZmlsZQ%3D%3D?line=3'>4</a>\u001b[0m \u001b[39m# TODOs: Ensure KPs Extracts are constrained to 1 unit\u001b[39;00m\n\u001b[1;32m      <a href='vscode-notebook-cell:/Users/joshua.sheppard/PycharmProjects/counta_bot_e2e/counta_bot/retriever/ranker_retriever.ipynb#X66sZmlsZQ%3D%3D?line=4'>5</a>\u001b[0m opposing_stance \u001b[39m=\u001b[39m []\n",
      "\u001b[0;31mModuleNotFoundError\u001b[0m: No module named 'detection'"
     ]
    }
   ],
   "source": [
    "### ASSERT SAME STANCE ###\n",
    "from detection.stance_classifier import sentence_stance, compare_stance\n",
    "\n",
    "# TODOs: Ensure KPs Extracts are constrained to 1 unit\n",
    "opposing_stance = []\n",
    "for i in overlapping:\n",
    "    adu = i[\"adu\"]\n",
    "    target = \" \".join(i for i in i[\"adu_kp\"])\n",
    "    ev_unit = i[\"ev_unit\"]\n",
    "\n",
    "    print(ev_unit)\n",
    "    ev_stance = compare_stance(ev_unit, ev_aspect, target)\n",
    "    adu_stance = sentence_stance(adu, target)\n",
    "    \n",
    "    if ev_stance != adu_stance:\n",
    "        opposing_stance.append((ev_unit, ev_stance, adu_stance))\n",
    "\n",
    "    else: continue\n"
   ]
  },
  {
   "cell_type": "code",
   "execution_count": 613,
   "metadata": {},
   "outputs": [
    {
     "name": "stdout",
     "output_type": "stream",
     "text": [
      "PRO\n",
      "PRO\n"
     ]
    }
   ],
   "source": [
    "# import spacy\n",
    "# from spacy.matcher import PhraseMatcher\n",
    "# from fuzzywuzzy import fuzz, process\n",
    "\n",
    "# # TODOs: Package as a Module\n",
    "# # TODOs: Handle Negation (Polarity shifters)\n",
    "# # TODOs: Review Unsuperived Approach; Consider adveanced patterns and common-sence knowledge\n",
    "\n",
    "# nlp = spacy.load(\"en_core_web_sm\")\n",
    "\n",
    "# sentence = \"I hate abortion rights. Abortions should be banned.\"\n",
    "# sentence_2 = \"I like abortion rights. I belive we should keep them.\"\n",
    "# sentence_3 = \"I hate tennis. People should play tennis more often\"\n",
    "\n",
    "# ### STANCE SCORING ###\n",
    "\n",
    "# # TODOs: https://www.cs.uic.edu/~liub/FBS/opinion-mining-final-WSDM.pdf \n",
    "# # TODOs: Pattern based Negation\n",
    "# # TODOs: Semantic Orientation of an opinion (Claim)\n",
    "# # TODOs:Group synonyms of 'features', 'targets'\n",
    "\n",
    "# phrase_matcher = PhraseMatcher(nlp.vocab)\n",
    "\n",
    "# ### SENTIMENT LEXICONS ###\n",
    "# pos = [w.replace(\"\\n\", \"\") for w in open(\"../../data/lexicon/positive_lex.txt\")]\n",
    "# neg = [w.replace(\"\\n\", \"\") for w in open(\"../../data/lexicon/negative_lex.txt\")]\n",
    "# polarity_shifters = [w.replace(\"\\n\", \"\") for w in open(\"../../data/lexicon/shifter_lexicon.txt\")]\n",
    "\n",
    "# ### STANCE: ASPECT-SEMANTIC ORIENTATION ###\n",
    "# def extract_aspect(sentence, n_gram):\n",
    "#     aspects = extract_keyphrase(str(sentence))[0]\n",
    "\n",
    "#     return nlp(aspects)\n",
    "\n",
    "# def index_aspect(phrase, aspect, sentence):    \n",
    "#     patterns = [nlp(aspect)]\n",
    "#     phrase_matcher.add(phrase, None, *patterns)\n",
    "\n",
    "#     start = 0\n",
    "#     stop = 0\n",
    "\n",
    "#     matched_phrases = phrase_matcher(sentence)\n",
    "#     for i in matched_phrases:\n",
    "#         _, start, stop = i\n",
    "        \n",
    "#     return start, stop\n",
    "\n",
    "# # TODOs: Implement Polarity Shifters, Simple\n",
    "# # TODOs: Implement Polarity Shifters, Complex, Verb Patterns\n",
    "# def stance_score(start, stop, sentence):\n",
    "#     pos_score = 0.0\n",
    "#     neg_score = 0.0\n",
    "\n",
    "#     score = 0\n",
    "#     for idx, tok in enumerate(sentence):\n",
    "#         if idx == start or idx == stop:\n",
    "#             continue\n",
    "\n",
    "#         # TODOs: Implement Polarity Shift\n",
    "#         # TODOs: Experiement with descriptive term + keyphrase aspects\n",
    "#         # TODOs: ABSA https://www.kaggle.com/code/phiitm/aspect-based-sentiment-analysis\n",
    "#         # Use external libaray: Textblob\n",
    "        \n",
    "#         k = 8\n",
    "#         # Negation Rules\n",
    "#         shifted_tok = None\n",
    "#         shifted_toks = []\n",
    "\n",
    "#         if (tok.dep_ == \"neg\") or (tok.dep_ in polarity_shifters):\n",
    "#             #Shift to Negative\n",
    "#             if idx <= k:\n",
    "#                 if idx < start: neg_score += 1/(start - idx)\n",
    "#                 else: neg_score += 1/(idx - stop)**0.5\n",
    "\n",
    "#             if shifted_tok != None and shifted_tok in neg:\n",
    "#                 print(shifted_tok.text)\n",
    "#                 # Shift to Positive\n",
    "#                 if idx < start: pos_score += 1/(start - idx)\n",
    "#                 elif idx > start: pos_score += 1/(idx - stop)**0.5\n",
    "#                 else: continue\n",
    "\n",
    "#         # Aspect Sentement Orientation\n",
    "#         if tok.text in pos:\n",
    "#             if tok in shifted_toks:\n",
    "#                 continue\n",
    "            \n",
    "#             if idx < start: pos_score += 1/(start - idx)\n",
    "#             else: pos_score += 1/(idx - stop)**0.5\n",
    "\n",
    "#         if tok.text in neg:\n",
    "#             if tok in shifted_toks:\n",
    "#                 continue\n",
    "\n",
    "#             if idx <= start: neg_score += 1/(start - idx)\n",
    "#             else: neg_score += 1/(idx - stop)**0.5\n",
    "    \n",
    "#     score = pos_score - neg_score /(pos_score + neg_score + 1)\n",
    "\n",
    "#     return score\n",
    "\n",
    "# def overlap_score(evidence_kp, adu_kp):\n",
    "#     score = 0\n",
    "    \n",
    "#     # Split Keyphrase into components, scoring partial units as overlap\n",
    "#     for i in evidence_kp:\n",
    "#         for j in i.split():\n",
    "#             # Ensure string value, to enact .find\n",
    "#             if \" \".join(adu_kp).find(j) != -1: \n",
    "#                 score += 1\n",
    "#                 token = j\n",
    "            \n",
    "#             else: continue\n",
    "    \n",
    "#     return score\n",
    "\n",
    "# def get_overlapping_token(evidence_kp, adu_kp):\n",
    "#     for i in evidence_kp:\n",
    "#         overlap_tokens = []\n",
    "#         for j in i.split():\n",
    "#             if \" \".join(adu_kp).find(j) != -1: \n",
    "#                 overlap_tokens.append(j) \n",
    "            \n",
    "#         return \" \".join(i for i in overlap_tokens)\n",
    "\n",
    "# def sentence_stance(sentence, aspect):\n",
    "#     sentence = nlp(sentence)\n",
    "\n",
    "#     start, stop = index_aspect(\"aspects\", aspect, sentence)\n",
    "#     score = stance_score(start, stop, sentence)\n",
    "\n",
    "#     # Add Neutral\n",
    "#     #stance = {\"claim\": sentence, \"stance\": \"PRO\", \"aspect\": aspect} if score > 0 else {\"claim\": sentence, \"stance\": \"CON\", \"aspect\": aspect}\n",
    "    \n",
    "#     return \"PRO\" if score > 0 else \"CON\"\n",
    "\n",
    "# def fuzzy_match(target, evidence_unit):\n",
    "\n",
    "#     overlapping_aspect = process.extractOne(target, ev.split())[0]\n",
    "#     score = overlapping_aspect[1]\n",
    "\n",
    "#     overlapping_aspect = nlp(re.sub(r'[^\\w]', ' ', overlapping_aspect))\n",
    "\n",
    "#     return overlapping_aspect, score\n",
    "\n",
    "# def compare_stance(ev_unit, evidence_aspect, adu_target):\n",
    "#     # Note: Already identified mathcing or partially matching Aspects. \n",
    "\n",
    "#     # Get the overlapping evidence aspect-target.\n",
    "#     overlapping_target, score = fuzzy_match(target=adu_aspect, evidence_unit=ev)\n",
    "    \n",
    "#     # Get position of the overlapping_target\n",
    "#     start, stop = index_aspect(\"OVERLAP\", nlp(overlapping_target), nlp(ev_unit))\n",
    "\n",
    "#     # Assert Stance towards evidence aspect\n",
    "#     score = stance_score(start, stop, nlp(ev_unit))\n",
    "    \n",
    "#     return \"PRO\" if score > 0 else \"CON\"\n",
    "\n",
    "# ev = \"These simple ideas and techniques could help both you and your lover enjoy sex. 1 / 10 Getty Images/Caiaimage Think beyond the thrust.\"\n",
    "# ev_aspect = \"sex\", \"relationship\", \"opportunity\"\n",
    "\n",
    "# adu = 'Hello! Let me preface by saying I dont believe there is a better sex.'\n",
    "# adu_aspect = \"better sex\"\n",
    "\n",
    "# print(sentence_stance(\"The mutual trust and understanding you share with your partner will lead to better sex, but that's not the only reason sex can be better when you're not in a relationship.\", adu_aspect))\n",
    "# print(compare_stance(ev, ev_aspect, adu_aspect))\n"
   ]
  },
  {
   "cell_type": "code",
   "execution_count": 560,
   "metadata": {},
   "outputs": [
    {
     "data": {
      "text/plain": [
       "[('None, Jake: This Better Not Bite Me in the Ass, name of your sex tape.',\n",
       "  'CON',\n",
       "  'PRO'),\n",
       " ('In fact, a study published by National Commission on Aging found women, in particular, said sex in their 70s was at least as satisfying or more satisfying physically than it was in their 40s., The Australian sex worker: “I was disgusted that he would equate sex with his wife with ‘taking one for the team’. “I was further disgusted by the way he gaslit his wife when she was firmly in the right.',\n",
       "  'CON',\n",
       "  'PRO'),\n",
       " ('Jake: This Better Not Bite Me in the Ass, name of your sex tape.',\n",
       "  'CON',\n",
       "  'PRO')]"
      ]
     },
     "execution_count": 560,
     "metadata": {},
     "output_type": "execute_result"
    }
   ],
   "source": [
    "opposing_stance"
   ]
  },
  {
   "cell_type": "code",
   "execution_count": 561,
   "metadata": {},
   "outputs": [
    {
     "data": {
      "text/plain": [
       "[('None, Jake: This Better Not Bite Me in the Ass, name of your sex tape.',\n",
       "  'CON',\n",
       "  'PRO')]"
      ]
     },
     "execution_count": 561,
     "metadata": {},
     "output_type": "execute_result"
    }
   ],
   "source": [
    "k = 1\n",
    "top_k = opposing_stance[0:k]\n",
    "\n",
    "top_k"
   ]
  },
  {
   "cell_type": "code",
   "execution_count": 597,
   "metadata": {},
   "outputs": [
    {
     "name": "stdout",
     "output_type": "stream",
     "text": [
      "sex\n"
     ]
    },
    {
     "data": {
      "text/plain": [
       "[['Let', 'preface', 'saying', 'nt', 'believe', 'better'],\n",
       " ['Let', 'preface', 'saying', 'nt', 'believe', 'better']]"
      ]
     },
     "execution_count": 597,
     "metadata": {},
     "output_type": "execute_result"
    }
   ],
   "source": [
    "test_1 = \"Let me preface by saying I dont believe there is not a better sex.'\"\n",
    "\n",
    "description = []\n",
    "for tok in nlp(test_1):\n",
    "\n",
    "    if tok.text == \"sex\":\n",
    "        print(tok.text)\n",
    "        aspect = tok\n",
    "        \n",
    "        for child in aspect.children:\n",
    "            description.append([child.text for child in i if (not child.is_stop and not child.is_punct and (child.pos_ == \"ADJ\" or child.pos_ == \"VERB\" or child.dep_ == \"neg\"))])\n",
    "\n",
    "        # for anc in aspect.ancestors:\n",
    "        #     description.append([anc.text for anc in i if (not anc.is_stop and not anc.is_punct and (anc.pos_ == \"ADJ\" or anc.pos_ == \"VERB\" or anc.dep_ == \"neg\"))])\n",
    "\n",
    "description"
   ]
  },
  {
   "cell_type": "code",
   "execution_count": 505,
   "metadata": {},
   "outputs": [
    {
     "data": {
      "text/plain": [
       "[]"
      ]
     },
     "execution_count": 505,
     "metadata": {},
     "output_type": "execute_result"
    }
   ],
   "source": [
    "# from spacy.matcher import DependencyMatcher, Matcher\n",
    "# matcher = Matcher(vocab=nlp.vocab)\n",
    "# matcher\n",
    "\n",
    "# # Matching Rule: Pronouns with Verbs that follow them\n",
    "# aspect = \"better sex\"\n",
    "# patterns = [\n",
    "#     [{\"DEP\": \"neg\"}, {\"LOWER\": aspect}],\n",
    "#     [{\"DEP\": \"neg\"}, {\"POS\": \"ADJ\"}, {\"LOWER\": aspect}],\n",
    "#     [{\"POS\": \"VERB\"}, {\"POS\": \"ADJ\"}, {\"LOWER\": aspect}],\n",
    "#     [{\"LOWER\": aspect.lower()}]\n",
    "# ]\n",
    "\n",
    "# test = nlp(\"Hello! Let me preface by saying I dont believe there is a not better sex.\")\n",
    "# test_2 = nlp(\"These simple ideas and techniques could help both you and your lover enjoy better sex.\")\n",
    "\n",
    "# matcher.add(\"test\", patterns=patterns)\n",
    "# result = matcher(test_2, as_spans=True)\n",
    "\n",
    "# result\n",
    "\n",
    "# # for tok in test:\n",
    "# #     print(tok.i, tok, tok.pos_, tok.dep_, tok.head.i, sep=\"\\t\")"
   ]
  },
  {
   "cell_type": "code",
   "execution_count": 485,
   "metadata": {},
   "outputs": [
    {
     "name": "stdout",
     "output_type": "stream",
     "text": [
      "believe ccomp saying VERB [I, do, nt, is]\n",
      "better amod sex NOUN [not]\n"
     ]
    }
   ],
   "source": [
    "# negation_tokens = [tok for tok in test if tok.dep_ == 'neg']\n",
    "# negation_head_tokens = [token.head for token in negation_tokens]\n",
    "\n",
    "# for token in negation_head_tokens:\n",
    "#     print(token.text, token.dep_, token.head.text, token.head.pos_, [child for child in token.children])"
   ]
  },
  {
   "cell_type": "code",
   "execution_count": 466,
   "metadata": {},
   "outputs": [
    {
     "name": "stdout",
     "output_type": "stream",
     "text": [
      "nsubj_verb \t m ...   ... d\n",
      "nsubj_verb_dobj \t m ...   ... d\n"
     ]
    }
   ],
   "source": [
    "# from spacy.matcher import DependencyMatcher\n",
    "\n",
    "# doc = \"These simple ideas and techniques could help both you and your lover enjoy better sex. \"\n",
    "\n",
    "# dep_matcher = DependencyMatcher(vocab=nlp.vocab)\n",
    "# dep_pattern = [{'RIGHT_ID': 'verb', 'RIGHT_ATTRS': {'POS': 'VERB'}},\n",
    "#                  {'LEFT_ID': 'verb', 'REL_OP': '>', 'RIGHT_ID': 'subject', 'RIGHT_ATTRS': {'DEP': 'nsubj'}},\n",
    "#                  {'LEFT_ID': 'verb', 'REL_OP': '>', 'RIGHT_ID': 'd_object', 'RIGHT_ATTRS': {'DEP': 'dobj'}}\n",
    "#                 ]\n",
    "\n",
    "# # Add the pattern to the matcher under the name 'nsubj_verb'\n",
    "# dep_matcher.add('nsubj_verb', patterns=[dep_pattern])\n",
    "\n",
    "# # Apply the DependencyMatcher to the Doc object under 'doc'; Store the result \n",
    "# # under the variable 'dep_matches'.\n",
    "# dep_matcher.add('nsubj_verb_dobj', patterns=[dep_pattern])\n",
    "\n",
    "# # Call the variable to examine the output\n",
    "# dep_matches = dep_matcher(nlp(doc))\n",
    "\n",
    "# for match in dep_matches:\n",
    "    \n",
    "#     # Take the first item in the tuple at [0] and assign it under\n",
    "#     # the variable 'pattern_name'. This item is a spaCy Lexeme object.\n",
    "#     pattern_name = match[0]\n",
    "    \n",
    "#     # Take the second item in the tuple at [1] and assign it under\n",
    "#     # the variable 'matches'. This is a list of indices referring to the\n",
    "#     # Doc object under 'doc' that we just matched.\n",
    "#     matches = match[1]\n",
    "\n",
    "#     # Because we now have two patterns for matching which return lists of\n",
    "#     # different length, e.g. lists with two indices for 'nsubj_verb' and\n",
    "#     # lists with three indices for 'nsubj_verb_dobj', we must now define\n",
    "#     # conditional criteria for handling these lists.\n",
    "#     if len(matches) > 2:\n",
    "        \n",
    "#         # Let's unpack the matches list into variables for clarity\n",
    "#         verb, subject, dobject = matches[0], matches[1], matches[2]\n",
    "    \n",
    "#         # Print the matches by first fetching the name of the pattern from the \n",
    "#         # Vocabulary object. Next, use the 'subject' and 'verb' variables to \n",
    "#         # index the Doc object. This gives us the actual Tokens matched. Use a\n",
    "#         # tabulator ('\\t') and some stops ('...') to separate the output.\n",
    "#         print(nlp.vocab[pattern_name].text, '\\t', doc[subject], '...', doc[verb], '...', doc[dobject])\n",
    "        \n",
    "#     # Alternative condition with just two items in the list.\n",
    "#     else:\n",
    "        \n",
    "#         # Let's unpack the matches list into variables for clarity\n",
    "#         verb, subject = matches\n",
    "    \n",
    "#         # Print the matches by first fetching the name of the pattern from the \n",
    "#         # Vocabulary object. Next, use the 'subject' and 'verb' variables to \n",
    "#         # index the Doc object. This gives us the actual Tokens matched. Use a\n",
    "#         # tabulator ('\\t') and some stops ('...') to separate the output.\n",
    "#         print(nlp.vocab[pattern_name].text, '\\t', doc[subject], '...', doc[verb])\n",
    "\n"
   ]
  },
  {
   "cell_type": "code",
   "execution_count": 7,
   "metadata": {},
   "outputs": [],
   "source": [
    "#     pos_score = 0.0\n",
    "#     neg_score = 0.0\n",
    "\n",
    "#     # Pattern Match\n",
    "#     phrase_matcher = PhraseMatcher(nlp.vocab)\n",
    "\n",
    "    # compound_words = []    \n",
    "    # for i in aspects:\n",
    "    #     compound_word = \"\"\n",
    "    #     if i.pos_ in [\"NOUN\", \"PROPN\"]:\n",
    "    #         comps = \"\".join([str(j) for j in i.children if j.dep_ == \"compound\"])\n",
    "    #         if comps:\n",
    "    #             compound_word = comps + \" \" + str(i)\n",
    "    #             compound_words.append(compound_word)\n",
    "\n",
    "    # aspects_ = []\n",
    "    # aspects_.extend(compound_words)\n",
    "    # aspects_.extend(aspects)\n",
    "\n",
    "#     for idx, tok in enumerate(sentence):\n",
    "\n",
    "#         if idx == start or idx == stop - 1:\n",
    "#             continue\n",
    "\n",
    "#         # Polarity Shift\n",
    "#         # NEAR parameter, k\n",
    "#         k = 5\n",
    "#         if tok.dep_ == \"neg\":\n",
    "#             if tok.text in pos:\n",
    "#                 # Shift to Negative\n",
    "#                 if idx <= k:\n",
    "#                     if idx < start: neg_score += 1/(start - idx)\n",
    "#                     else: neg_score += 1/(idx - stop)**0.5\n",
    "        \n",
    "#             if str(tok.head.text) in neg:\n",
    "#                 # Shift to Positive\n",
    "#                 if idx < start: pos_score += 1/(start - idx)\n",
    "#                 else: pos_score += 1/(idx - stop)**0.5\n",
    "\n",
    "#         if str(tok.text) in pos:\n",
    "#             if idx < start: pos_score += 1/(start - idx)\n",
    "#             else: pos_score += 1/(idx - stop)**0.5\n",
    "\n",
    "#         if str(tok.text) in neg:\n",
    "#             if idx < start: neg_score += 1/(start - idx)\n",
    "#             else: neg_score += 1/(idx - stop)**0.5\n",
    "\n",
    "#     result = pos_score - neg_score /(pos_score - neg_score + 1)\n",
    "#     stance = \"\"\n",
    "\n",
    "#     neg_score, pos_score\n",
    "#     stance = {\"claim\": sentence, \"stance\": \"PRO\", \"aspect\": aspect} if result > 0 else {\"claim\": sentence, \"stance\": \"CON\", \"aspect\": aspect}\n",
    "\n",
    "#     return stance\n",
    "\n",
    "# ### TEST STATEMENT ###\n",
    "\n",
    "# id = random.randint(0, 1000)\n",
    "# claim =  nlp(\"I do not believe abortion should be legal\")\n",
    "\n",
    "# print(sentence_stance(claim))\n",
    "\n"
   ]
  },
  {
   "cell_type": "code",
   "execution_count": null,
   "metadata": {},
   "outputs": [],
   "source": [
    "# print(kp)\n",
    "\n",
    "# def count(string, substring):\n",
    "#     n = len(substring)\n",
    "#     cnt = 0\n",
    "#     for i in range(len(string) - n):\n",
    "#         if string[i:i+n] == substring:\n",
    "#             cnt += 1\n",
    "#     return cnt\n",
    "\n",
    "# def hasIntersection(a, b):\n",
    "#         score = 0\n",
    "#         a = set(a) \n",
    "#         b = set(b)\n",
    "#         if a.intersection(b):\n",
    "#             score += 1\n",
    "\n",
    "#         return score\n",
    "\n",
    "# def overlap_score(count_kp):\n",
    "#     score = 0\n",
    "\n",
    "#     for i in count_kp:\n",
    "#         score += count(sent_kps, count_kp)\n",
    "\n",
    "#     return score\n",
    "\n",
    "# scores = []\n",
    "# for sent in merged_sentences:\n",
    "#     if sent:\n",
    "#         # TODOs: Try-Catch, Handel Errors\n",
    "#         kp = [i for i in extract_keyphrase(sent, n_kp=3)]\n",
    "#         scores.append((kp, overlap_score(kp)))\n",
    "\n",
    "# print(sent_kps)\n",
    "# scores"
   ]
  },
  {
   "cell_type": "code",
   "execution_count": 59,
   "metadata": {},
   "outputs": [
    {
     "name": "stdout",
     "output_type": "stream",
     "text": [
      "view, arguments, logic, line\n"
     ]
    }
   ],
   "source": [
    "# print(sent_kp)"
   ]
  },
  {
   "cell_type": "code",
   "execution_count": null,
   "metadata": {},
   "outputs": [],
   "source": [
    "### ATTACKING PEMISES ###\n",
    "\n",
    "# from BERT_adu_classifier import predict\n",
    "\n",
    "# premises = []\n",
    "# for sent in sentences:\n",
    "#     prediction = predict(sent)\n",
    "    \n",
    "#     if prediction == \"premise\":\n",
    "#         premises.append(sent)"
   ]
  },
  {
   "cell_type": "code",
   "execution_count": 26,
   "metadata": {},
   "outputs": [
    {
     "name": "stderr",
     "output_type": "stream",
     "text": [
      "INFO:elastic_transport.transport:POST http://localhost:9200/news_cc/_search [status:200 duration:0.367s]\n"
     ]
    },
    {
     "data": {
      "text/plain": [
       "[{'argument_sentence': 'Fuck Islam and Fuck ISIS. We should repatriate all Muslims. They are all a bunch of violent criminals who do not share our values and never will. Without them Britain will be a better, safer place.',\n",
       "  'query': 'fuck isis repatriate muslims',\n",
       "  'retireved_documents': ['‘Assalamu Alaykom:’ peace be upon you',\n",
       "   'How We Got to Here: A Charlottesville Reading List',\n",
       "   'De-radicalization can work for former ISIS fighters',\n",
       "   'How to Get Assyrians to Stay',\n",
       "   'How to Get Christians to Stay']}]"
      ]
     },
     "execution_count": 26,
     "metadata": {},
     "output_type": "execute_result"
    }
   ],
   "source": [
    "# # Argument Level\n",
    "\n",
    "# results = []\n",
    "\n",
    "# _ = 90\n",
    "# hate_ = sample_hate[0][\"conan\"][_][\"hateSpeech\"]\n",
    "\n",
    "# # queries = []\n",
    "# # sentences = re.split(r'(?<!\\w\\.\\w.)(?<![A-Z][a-z]\\.)(?<=\\.|\\?)\\s', hate_)\n",
    "\n",
    "# results = []\n",
    "\n",
    "# # TODOs: Refactor key_BERT as Class for multiple oututs\n",
    "# #kp_ = (exctract_keyphrase(hate_, n_gram=1, n_kp=1), exctract_keyphrase(hate_, n_gram=2, n_kp=1), exctract_keyphrase(hate_, n_gram=3, n_kp=1))\n",
    "\n",
    "# kp_ = (exctract_keyphrase(hate_, n_gram=5, n_kp=1))\n",
    "\n",
    "# query = \" ,\".join(i for i in kp_)\n",
    "# query\n",
    "\n",
    "# res = [i[\"_source\"][\"document\"][\"title\"] for i in news_db.search(query_=query, k=5)]\n",
    "\n",
    "# results.append({\n",
    "#     \"argument_sentence\": hate_, \n",
    "#     \"query\": query, \n",
    "#     \"retireved_documents\": res,\n",
    "\n",
    "# })\n",
    "\n",
    "# results\n"
   ]
  },
  {
   "cell_type": "code",
   "execution_count": 27,
   "metadata": {},
   "outputs": [
    {
     "name": "stderr",
     "output_type": "stream",
     "text": [
      "INFO:elastic_transport.transport:POST http://localhost:9200/knowledge/_search [status:200 duration:0.249s]\n"
     ]
    },
    {
     "data": {
      "text/plain": [
       "[{'argument_sentence': 'Fuck Islam and Fuck ISIS. We should repatriate all Muslims. They are all a bunch of violent criminals who do not share our values and never will. Without them Britain will be a better, safer place.',\n",
       "  'query': 'fuck isis repatriate muslims',\n",
       "  'retireved_documents': ['Refuting ISIS',\n",
       "   'Refuting ISIS',\n",
       "   'Take Off (2017 film)',\n",
       "   'Terrorism in India',\n",
       "   'Tareq Kamleh']}]"
      ]
     },
     "execution_count": 27,
     "metadata": {},
     "output_type": "execute_result"
    }
   ],
   "source": [
    "# results = []\n",
    "# res = [i[\"_source\"][\"document\"][\"title\"] for i in wiki_db.search(query_=query, k=5)]\n",
    "\n",
    "# results.append({\n",
    "#     \"argument_sentence\": hate_, \n",
    "#     \"query\": query, \n",
    "#     \"retireved_documents\": res,\n",
    "\n",
    "# })\n",
    "\n",
    "# results"
   ]
  },
  {
   "cell_type": "code",
   "execution_count": null,
   "metadata": {},
   "outputs": [
    {
     "data": {
      "text/plain": [
       "[{'_index': 'knowledge',\n",
       "  '_id': 'kbZa5YIBRqC1428DaQUk',\n",
       "  '_score': 33.672318,\n",
       "  '_ignored': ['document.text.keyword'],\n",
       "  '_source': {'document': {'id': '3408791',\n",
       "    'source': 'wikipedia',\n",
       "    'title': 'Ruling party',\n",
       "    'text': \"In parliamentary systems, the majority in the legislature also controls the executive branch of government, thus leaving no possibility of opposing parties concurrently occupying the executive and legislative branches of government. In other systems, such as in an American style presidential system, the party of the president does not necessarily also have a legislative majority. A 'ruling party' is also used to describe the party of one-party states, such as the Chinese Communist Party in the People's Republic of China. In his political manifesto 'The Green Book', the late Libyan leader Muammar al-Gaddafi attacked the ability of the ruling party, using it as a basis for his opposition to partisan politics. None\"}}},\n",
       " {'_index': 'knowledge',\n",
       "  '_id': 'JQ3H5YIBRqC1428Dnwum',\n",
       "  '_score': 33.24501,\n",
       "  '_ignored': ['document.text.keyword'],\n",
       "  '_source': {'document': {'id': '8622040',\n",
       "    'source': 'wikipedia',\n",
       "    'title': 'Fusion of powers',\n",
       "    'text': 'Fusion of powers is a feature of some parliamentary forms of government where different branches of government are intermingled, typically the executive and legislative branches. It is contrasted with the separation of powers found in presidential, semi-presidential and dualistic parliamentary forms of government, where the membership of the legislative and executive powers cannot overlap. Fusion of powers exists in many, if not a majority of, parliamentary democracies, and does so by design. However, in all modern democratic polities the judiciary does not possess legislative or executive powers. The system first arose as a result of political evolution in the United Kingdom over many centuries, as the powers of the monarch became constrained by Parliament.'}}},\n",
       " {'_index': 'knowledge',\n",
       "  '_id': 'OUcA5YIBRqC1428D6vvb',\n",
       "  '_score': 32.941406,\n",
       "  '_ignored': ['document.text.keyword'],\n",
       "  '_source': {'document': {'id': '18988566',\n",
       "    'source': 'wikipedia',\n",
       "    'title': 'Student governments in the United States',\n",
       "    'text': 'Structures. Many student governments are structured similarly to the federal government of the United States, consisting of distinct executive, legislative, and judicial branches. These structures often include elements which are not found in the federal government (e.g. legislative veto, programming branches, initiative, recall, referendum). Just like the federal government, these governments have the trappings of a presidential system, with a separation of powers between branches and a presidential veto. This is by far the most common type of structure, and is found in model student government constitutions and by-laws.'}}}]"
      ]
     },
     "execution_count": 10,
     "metadata": {},
     "output_type": "execute_result"
    }
   ],
   "source": [
    "# #queries\n",
    "# query = \"the executive the presidential system legislative branches partisan unproductive\"\n",
    "# res = search_text(wiki_ev, query_=query, k=3)\n",
    "# res"
   ]
  },
  {
   "cell_type": "code",
   "execution_count": null,
   "metadata": {},
   "outputs": [
    {
     "name": "stdout",
     "output_type": "stream",
     "text": [
      "Ruling party, Fusion of powers, Student governments in the United States\n"
     ]
    }
   ],
   "source": [
    "# import re\n",
    "\n",
    "# print(\", \".join(re.sub(r'\\[\\[(?:[^|\\]]*\\|)?([^\\]]*)]]', \"\", i[\"_source\"][\"document\"][\"title\"]).strip(\"[]\") for i in res))"
   ]
  },
  {
   "cell_type": "code",
   "execution_count": null,
   "metadata": {},
   "outputs": [],
   "source": [
    "# ### TEST SEARCH ###\n",
    "\n",
    "# def search_text(es, query_, k=5):\n",
    "#     results = es.search(\n",
    "#         index = es.elastic_index,\n",
    "#         query = {\n",
    "#             \"match\": {\n",
    "#                 \"document.text\": query_,\n",
    "#                 },\n",
    "#         },\n",
    "#         size=k)\n",
    "\n",
    "#     hits = results[\"hits\"][\"hits\"]\n",
    "#     doc_ids = [row['_source'][\"document\"][\"id\"] for row in hits]\n",
    "\n",
    "#     return hits\n",
    "\n",
    "# def search_topic(es, topic, k=5):\n",
    "#     results = es.search(\n",
    "#         index = es.elastic_index,\n",
    "#         body= {\n",
    "#             \"size\": k,\n",
    "#             \"query\": {\n",
    "#                 \"match\": {\n",
    "#                     \"document.title\": topic,\n",
    "#         }}})\n",
    "\n",
    "#     hits = results[\"hits\"][\"hits\"]\n",
    "#     doc_ids = [row['_source'][\"document\"][\"id\"] for row in hits]\n",
    "\n",
    "#     title = hits[0][\"_source\"][\"document\"][\"title\"]\n",
    "#     text = hits[0][\"_source\"][\"document\"][\"text\"]\n",
    "\n",
    "#     return {\n",
    "#         \"title\": title,\n",
    "#         \"text\": text\n",
    "#     }\n",
    "\n",
    "# query = \"government emails\"\n",
    "# text = search_text(wiki_ev, query_=query, k=10)\n",
    "\n",
    "# print(text)\n"
   ]
  },
  {
   "cell_type": "code",
   "execution_count": null,
   "metadata": {},
   "outputs": [],
   "source": [
    "### SEARCH FUNCTION ###\n",
    "\n",
    "# TODOs: Implement as Class-DB object\n",
    "\n",
    "# def search_text(db, query_, k=5):\n",
    "#     results = db.search(\n",
    "#         index = es.elastic_index,\n",
    "#         query = {\n",
    "#             \"match\": {\n",
    "#                 \"document.text\": query_,\n",
    "#                 },\n",
    "#         },\n",
    "#         size=k)\n",
    "\n",
    "#     hits = results[\"hits\"][\"hits\"]\n",
    "#     doc_ids = [row['_source'][\"document\"][\"id\"] for row in hits]\n",
    "\n",
    "#     return hits"
   ]
  }
 ],
 "metadata": {
  "kernelspec": {
   "display_name": "vs_venv",
   "language": "python",
   "name": "vs_venv"
  },
  "language_info": {
   "codemirror_mode": {
    "name": "ipython",
    "version": 3
   },
   "file_extension": ".py",
   "mimetype": "text/x-python",
   "name": "python",
   "nbconvert_exporter": "python",
   "pygments_lexer": "ipython3",
   "version": "3.10.6"
  },
  "orig_nbformat": 4,
  "vscode": {
   "interpreter": {
    "hash": "1b747fec5972a5a28202124dfae2950631b4721a6e18efe99aaae23c73408484"
   }
  }
 },
 "nbformat": 4,
 "nbformat_minor": 2
}
