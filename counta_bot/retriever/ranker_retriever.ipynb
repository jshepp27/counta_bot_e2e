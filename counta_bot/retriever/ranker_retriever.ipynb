{
 "cells": [
  {
   "cell_type": "code",
   "execution_count": 103,
   "metadata": {},
   "outputs": [
    {
     "name": "stderr",
     "output_type": "stream",
     "text": [
      "INFO:utils.elastic_db:Connecting to http://localhost:9200 \n",
      "INFO:utils.elastic_db:Connected to <Elasticsearch(['http://localhost:9200'])> \n",
      "INFO:utils.elastic_db:Connecting to http://localhost:9200 \n",
      "INFO:utils.elastic_db:Connected to <Elasticsearch(['http://localhost:9200'])> \n"
     ]
    }
   ],
   "source": [
    "# TODOs: Operate DB Class\n",
    "# TODOs: Use SQLite\n",
    "# TODOs: Implement BM25\n",
    "\n",
    "import sys\n",
    "from pathlib import Path\n",
    "sys.path[0] = str(Path(sys.path[0]).parent)\n",
    "\n",
    "from utils.elastic_db import ElasticDB\n",
    "\n",
    "# INIT DB OBJECT\n",
    "PORT = \"http://localhost:9200\"\n",
    "INDEX_NAME = \"news_cc\"\n",
    "\n",
    "news_db = ElasticDB(elastic_port=PORT, elastic_index=INDEX_NAME)\n",
    "wiki_db = ElasticDB(elastic_port=PORT, elastic_index=\"knowledge\")"
   ]
  },
  {
   "cell_type": "code",
   "execution_count": 104,
   "metadata": {},
   "outputs": [],
   "source": [
    "### LOAD DATASETS ###\n",
    "import json\n",
    "\n",
    "data = [json.loads(ln) for ln in open(\"../../data/train_cmv_cleaned.jsonl\")]\n",
    "topics = [json.loads(ln) for ln in open(\"../../data/claim_topics.jsonl\")]\n",
    "\n",
    "ex_retrieval = [json.loads(ln) for ln in open(\"../../data/wiki_doc_retrieved_from_op_train.jsonlist\")]\n",
    "ex_ranked = [json.loads(ln) for ln in open(\"../../data/selected_evidence.jsonl\")]\n",
    "\n",
    "conan = [json.loads(ln) for ln in open(\"../../data/CONAN.json\")]"
   ]
  },
  {
   "cell_type": "code",
   "execution_count": 105,
   "metadata": {},
   "outputs": [
    {
     "data": {
      "text/plain": [
       "3456"
      ]
     },
     "execution_count": 105,
     "metadata": {},
     "output_type": "execute_result"
    }
   ],
   "source": [
    "len(data)"
   ]
  },
  {
   "cell_type": "code",
   "execution_count": 106,
   "metadata": {},
   "outputs": [
    {
     "data": {
      "text/plain": [
       "{'tid': 't3_5c8txh',\n",
       " 'retrieval_results': [{'retrieved_document_titles': ['François Bigot',\n",
       "    'Human cytomegalovirus',\n",
       "    'Congenital cytomegalovirus infection',\n",
       "    'Trophime Bigot',\n",
       "    'Cucumber mosaic virus'],\n",
       "   'query': 'cmv a xenophobic bigot a xenophobic bigot Knowingly',\n",
       "   'sentence': 'CMV : Knowingly voting for a xenophobic bigot makes you a xenophobic bigot yourself . '},\n",
       "  {'retrieved_document_titles': ['Donald Trump presidential campaign, 2016',\n",
       "    'Donald Trump',\n",
       "    'Political positions of Donald Trump',\n",
       "    'International reactions to the United States presidential election, 2016',\n",
       "    'United States presidential election, 2016'],\n",
       "   'query': 'trump premise sexist racist',\n",
       "   'sentence': 'Premise 1 : Trump is sexist , racist and bigoted in general . '},\n",
       "  {'retrieved_document_titles': ['Political positions of Donald Trump',\n",
       "    'Donald Trump presidential campaign, 2016',\n",
       "    'Theodor Plievier',\n",
       "    'Donald Trump',\n",
       "    'Legal affairs of Donald Trump'],\n",
       "   'query': 'premise trump actively',\n",
       "   'sentence': \"Premise 3 : helping a sexist/racist become president is actively supporting sexism/racism / ---------------------------------------------------------------------- / Conclusion : Every Trump-Voter is a sexist/racist From what I 've read so far many uneducated white males from rural areas voted for Trump . \"},\n",
       "  {'retrieved_document_titles': ['Vladimir Guerrero',\n",
       "    'Role congruity theory',\n",
       "    'Speciesism',\n",
       "    'Donald Trump presidential campaign, 2016',\n",
       "    'Aversive racism'],\n",
       "   'query': 'sexists my logic racists',\n",
       "   'sentence': 'From my logic I would see them all as racists and sexists . '},\n",
       "  {'retrieved_document_titles': ['Slut-shaming',\n",
       "    'Aversive racism',\n",
       "    \"So You've Been Publicly Shamed\",\n",
       "    'Online shaming',\n",
       "    'Donald Trump presidential campaign, 2016'],\n",
       "   'query': 'hand the other hand racists racists the political divide shaming shamed',\n",
       "   'sentence': \"On the one hand I will not stop shaming racists for being racists but on the other hand I 'm deeply convinced that the strong identity politics of the Democrats that shamed these group is exactly the wrong approach to closing the political divide in the country . \"},\n",
       "  {'retrieved_document_titles': ['Origins of the American Civil War',\n",
       "    'Hizb ut-Tahrir',\n",
       "    'Luxembourg compromise',\n",
       "    'Finnish Civil War',\n",
       "    'Compromise of 1850'],\n",
       "   'query': 'the political left compromise compromise',\n",
       "   'sentence': \"For example I agree with these two positions : -- URL -- and -- URL -- I do n't want to compromise with racists/sexists but at the same time I want the political left to compromise with racists/sexists . \"}]}"
      ]
     },
     "execution_count": 106,
     "metadata": {},
     "output_type": "execute_result"
    }
   ],
   "source": [
    "### SAMPLE OUTPUT ###\n",
    "import random\n",
    "\n",
    "# TODOs: Replicate Output, Passage Evidence Retrieval\n",
    "# TODOs: Replicate Output, Passage Ranking\n",
    "\n",
    "_ = random.randint(0, 1000)\n",
    "ranked = ex_ranked[_]\n",
    "retireval = ex_retrieval[_]\n",
    "\n",
    "retireval"
   ]
  },
  {
   "cell_type": "code",
   "execution_count": 37,
   "metadata": {},
   "outputs": [],
   "source": [
    "# TODOs: News Data\n",
    "# TODOs: Ranking\n",
    "# TODOs: Ranking, Cosine\n",
    "# TODOs: Research Evidence Retireval: Context Aware, Neural Retrieval\n",
    "# TODOs: Stance\n",
    "# TODOs: Target ADUs: Premises, Claims, discard non-ADUs, thus reducing noise over retreival \n",
    "\n",
    "# TODOs: Paralellise"
   ]
  },
  {
   "cell_type": "code",
   "execution_count": 129,
   "metadata": {},
   "outputs": [
    {
     "name": "stdout",
     "output_type": "stream",
     "text": [
      "90\n",
      "Recently in the news the C.I.A. and Bush administration have been under a lot of heat for torturing prisoners. In the grand scheme of things what are a few lives compared to the safety of thousands of others. The people they are torturing are a global threat its not out of patriotism that Im trying to justify this for the sake of protecting good old murica. I think the main argument against me would be that theres a chance that some of these people may be innocent. But if someone came up to me and said three other people and I need to be tortured because only one of us is a terrorist and its either the four of us or potentially thousands of others I would volunteer in a heartbeat. I am already well aware the government spends billions of dollars on military related things that the public has no idea about and Im okay with that because I understand that those are keeping us safe.I think my overall opinion is that its good to be a good person and cooperate with people but you also have to understand there are people who you cant negotiate with and you just have to kill or torture them.\n",
      "Recently in the news the C.I.A. and Bush administration have been under a lot of heat for torturing prisoners.\n"
     ]
    },
    {
     "name": "stderr",
     "output_type": "stream",
     "text": [
      "INFO:elastic_transport.transport:POST http://localhost:9200/news_cc/_search [status:200 duration:0.057s]\n",
      "INFO:elastic_transport.transport:POST http://localhost:9200/news_cc/_search [status:200 duration:0.005s]\n"
     ]
    },
    {
     "name": "stdout",
     "output_type": "stream",
     "text": [
      "In the grand scheme of things what are a few lives compared to the safety of thousands of others.\n"
     ]
    },
    {
     "name": "stderr",
     "output_type": "stream",
     "text": [
      "INFO:elastic_transport.transport:POST http://localhost:9200/news_cc/_search [status:200 duration:0.125s]\n",
      "INFO:elastic_transport.transport:POST http://localhost:9200/news_cc/_search [status:200 duration:0.011s]\n"
     ]
    },
    {
     "name": "stdout",
     "output_type": "stream",
     "text": [
      "The people they are torturing are a global threat its not out of patriotism that Im trying to justify this for the sake of protecting good old murica.\n"
     ]
    },
    {
     "name": "stderr",
     "output_type": "stream",
     "text": [
      "INFO:elastic_transport.transport:POST http://localhost:9200/news_cc/_search [status:200 duration:0.102s]\n",
      "INFO:elastic_transport.transport:POST http://localhost:9200/news_cc/_search [status:200 duration:0.012s]\n"
     ]
    },
    {
     "name": "stdout",
     "output_type": "stream",
     "text": [
      "I think the main argument against me would be that theres a chance that some of these people may be innocent.\n"
     ]
    },
    {
     "name": "stderr",
     "output_type": "stream",
     "text": [
      "INFO:elastic_transport.transport:POST http://localhost:9200/news_cc/_search [status:200 duration:0.078s]\n",
      "INFO:elastic_transport.transport:POST http://localhost:9200/news_cc/_search [status:200 duration:0.008s]\n"
     ]
    },
    {
     "name": "stdout",
     "output_type": "stream",
     "text": [
      "But if someone came up to me and said three other people and I need to be tortured because only one of us is a terrorist and its either the four of us or potentially thousands of others I would volunteer in a heartbeat.\n"
     ]
    },
    {
     "name": "stderr",
     "output_type": "stream",
     "text": [
      "INFO:elastic_transport.transport:POST http://localhost:9200/news_cc/_search [status:200 duration:0.059s]\n",
      "INFO:elastic_transport.transport:POST http://localhost:9200/news_cc/_search [status:200 duration:0.015s]\n"
     ]
    },
    {
     "name": "stdout",
     "output_type": "stream",
     "text": [
      "I am already well aware the government spends billions of dollars on military related things that the public has no idea about and Im okay with that because I understand that those are keeping us safe.I think my overall opinion is that its good to be a good person and cooperate with people but you also have to understand there are people who you cant negotiate with and you just have to kill or torture them.\n"
     ]
    },
    {
     "name": "stderr",
     "output_type": "stream",
     "text": [
      "INFO:elastic_transport.transport:POST http://localhost:9200/news_cc/_search [status:200 duration:0.090s]\n",
      "INFO:elastic_transport.transport:POST http://localhost:9200/news_cc/_search [status:200 duration:0.015s]\n"
     ]
    }
   ],
   "source": [
    "from utils.keyphrase_extraction import extract_keyphrase\n",
    "# from keyphrase_vectorizers import KeyphraseCountVectorizer\n",
    "\n",
    "import random\n",
    "import re\n",
    "\n",
    "_ = random.randint(0, 1000)\n",
    "print(_)\n",
    "\n",
    "arg = data[_][\"arguments\"]\n",
    "print(arg)\n",
    "\n",
    "# def to_sentences(text):\n",
    "#     sents = [i for i in re.split(r'(?<!\\w\\.\\w.)(?<![A-Z][a-z]\\.)(?<=\\.|\\?)\\s', text)]\n",
    "#     return sents\n",
    "\n",
    "# sentences = to_sentences(arg)\n",
    "sentences = re.split(r'(?<!\\w\\.\\w.)(?<![A-Z][a-z]\\.)(?<=\\.|\\?)\\s', arg)\n",
    "\n",
    "len(sentences)\n",
    "\n",
    "queries = []\n",
    "results = []\n",
    "\n",
    "for sent in sentences:\n",
    "    print(sent)\n",
    "\n",
    "    if len(sent) < 5:\n",
    "        continue\n",
    "\n",
    "    kp = extract_keyphrase(sent, n_kp=3)\n",
    "    query = \", \".join(i for i in kp)\n",
    "    \n",
    "    # TODOs: Re-init DB with smaller passage size\n",
    "    titles = [i[\"_source\"][\"document\"][\"title\"] for i in news_db.search(query_=query, k=10)]\n",
    "    evidence = [i[\"_source\"][\"document\"][\"text\"] for i in news_db.search(query_=query, k=10)]\n",
    "\n",
    "    results.append({\n",
    "        \"argument_sentence\": sent, \n",
    "        \"retrieved_documents_titles\": titles,\n",
    "        \"query\": query,\n",
    "        \"retrieved_evidence\": evidence\n",
    "    })"
   ]
  },
  {
   "cell_type": "code",
   "execution_count": 158,
   "metadata": {},
   "outputs": [
    {
     "data": {
      "text/plain": [
       "[('Recently in the news the C.I.A. and Bush administration have been under a lot of heat for torturing prisoners.',\n",
       "  'prisoners, bush administration, heat',\n",
       "  'Bush had just been elected after a long run as Ronald Reagan’s vice president. For the most part, I listened very little to what the Bush administration had to say in those days. I confess I wasn’t a supporter of his outlook or his economic priorities, which didn’t seem to match with the abject poverty I saw around me at the time in then-rural West Florida and the poor governance in environmental safety. But that afternoon, dogged by the sweltering heat of a humid Florida drought, this particular news bite caught my attention: Americans’ wages were too high. They were unsustainable in the current economy., Bush administration did not reinstate them. During the Obama administration, opponents of Planned Parenthood funding sought legislation to cut it off. Their tactic made sense given the liberalism of the administration. Executive action gradually fell off the agenda, and even many anti-abortion activists are unaware of the Reagan-Bush history. During the presidential primaries, though, Jeb Bush proposed reinstating the old regulations., Bush administration was delayed by the Florida recount vote. (Bush’s first OMB director was confirmed Jan. 23, and Bush picked a deputy director on Feb. 6.)“Typically, during the first year of any incoming president, there’s an understanding that they’ll take a little more time,” said Trent Duffy, who led communications for OMB during the early years of the Bush administration. Authors:, The first $100 billion dollar deficit happened during the Reagan administration; the first $400 billion during Bush 41; and the first $1 trillion deficit during the Bush 43 administration. It seems the only time Republicans care about deficits is when a Democrat is president. Another area where Republicans say one thing then do another is the size of government. The largest expansion of the federal government since LBJ happened under Bush 43 with a totally new department and a new entitlement program. The federal workforce expanded by more than 1 million during the Reagan administration., And therefore, it was not safe to appoint people who just happen to be Republicans. Why the Bush administration would appoint anyone who was a veteran of the George W. Bush administration is a mystery to me. They have a different philosophy than we do. Donald Trump is a non-interventionist., Paramilitary prisoners in Northern Ireland have not received appropriate development and resettlement services, an inspection said. Maghaberry Prison governor David Kennedy has said full and productive days were crucial to rehabilitating inmates. Criminal Justice Inspection Northern Ireland (CJI) published a report on Thursday on resettlement. It said: “It remained unsatisfactory that the separated prisoners did not receive appropriate prisoner development and resettlement services, although CJI recognised that this matter was unlikely to be fully resolved in the absence of a functioning Northern Ireland Assembly and justice minister.”Following protests in 2003, the then government commissioned a review of the conditions in the prison which concluded that separation was necessary to protect paramilitary prisoners from opposing factions, from each other and to protect ordinary prisoners from the paramilitaries. A special regime was established in Bush and Roe Houses in Maghaberry., Paramilitary prisoners in Northern Ireland have not received appropriate development and resettlement services, an inspection said. Maghaberry Prison governor David Kennedy has said full and productive days were crucial to rehabilitating inmates. Criminal Justice Inspection Northern Ireland (CJI) published a report on Thursday on resettlement. It said: “It remained unsatisfactory that the separated prisoners did not receive appropriate prisoner development and resettlement services, although CJI recognised that this matter was unlikely to be fully resolved in the absence of a functioning Northern Ireland Assembly and justice minister.”Following protests in 2003, the then government commissioned a review of the conditions in the prison which concluded that separation was necessary to protect paramilitary prisoners from opposing factions, from each other and to protect ordinary prisoners from the paramilitaries. A special regime was established in Bush and Roe Houses in Maghaberry., Paramilitary prisoners in Northern Ireland have not received appropriate development and resettlement services, an inspection said. Maghaberry Prison governor David Kennedy has said full and productive days were crucial to rehabilitating inmates. Criminal Justice Inspection Northern Ireland (CJI) published a report on Thursday on resettlement. It said: “It remained unsatisfactory that the separated prisoners did not receive appropriate prisoner development and resettlement services, although CJI recognised that this matter was unlikely to be fully resolved in the absence of a functioning Northern Ireland Assembly and justice minister.”Following protests in 2003, the then government commissioned a review of the conditions in the prison which concluded that separation was necessary to protect paramilitary prisoners from opposing factions, from each other and to protect ordinary prisoners from the paramilitaries. A special regime was established in Bush and Roe Houses in Maghaberry., Bush, eventually served in the Bush administration on international Treasury matters. He later served under President George W. Bush as Treasury undersecretary for domestic finance, a position he held for about a year. Most recently, Quarles started his own investment firm, The Cynosure Group. For many years, he worked at the Bush-linked private-equity powerhouse Carlyle Group., Bush “took a bold stand against anti-Muslim bigotry” by delivering a speech at the Islamic Center of Washington, D.C. in 2001, days after the September 11 attacks. It’s almost incomprehensible how one could look back with longing at an administration, which so blatantly targeted Muslims. Yet, in every instance that Trump or members of his administration target Muslims, the reanimated corpse of the Bush presidency is forced into the public arena again, and a parade of commentators tell a story that is pure fiction about an administration that only exists in their heads. What is it about this short address to a congregation of Muslims in Washington, D.C., that allows one to completely inoculate themselves against an administration responsible for horrific crimes against Muslims? Bush oversaw years of brutal torture and war crimes, the detention of hundreds of Muslims, and inaugurated the covert Controlled Application Review and Resolution Program (CAARP), which led the barring of Muslims from immigration benefits and their placement on a “Terror Watch List.” Nevertheless, Bush has managed to rebrand himself into Bush the Painter, the endearing grandfather figure.'),\n",
       " ('In the grand scheme of things what are a few lives compared to the safety of thousands of others.',\n",
       "  'few lives, safety, thousands',\n",
       "  \"Leon Guerrero said the agency is responsible for transporting thousands of public and private school students, and workers operate and maintain heavy equipment and oversee building and road safety. “(I)t’s absolutely essential that you have your wits about you because ... you’re risking lives.” Gov. Eddie Calvo“Safety has to be a priority and anything that (compromises) our employees’ ability cannot be tolerated,” Leon Guerrero stated in the release. “Our agencies have a mission to accomplish,' Gov., SULLIVAN: The country he lives in now as a guest denies him too, though he is one of the more fortunate. He lives in one of two government-registered camps here. And that's important. Having a card issued by the United Nations High Commissioner for Refugees, recognized by the government, offers a measure of safety denied to hundreds of thousands of other Rohingya who are here illegally in makeshift camps. MUHAMMAD: There are many peoples, they can't move area because they haven't any document., SULLIVAN: The country he lives in now as a guest denies him too, though he is one of the more fortunate. He lives in one of two government-registered camps here. And that's important. Having a card issued by the United Nations High Commissioner for Refugees, recognized by the government, offers a measure of safety denied to hundreds of thousands of other Rohingya who are here illegally in makeshift camps. MUHAMMAD: There are many peoples, they can't move area because they haven't any document., SULLIVAN: The country he lives in now as a guest denies him too, though he is one of the more fortunate. He lives in one of two government-registered camps here. And that's important. Having a card issued by the United Nations High Commissioner for Refugees, recognized by the government, offers a measure of safety denied to hundreds of thousands of other Rohingya who are here illegally in makeshift camps. MUHAMMAD: There are many peoples, they can't move area because they haven't any document., SULLIVAN: The country he lives in now as a guest denies him too, though he is one of the more fortunate. He lives in one of two government-registered camps here. And that's important. Having a card issued by the United Nations High Commissioner for Refugees, recognized by the government, offers a measure of safety denied to hundreds of thousands of other Rohingya who are here illegally in makeshift camps. MUHAMMAD: There are many peoples, they can't move area because they haven't any document., “This is a generational struggle. This is not something that is going to be won in a few years. We’re not going to take a hill, plant a flag and go home to a victory parade,” he said. Also President Donald Trump has termed the conflict “a complete and total disaster” and encouraged the US to “get out of Afghanistan. We’ve wasted billions and billions of dollars and more importantly thousands of thousands of lives., 'These are folks who have been through an enormous amount in their lives. They've waited 10 years for their day in court,' Osen said. In a statement issued in January, Switzerland-based Chiquita said its only motivation in paying FARC was protecting its own employees from violence. 'We have been clear that, at all times, the company prioritized the safety of its employees and their families, and acted accordingly,' the statement said. FARC and other paramilitary groups were engaged in a decades-long civil war in Colombia that took thousands of lives., 'These are folks who have been through an enormous amount in their lives. They've waited 10 years for their day in court,' Osen said. In a statement issued in January, Switzerland-based Chiquita said its only motivation in paying FARC was protecting its own employees from violence. 'We have been clear that, at all times, the company prioritized the safety of its employees and their families, and acted accordingly,' the statement said. FARC and other paramilitary groups were engaged in a decades-long civil war in Colombia that took thousands of lives., Advertisement'These are folks who have been through an enormous amount in their lives. They've waited 10 years for their day in court,' Osen said. In a statement issued in January, Switzerland-based Chiquita said its only motivation in paying FARC was protecting its own employees from violence. 'We have been clear that, at all times, the company prioritized the safety of its employees and their families, and acted accordingly,' the statement said. FARC and other paramilitary groups were engaged in a decades-long civil war in Colombia that took thousands of lives., 'These are folks who have been through an enormous amount in their lives. They've waited 10 years for their day in court,' Osen said. In a statement issued in January, Switzerland-based Chiquita said its only motivation in paying FARC was protecting its own employees from violence. 'We have been clear that, at all times, the company prioritized the safety of its employees and their families, and acted accordingly,' the statement said. FARC and other paramilitary groups were engaged in a decades-long civil war in Colombia that took thousands of lives.\"),\n",
       " ('The people they are torturing are a global threat its not out of patriotism that Im trying to justify this for the sake of protecting good old murica.',\n",
       "  'patriotism, global threat, good old murica',\n",
       "  \"'I can't live with that.'Patriotism is not always tinder for argument. It can be the necessary glue keeping a country together, especially in times of national threat. Aside from benefits to the country, though, social philosopher John Kleinig argues in 'The Ethics of Patriotism: A Debate' that patriotism may be just as essential to individuals as to the country. The concepts of patriotism become 'part of the identity we acquire and for which we develop loyal obligations,' he writes. 'It is important for our identity.'AdvertisementSummers are studded with opportunities to honor those obligations: Memorial Day, Flag Day, Independence Day, Labor Day., She is spot on about this. Labour’s affluent, liberal, middle-class wing tends to find the displays of patriotism during World Cups disturbing, even a tad repellent. As good global citizens and staunch opponents of nationalism they would never dream of driving around with an England flag on their car or draping one out of their bedroom window. They are fond of other countries but not their own. Labour’s affluent, liberal wing tends to find displays of patriotism in \\u200bWorld \\u200b\\u200bCups disturbing, even a tad repellentBut, as George Orwell once said, you can be a patriot without being a nationalist., 'I've always felt that I'm very patriotic, but it's hard to feel proud of the country right now,' says Cindy Casterline, a retired nurse in Skowhegan, Maine. 'Do you see those little children in cages?' she asks of immigrant children removed from their parents. 'I can't live with that.'Patriotism is not always tinder for argument. It can be the necessary glue keeping a country together, especially in times of national threat. Aside from benefits to the country, though, social philosopher John Kleinig argues in 'The Ethics of Patriotism: A Debate' that patriotism may be just as essential to individuals as to the country., I see the decision by the NFL as an unmistakable attempt to police the actions of its majority black work force, impose what amounts to a loyalty oath, and enforce through intimidation and threat a narrow definition of patriotism. The message is clear: Either demonstrate unqualified devotion to the United States or be punished. African-Americans confronted the same stark choice during World War I. In previous conflicts, African-Americans had sacrificed and shed blood for the nation. But patriotism alone has never been enough to overcome white supremacy., I see the decision by the NFL as an unmistakable attempt to police the actions of its majority black work force, impose what amounts to a loyalty oath, and enforce through intimidation and threat a narrow definition of patriotism. The message is clear: Either demonstrate unqualified devotion to the United States or be punished. African-Americans confronted the same stark choice during World War I. In previous conflicts, African-Americans had sacrificed and shed blood for the nation. But patriotism alone has never been enough to overcome white supremacy., To determine what factors to evaluate, WalletHub asked a panel of experts a series of questions, ranging from what characteristics make a good patriot and what are the top five indicators to should children be raised as global citizens or Americans first and what schools and local authorities should do to promote patriotism among citizens. WalletHub bills itself as the first website to offer free, daily updated, full credit reports. Written by: Editor on July 3, 2018. Commentscomments None, Similar to just about anywhere, a lot of people are great and a lot of people are awful in TO. I don't think Americans are geneally ruder than us. Canada's just has a reputation for being polite and our politics are less fucked up than in 'Murica. Edited at 2017-10-06 08:48 pm (UTC) ReplyParentThreadLinklol maybe that's why everyone always says most torontonians are the worst? i've never been but i went to ottawa as a kid and everyone seemed nice., To date CFCs levels in the atmosphere have stabilized or declined. The ozone layer is in the healing process. Our nation and the world need a unified commitment, much like our effort during WWII. Our nation came together under that world threat; everyone sacrificed for each other and the greater good. Global warming is an even greater threat - just not as obvious, yet., But are traders being too blase? Looking at some of the red tops, you would think we are on the brink of World War Three. The markets analyse rationally, without bias or patriotism, and the odds of a global conflict are slim. Gold is the big indicator of fear and it is lower now than when Mr Trump came to power. It was a surprise how little the market moved when Mr Trump attacked Syria, which suggests there may be something else at play compared with the old days., The markets analyse rationally, without bias or patriotism, and the odds of a global conflict are slim. Gold is the big indicator of fear and it is lower now than when Mr Trump came to power. It was a surprise how little the market moved when Mr Trump attacked Syria, which suggests there may be something else at play compared with the old days. In the past, we would have had a bigger market reaction to such a geopolitical event. I think technology in the market now plays a big part.\"),\n",
       " ('I think the main argument against me would be that theres a chance that some of these people may be innocent.',\n",
       "  'main argument, chance, people',\n",
       "  'In the opinion piece “Say Goodbye to Netflix and Net Neutrality” published Nov. 27, the argument is put forth that everyone should have “free” access to virtually whatever they want on the internet and that the government should ensure this. The argument fails badly for one main reason: All goods and services that people value and consume – including internet access and content – have to be created by people. They require capital and labor for their production. The claim that any of those should be “free” is the claim that one should not have to pay for something on the internet produced by others., I believe we also need a clear message to the people of Europe, so that they will agree.’Your proposals emphasise sustainability, job creation, fighting inequalities and support to democracy. Could you explain the importance of these elements in research and innovation? ‘In research and innovation policy there is not only an argument for jobs, but also the argument that it is good to live in a united Europe with these values. ‘Young people must see they have a chance to work, have good education, to have good vocational or academic jobs. And we need to make sure there is a chance for more new jobs in new start-ups, in new small and medium enterprises, in new industries and in a new innovation system., ‘In research and innovation policy there is not only an argument for jobs, but also the argument that it is good to live in a united Europe with these values. ‘Young people must see they have a chance to work, have good education, to have good vocational or academic jobs. And we need to make sure there is a chance for more new jobs in new start-ups, in new small and medium enterprises, in new industries and in a new innovation system. If we do that, we will see great acceptance among European Union citizens. They will accept new things, not fear them., You have to listen to the music. So of the 14,000 voters, they listen, they make up their minds, and then they vote. To further make his case, Portnow pointed to Chance the Rapper’s Best New Artist win as proof of the Academy’s diversity: “You don’t get Chance the Rapper as the Best New Artist of the year if you have a membership that isn’t diverse and isn’t open-minded and isn’t really listening to the music.” Portnow omits Chance is just one of five to win it since 1999. Lauryn Hill’s The Miseducation of Lauryn Hill won Album of the Year in 1999, the last time that award was won by a black woman. Portnow’s main argument is the Academy’s size means it is diverse., But they disagree with him on many of his policies, see the list above of things they support I agree with and which Donald Trump by and large disagrees with. What this represents is something that MacLean is clearly unaware of but which is important, that there is a major split within the Austrian School of Economics and among libertarians themselves, with the public choice people really on the side of all this, something that makes her main argument all the more ridiculous. This is the split between the Rothardian-Misesians and the Hayekians. The former, more influenced by the late Murray Rothbard than by von Mises really, have their great base at the Ludwig von Mises Institute (LvMI) in Auburn, Alabama, whereas the latter pretty much have their main HQ these days at George Mason University, precisely the crowd that MacLean has her story end up with. These former are much more inclined to Trumpian views on race and immigration in particular, and they actually fit her main argument much better, also defending neo-Confederate “Paleo-Conservative” ideas., We have so much more where that comes from.”There are, however, a few issues with Ru’s argument here. Well, two main ones really: the terms ‘straight pop culture’ and ‘gay culture’. They’re not phrases that sit particularly well with some people. Specifically, people like Dr Justin Bengry, lecturer at Goldsmiths, University of London and convenor of the first Masters course in queer history. Bengry argues that the terms oversimplify, implying each person should subscribe to one or the other., We have so much more where that comes from.”There are, however, a few issues with Ru’s argument here. Well, two main ones really: the terms ‘straight pop culture’ and ‘gay culture’. They’re not phrases that sit particularly well with some people. Specifically, people like Dr Justin Bengry, lecturer at Goldsmiths, University of London and convenor of the first Masters course in queer history. Bengry argues that the terms oversimplify, implying each person should subscribe to one or the other., Generally, Medicare pays to rent oxygen equipment from a qualified supplier under a 36-month contract. The details: Medicare, however, only pays for a person’s “main” source of oxygen. So people are usually prescribed the oxygen tanks unless they advocate that their mobility requires them to have a portable concentrator as their main source. So, speaking up and making an argument for mobility from the outset may be a good idea if you don’t want to be tethered to the tanks. The National Fire Protection Association also has some tips on handling medical oxygen in the home., To further make his case, Portnow pointed to Chance the Rapper’s Best New Artist win as proof of the Academy’s diversity: “You don’t get Chance the Rapper as the Best New Artist of the year if you have a membership that isn’t diverse and isn’t open-minded and isn’t really listening to the music.” Portnow omits Chance is just one of five to win it since 1999. Lauryn Hill’s The Miseducation of Lauryn Hill won Album of the Year in 1999, the last time that award was won by a black woman. Portnow’s main argument is the Academy’s size means it is diverse. But the Academy does not release the exact demographics of its voter base, nor does it seem like it’s planning to, and one must wonder if the data really would back up his claim. None, “You have to find facts and data that bolster the argument too. So the stories are important because they hook people in, but you also have to be able to make a logical argument.”Bostock also emphasized that his job requires him to understand the personality of the person he’s writing for. “The only way I can really give somebody a talk they’re comfortable with is if I have the chance to get to know them, and to really get to know their voice,” he said. The panelists also shared stories of speeches they helped politicians with. A former speechwriter for former Gov.'),\n",
       " ('But if someone came up to me and said three other people and I need to be tortured because only one of us is a terrorist and its either the four of us or potentially thousands of others I would volunteer in a heartbeat.',\n",
       "  'terrorist, other people, someone',\n",
       "  \"Felicia Correa said Sunday that her friend Heather Heyer died standing up for people of color. Correa says Heyer and other counterprotesters put their lives on the line to confront hateful bigotry. She says she doesn’t see the difference between Heyer or someone who died in the Sept. 11 attacks. She says the vehicle that plowed into a group of peaceful protesters was a terrorist attack as well., Felicia Correa said Sunday that her friend Heather Heyer died standing up for people of color. Correa says Heyer and other counter protesters put their lives on the line to confront hateful bigotry. She says she doesn’t see the difference between Heyer or someone who died in the Sept. 11 attacks. She says the vehicle that plowed into a group of peaceful protesters was a terrorist attack as well., Watch the ACT film to learn moreWhat could potentially be terrorist-relates suspicious activity or behaviour? ResearchMeetings, training and planning can take place anywhere. Do you know someone who travels but is vague about where they’re going? Do you know someone with passports or other documents in different names, for no obvious reason? Do you know someone who looks at extremist material, including on the so-called Dark Web, or shares and creates content that promotes or glorifies terrorism?, The outburst came in response to a no-confidence motion proposed by the Joint List entitled “The government promotes a policy based on war crimes.”Liberman, who is also chairman of the Yisrael Beytenu party said: “Every day in the Middle East, about 400 people are murdered in Arab countries, nearly one thousand wounded. In Yemen, 160 people a day are murdered. Does someone care? Look at how many terrorist attacks there are every day. Does someone talk about war crimes?, “I asked the General, which group did he think the mother of the terrorist, who supports him, belonged to?” said Tamar Amar, adding, “But he did not answer, he just gave me a look that we here call the Gush Katif look, which he gave every time someone raised a difficult question.”The residents say that Numa’s division of the Arabs into groups has become a joke in the community, with people asking each other, “Which group are you in today?”“After all, a terrorist who committed a terror attack while working in a supermarket belonged to the indifferent group and then, in two minutes, he jumped up two groups to the violents,” Amar said. “It’s a joke. One of the teachers from the village asked the General how did they allow the terrorist to cross groups without a test? You sit in front of a serious person and you do not believe that he really means what is coming out of his mouth.” None, Listening to members of communities, friends and families who might be in a better position to identify a radicalised or extremist individual is also of some value but it is inevitable that some people will slip through the net. How many times have we witnessed an act of terrorist atrocity for those close to the terrorist to be genuinely shocked that someone they knew and were close to could be capable of performing such an act of evil? Predicting human behaviour is not an accurate science. If we cannot predict who will commit an act of terrorism we cannot prevent them from doing it. We cannot imprison people simply because we believe they might commit a crime., “But we need your help to exploit these opportunities, so if you see or hear something unusual or suspicious trust your instincts and ACT by reporting it in confidence by phone or online. “That could be someone buying or storing chemicals, fertilisers or gas cylinders for no obvious reasons, or receiving deliveries for unusual items. It could be someone embracing extremist ideology, or searching for such material online. “This new film has been made to try and help people understand recent terrorist attack-planning methods, but also to demonstrate that each report from the public can be one vital piece of a much larger picture. “The important thing for people to remember is that no report is a waste of our time - trust your instincts and tell us if something doesn’t feel right.”Detective Superintendent Glen Channer, head of counter terrorism for the Eastern Region Special Operations Unit (ERSOU), said: “Everyone has a role to play in helping to prevent terrorist attacks and we are fully supporting of this national campaign which aims to encourage people to report any suspicious behaviour., Don't use your people's lives to please Buhari ooo... 1 LikeYet their problem is Biafra 7 LikesHerdsmen they are terrorist. The nigerian army has refused to label them as terrorist. Because our presido is a fulani. 3 LikesI cnt comprehend what these peoples plans are,hw can u rape someone of such age nawa ooo seriouslyI cnt comprehend what these peoples plans are,hw can u rape someone of such age nawa ooo 1 LikeThem sw folks won't say anything because of their personal and political interest., Terrorist attacks, by their nature, come without warning and can happen anywhere. When they do happen the police are going to be preoccupied with stopping the bad guys, which means someone has to come to the aid of the victims. And that someone may be you. CBS’s Rylee Carlson witnessed a demonstration in Birmingham, England and spoke with one of the people behind the app. “We have to empower the public with skills and knowledge to be able to act in the first few minutes,” Dr. Tim Hodgetts explained., Does someone care? Look at how many terrorist attacks there are every day. Does someone talk about war crimes? Those who are sitting here, they are war criminals. The whole Joint List is [made up of] war criminals.”This caused some Joint List MKs to walk out.\"),\n",
       " ('I am already well aware the government spends billions of dollars on military related things that the public has no idea about and Im okay with that because I understand that those are keeping us safe.I think my overall opinion is that its good to be a good person and cooperate with people but you also have to understand there are people who you cant negotiate with and you just have to kill or torture them.',\n",
       "  'overall opinion, government, good person',\n",
       "  \"“His ideas are very fixed and clear. I have seen the sort of person he is. He has his own opinion and that will not change. I respect him as a great coach. He has done a good job and I can see that, but as a person, no., Respecting other people’s opinions, views, rights, and disposition also shows that one is well mannered and that one shows respect for that person as well. If someone has a different opinion than yours and you reply with “I understand and respect your opinion” rather than replying with your opinion and why it is right and why they are wrong, the person who has a different opinion than you will respect you in return. I have for most of my short life believed in respecting people. And by that I am saying that one should treat other people as one would like to be treated. One should expect them to be as good as oneself, as smart as oneself, as caring and so forth., ‘His ideas are very fixed and clear,’ Costa said of Conte. ‘I have seen the sort of person he is. He has his own opinion and that will not change. ‘I respect him as a great coach. He has done a good job and I can see that, but as a person, no., 'His ideas are very fixed and clear,' Costa said of Conte. 'I have seen the sort of person he is. He has his own opinion and that will not change. 'I respect him as a great coach. He has done a good job and I can see that, but as a person, no., He asked for that to happen.”“His ideas are very fixed and clear. I have seen the sort of person he is. He has his own opinion and that will not change. I respect him as a great coach. He has done a good job and I can see that, but as a person, no., “I have seen the sort of person he is. He has his own opinion and that will not change. “I respect him as a great coach. He has done a good job and I can see that, but as a person, no. He is not a coach who is very close with his players., I have seen the sort of person he is. He has his own opinion and that will not change. 'I respect him as a great coach. He has done a good job and I can see that, but as a person, no. He is not a coach who is very close with his players., I have seen the sort of person he is. He has his own opinion and that will not change. I respect him as a great coach. He has done a good job and I can see that, but as a person, no. He is not a coach who is very close with his players., I have seen the sort of person he is. He has his own opinion and that will not change. I respect him as a great coach. He has done a good job and I can see that, but as a person, no. He is not a coach who is very close with his players., I have seen the sort of person he is. He has his own opinion and that will not change. I respect him as a great coach. He has done a good job and I can see that, but as a person, no. He is not a coach who is very close with his players.\")]"
      ]
     },
     "execution_count": 158,
     "metadata": {},
     "output_type": "execute_result"
    }
   ],
   "source": [
    "### MERGE ###\n",
    "\n",
    "# Results == a list of counter-evidence articles per sentence\n",
    "\n",
    "merged = []\n",
    "for counter_ev in results:\n",
    "    sentence = counter_ev[\"argument_sentence\"]\n",
    "    evidence = counter_ev[\"retrieved_evidence\"]\n",
    "    sent_kp = counter_ev[\"query\"]\n",
    "\n",
    "    merged_ev = \", \".join(retrieved for retrieved in evidence)\n",
    "\n",
    "    merged.append((sentence, sent_kp, merged_ev))\n",
    "\n",
    "merged"
   ]
  },
  {
   "cell_type": "code",
   "execution_count": 157,
   "metadata": {},
   "outputs": [
    {
     "data": {
      "text/plain": [
       "6"
      ]
     },
     "execution_count": 157,
     "metadata": {},
     "output_type": "execute_result"
    }
   ],
   "source": [
    "### PASSAGE RANKING : KEYWORD OVERLAP ###\n",
    "\n",
    "test = merged[2]\n",
    "test\n",
    "sent, kp, merge = test\n",
    "\n",
    "sent, sent_kp"
   ]
  },
  {
   "cell_type": "code",
   "execution_count": 172,
   "metadata": {},
   "outputs": [
    {
     "name": "stdout",
     "output_type": "stream",
     "text": [
      "40\n",
      "I am already well aware the government spends billions of dollars on military related things that the public has no idea about and Im okay with that because I understand that those are keeping us safe.I think my overall opinion is that its good to be a good person and cooperate with people but you also have to understand there are people who you cant negotiate with and you just have to kill or torture them.\n",
      "\n"
     ]
    },
    {
     "data": {
      "text/plain": [
       "41"
      ]
     },
     "execution_count": 172,
     "metadata": {},
     "output_type": "execute_result"
    }
   ],
   "source": [
    "merged_sentences = to_sentences(merge)\n",
    "print(len(merged_sentences))\n",
    "print(sentence)\n",
    "# print(sent_kp)\n",
    "print(\"\")\n",
    "\n",
    "# TODOs: Improve Scoring Function for whole vs partial keyphrase match\n",
    "test = [\"overall\", \"some opinion\", \"distinction\", \"elevator\"]\n",
    "#print(sent_kp.lower().split())\n",
    "\n",
    "def overlap_score(evidence_kp, adu_kp):\n",
    "    score = 0\n",
    "    # Split Keyphrase into components, scoring partial units as overlap\n",
    "    for i in evidence_kp:\n",
    "        for j in i.split():\n",
    "            if adu_kp.find(j) != -1: score += 1\n",
    "            \n",
    "            else: continue\n",
    "    \n",
    "    return score\n",
    "\n",
    "# TODOs: Speed-up, Parrelleise, Yield\n",
    "sentence_scores = []\n",
    "for sent, sent_kp, evidence in merged[0:1]:\n",
    "    sent_overlap_score = 0\n",
    "    \n",
    "    evidence_sentences = re.split(r'(?<!\\w\\.\\w.)(?<![A-Z][a-z]\\.)(?<=\\.|\\?)\\s', evidence)\n",
    "\n",
    "    for ev_sent in evidence_sentences:\n",
    "        evidence_kp = extract_keyphrase(ev_sent)\n",
    "        sent_overlap_score += overlap_score(evidence_kp, sent_kp)\n",
    "        \n",
    "        sentence_scores.append((ev_sent, sent_overlap_score))\n",
    "    \n",
    "\n",
    "sent_overlap_score\n"
   ]
  },
  {
   "cell_type": "code",
   "execution_count": 173,
   "metadata": {},
   "outputs": [
    {
     "data": {
      "text/plain": [
       "[('Bush oversaw years of brutal torture and war crimes, the detention of hundreds of Muslims, and inaugurated the covert Controlled Application Review and Resolution Program (CAARP), which led the barring of Muslims from immigration benefits and their placement on a “Terror Watch List.” Nevertheless, Bush has managed to rebrand himself into Bush the Painter, the endearing grandfather figure.',\n",
       "  41),\n",
       " ('Yet, in every instance that Trump or members of his administration target Muslims, the reanimated corpse of the Bush presidency is forced into the public arena again, and a parade of commentators tell a story that is pure fiction about an administration that only exists in their heads.',\n",
       "  40),\n",
       " ('What is it about this short address to a congregation of Muslims in Washington, D.C., that allows one to completely inoculate themselves against an administration responsible for horrific crimes against Muslims?',\n",
       "  40),\n",
       " ('It’s almost incomprehensible how one could look back with longing at an administration, which so blatantly targeted Muslims.',\n",
       "  38),\n",
       " ('For many years, he worked at the Bush-linked private-equity powerhouse Carlyle Group., Bush “took a bold stand against anti-Muslim bigotry” by delivering a speech at the Islamic Center of Washington, D.C. in 2001, days after the September 11 attacks.',\n",
       "  37),\n",
       " ('Bush as Treasury undersecretary for domestic finance, a position he held for about a year.',\n",
       "  36),\n",
       " ('Most recently, Quarles started his own investment firm, The Cynosure Group.',\n",
       "  36),\n",
       " ('A special regime was established in Bush and Roe Houses in Maghaberry., Bush, eventually served in the Bush administration on international Treasury matters.',\n",
       "  35),\n",
       " ('He later served under President George W.', 35),\n",
       " ('It said: “It remained unsatisfactory that the separated prisoners did not receive appropriate prisoner development and resettlement services, although CJI recognised that this matter was unlikely to be fully resolved in the absence of a functioning Northern Ireland Assembly and justice minister.”Following protests in 2003, the then government commissioned a review of the conditions in the prison which concluded that separation was necessary to protect paramilitary prisoners from opposing factions, from each other and to protect ordinary prisoners from the paramilitaries.',\n",
       "  32),\n",
       " ('Maghaberry Prison governor David Kennedy has said full and productive days were crucial to rehabilitating inmates.',\n",
       "  30),\n",
       " ('Criminal Justice Inspection Northern Ireland (CJI) published a report on Thursday on resettlement.',\n",
       "  30),\n",
       " ('A special regime was established in Bush and Roe Houses in Maghaberry., Paramilitary prisoners in Northern Ireland have not received appropriate development and resettlement services, an inspection said.',\n",
       "  29),\n",
       " ('It said: “It remained unsatisfactory that the separated prisoners did not receive appropriate prisoner development and resettlement services, although CJI recognised that this matter was unlikely to be fully resolved in the absence of a functioning Northern Ireland Assembly and justice minister.”Following protests in 2003, the then government commissioned a review of the conditions in the prison which concluded that separation was necessary to protect paramilitary prisoners from opposing factions, from each other and to protect ordinary prisoners from the paramilitaries.',\n",
       "  28),\n",
       " ('Maghaberry Prison governor David Kennedy has said full and productive days were crucial to rehabilitating inmates.',\n",
       "  26),\n",
       " ('Criminal Justice Inspection Northern Ireland (CJI) published a report on Thursday on resettlement.',\n",
       "  26),\n",
       " ('A special regime was established in Bush and Roe Houses in Maghaberry., Paramilitary prisoners in Northern Ireland have not received appropriate development and resettlement services, an inspection said.',\n",
       "  25),\n",
       " ('It said: “It remained unsatisfactory that the separated prisoners did not receive appropriate prisoner development and resettlement services, although CJI recognised that this matter was unlikely to be fully resolved in the absence of a functioning Northern Ireland Assembly and justice minister.”Following protests in 2003, the then government commissioned a review of the conditions in the prison which concluded that separation was necessary to protect paramilitary prisoners from opposing factions, from each other and to protect ordinary prisoners from the paramilitaries.',\n",
       "  24),\n",
       " ('Maghaberry Prison governor David Kennedy has said full and productive days were crucial to rehabilitating inmates.',\n",
       "  22),\n",
       " ('Criminal Justice Inspection Northern Ireland (CJI) published a report on Thursday on resettlement.',\n",
       "  22),\n",
       " ('Donald Trump is a non-interventionist., Paramilitary prisoners in Northern Ireland have not received appropriate development and resettlement services, an inspection said.',\n",
       "  21),\n",
       " ('Bush administration is a mystery to me.', 20),\n",
       " ('They have a different philosophy than we do.', 20),\n",
       " ('Why the Bush administration would appoint anyone who was a veteran of the George W.',\n",
       "  18),\n",
       " ('The federal workforce expanded by more than 1 million during the Reagan administration., And therefore, it was not safe to appoint people who just happen to be Republicans.',\n",
       "  16),\n",
       " ('The largest expansion of the federal government since LBJ happened under Bush 43 with a totally new department and a new entitlement program.',\n",
       "  15),\n",
       " ('Authors:, The first $100 billion dollar deficit happened during the Reagan administration; the first $400 billion during Bush 41; and the first $1 trillion deficit during the Bush 43 administration.',\n",
       "  14),\n",
       " ('It seems the only time Republicans care about deficits is when a Democrat is president.',\n",
       "  14),\n",
       " ('Another area where Republicans say one thing then do another is the size of government.',\n",
       "  14),\n",
       " ('6.)“Typically, during the first year of any incoming president, there’s an understanding that they’ll take a little more time,” said Trent Duffy, who led communications for OMB during the early years of the Bush administration.',\n",
       "  13),\n",
       " ('23, and Bush picked a deputy director on Feb.', 11),\n",
       " ('(Bush’s first OMB director was confirmed Jan.', 10),\n",
       " ('During the presidential primaries, though, Jeb Bush proposed reinstating the old regulations., Bush administration was delayed by the Florida recount vote.',\n",
       "  9),\n",
       " ('Executive action gradually fell off the agenda, and even many anti-abortion activists are unaware of the Reagan-Bush history.',\n",
       "  8),\n",
       " ('Their tactic made sense given the liberalism of the administration.', 7),\n",
       " ('During the Obama administration, opponents of Planned Parenthood funding sought legislation to cut it off.',\n",
       "  6),\n",
       " ('They were unsustainable in the current economy., Bush administration did not reinstate them.',\n",
       "  5),\n",
       " ('For the most part, I listened very little to what the Bush administration had to say in those days.',\n",
       "  3),\n",
       " ('I confess I wasn’t a supporter of his outlook or his economic priorities, which didn’t seem to match with the abject poverty I saw around me at the time in then-rural West Florida and the poor governance in environmental safety.',\n",
       "  3),\n",
       " ('But that afternoon, dogged by the sweltering heat of a humid Florida drought, this particular news bite caught my attention: Americans’ wages were too high.',\n",
       "  3),\n",
       " ('Bush had just been elected after a long run as Ronald Reagan’s vice president.',\n",
       "  1)]"
      ]
     },
     "execution_count": 173,
     "metadata": {},
     "output_type": "execute_result"
    }
   ],
   "source": [
    "sentence_scores\n",
    "sentence_scores.sort(key=lambda y: y[1], reverse=True)\n",
    "\n",
    "sentence_scores"
   ]
  },
  {
   "cell_type": "code",
   "execution_count": null,
   "metadata": {},
   "outputs": [],
   "source": [
    "# print(kp)\n",
    "\n",
    "# def count(string, substring):\n",
    "#     n = len(substring)\n",
    "#     cnt = 0\n",
    "#     for i in range(len(string) - n):\n",
    "#         if string[i:i+n] == substring:\n",
    "#             cnt += 1\n",
    "#     return cnt\n",
    "\n",
    "# def hasIntersection(a, b):\n",
    "#         score = 0\n",
    "#         a = set(a) \n",
    "#         b = set(b)\n",
    "#         if a.intersection(b):\n",
    "#             score += 1\n",
    "\n",
    "#         return score\n",
    "\n",
    "# def overlap_score(count_kp):\n",
    "#     score = 0\n",
    "\n",
    "#     for i in count_kp:\n",
    "#         score += count(sent_kps, count_kp)\n",
    "\n",
    "#     return score\n",
    "\n",
    "# scores = []\n",
    "# for sent in merged_sentences:\n",
    "#     if sent:\n",
    "#         # TODOs: Try-Catch, Handel Errors\n",
    "#         kp = [i for i in extract_keyphrase(sent, n_kp=3)]\n",
    "#         scores.append((kp, overlap_score(kp)))\n",
    "\n",
    "# print(sent_kps)\n",
    "# scores"
   ]
  },
  {
   "cell_type": "code",
   "execution_count": 59,
   "metadata": {},
   "outputs": [
    {
     "name": "stdout",
     "output_type": "stream",
     "text": [
      "view, arguments, logic, line\n"
     ]
    }
   ],
   "source": [
    "print(sent_kp)"
   ]
  },
  {
   "cell_type": "code",
   "execution_count": null,
   "metadata": {},
   "outputs": [],
   "source": [
    "### ATTACKING PEMISES ###\n",
    "\n",
    "# from BERT_adu_classifier import predict\n",
    "\n",
    "# premises = []\n",
    "# for sent in sentences:\n",
    "#     prediction = predict(sent)\n",
    "    \n",
    "#     if prediction == \"premise\":\n",
    "#         premises.append(sent)"
   ]
  },
  {
   "cell_type": "code",
   "execution_count": 26,
   "metadata": {},
   "outputs": [
    {
     "name": "stderr",
     "output_type": "stream",
     "text": [
      "INFO:elastic_transport.transport:POST http://localhost:9200/news_cc/_search [status:200 duration:0.367s]\n"
     ]
    },
    {
     "data": {
      "text/plain": [
       "[{'argument_sentence': 'Fuck Islam and Fuck ISIS. We should repatriate all Muslims. They are all a bunch of violent criminals who do not share our values and never will. Without them Britain will be a better, safer place.',\n",
       "  'query': 'fuck isis repatriate muslims',\n",
       "  'retireved_documents': ['‘Assalamu Alaykom:’ peace be upon you',\n",
       "   'How We Got to Here: A Charlottesville Reading List',\n",
       "   'De-radicalization can work for former ISIS fighters',\n",
       "   'How to Get Assyrians to Stay',\n",
       "   'How to Get Christians to Stay']}]"
      ]
     },
     "execution_count": 26,
     "metadata": {},
     "output_type": "execute_result"
    }
   ],
   "source": [
    "# # Argument Level\n",
    "\n",
    "# results = []\n",
    "\n",
    "# _ = 90\n",
    "# hate_ = sample_hate[0][\"conan\"][_][\"hateSpeech\"]\n",
    "\n",
    "# # queries = []\n",
    "# # sentences = re.split(r'(?<!\\w\\.\\w.)(?<![A-Z][a-z]\\.)(?<=\\.|\\?)\\s', hate_)\n",
    "\n",
    "# results = []\n",
    "\n",
    "# # TODOs: Refactor key_BERT as Class for multiple oututs\n",
    "# #kp_ = (exctract_keyphrase(hate_, n_gram=1, n_kp=1), exctract_keyphrase(hate_, n_gram=2, n_kp=1), exctract_keyphrase(hate_, n_gram=3, n_kp=1))\n",
    "\n",
    "# kp_ = (exctract_keyphrase(hate_, n_gram=5, n_kp=1))\n",
    "\n",
    "# query = \" ,\".join(i for i in kp_)\n",
    "# query\n",
    "\n",
    "# res = [i[\"_source\"][\"document\"][\"title\"] for i in news_db.search(query_=query, k=5)]\n",
    "\n",
    "# results.append({\n",
    "#     \"argument_sentence\": hate_, \n",
    "#     \"query\": query, \n",
    "#     \"retireved_documents\": res,\n",
    "\n",
    "# })\n",
    "\n",
    "# results\n"
   ]
  },
  {
   "cell_type": "code",
   "execution_count": 27,
   "metadata": {},
   "outputs": [
    {
     "name": "stderr",
     "output_type": "stream",
     "text": [
      "INFO:elastic_transport.transport:POST http://localhost:9200/knowledge/_search [status:200 duration:0.249s]\n"
     ]
    },
    {
     "data": {
      "text/plain": [
       "[{'argument_sentence': 'Fuck Islam and Fuck ISIS. We should repatriate all Muslims. They are all a bunch of violent criminals who do not share our values and never will. Without them Britain will be a better, safer place.',\n",
       "  'query': 'fuck isis repatriate muslims',\n",
       "  'retireved_documents': ['Refuting ISIS',\n",
       "   'Refuting ISIS',\n",
       "   'Take Off (2017 film)',\n",
       "   'Terrorism in India',\n",
       "   'Tareq Kamleh']}]"
      ]
     },
     "execution_count": 27,
     "metadata": {},
     "output_type": "execute_result"
    }
   ],
   "source": [
    "# results = []\n",
    "# res = [i[\"_source\"][\"document\"][\"title\"] for i in wiki_db.search(query_=query, k=5)]\n",
    "\n",
    "# results.append({\n",
    "#     \"argument_sentence\": hate_, \n",
    "#     \"query\": query, \n",
    "#     \"retireved_documents\": res,\n",
    "\n",
    "# })\n",
    "\n",
    "# results"
   ]
  },
  {
   "cell_type": "code",
   "execution_count": null,
   "metadata": {},
   "outputs": [
    {
     "data": {
      "text/plain": [
       "[{'_index': 'knowledge',\n",
       "  '_id': 'kbZa5YIBRqC1428DaQUk',\n",
       "  '_score': 33.672318,\n",
       "  '_ignored': ['document.text.keyword'],\n",
       "  '_source': {'document': {'id': '3408791',\n",
       "    'source': 'wikipedia',\n",
       "    'title': 'Ruling party',\n",
       "    'text': \"In parliamentary systems, the majority in the legislature also controls the executive branch of government, thus leaving no possibility of opposing parties concurrently occupying the executive and legislative branches of government. In other systems, such as in an American style presidential system, the party of the president does not necessarily also have a legislative majority. A 'ruling party' is also used to describe the party of one-party states, such as the Chinese Communist Party in the People's Republic of China. In his political manifesto 'The Green Book', the late Libyan leader Muammar al-Gaddafi attacked the ability of the ruling party, using it as a basis for his opposition to partisan politics. None\"}}},\n",
       " {'_index': 'knowledge',\n",
       "  '_id': 'JQ3H5YIBRqC1428Dnwum',\n",
       "  '_score': 33.24501,\n",
       "  '_ignored': ['document.text.keyword'],\n",
       "  '_source': {'document': {'id': '8622040',\n",
       "    'source': 'wikipedia',\n",
       "    'title': 'Fusion of powers',\n",
       "    'text': 'Fusion of powers is a feature of some parliamentary forms of government where different branches of government are intermingled, typically the executive and legislative branches. It is contrasted with the separation of powers found in presidential, semi-presidential and dualistic parliamentary forms of government, where the membership of the legislative and executive powers cannot overlap. Fusion of powers exists in many, if not a majority of, parliamentary democracies, and does so by design. However, in all modern democratic polities the judiciary does not possess legislative or executive powers. The system first arose as a result of political evolution in the United Kingdom over many centuries, as the powers of the monarch became constrained by Parliament.'}}},\n",
       " {'_index': 'knowledge',\n",
       "  '_id': 'OUcA5YIBRqC1428D6vvb',\n",
       "  '_score': 32.941406,\n",
       "  '_ignored': ['document.text.keyword'],\n",
       "  '_source': {'document': {'id': '18988566',\n",
       "    'source': 'wikipedia',\n",
       "    'title': 'Student governments in the United States',\n",
       "    'text': 'Structures. Many student governments are structured similarly to the federal government of the United States, consisting of distinct executive, legislative, and judicial branches. These structures often include elements which are not found in the federal government (e.g. legislative veto, programming branches, initiative, recall, referendum). Just like the federal government, these governments have the trappings of a presidential system, with a separation of powers between branches and a presidential veto. This is by far the most common type of structure, and is found in model student government constitutions and by-laws.'}}}]"
      ]
     },
     "execution_count": 10,
     "metadata": {},
     "output_type": "execute_result"
    }
   ],
   "source": [
    "# #queries\n",
    "# query = \"the executive the presidential system legislative branches partisan unproductive\"\n",
    "# res = search_text(wiki_ev, query_=query, k=3)\n",
    "# res"
   ]
  },
  {
   "cell_type": "code",
   "execution_count": null,
   "metadata": {},
   "outputs": [
    {
     "name": "stdout",
     "output_type": "stream",
     "text": [
      "Ruling party, Fusion of powers, Student governments in the United States\n"
     ]
    }
   ],
   "source": [
    "# import re\n",
    "\n",
    "# print(\", \".join(re.sub(r'\\[\\[(?:[^|\\]]*\\|)?([^\\]]*)]]', \"\", i[\"_source\"][\"document\"][\"title\"]).strip(\"[]\") for i in res))"
   ]
  },
  {
   "cell_type": "code",
   "execution_count": null,
   "metadata": {},
   "outputs": [],
   "source": [
    "# ### TEST SEARCH ###\n",
    "\n",
    "# def search_text(es, query_, k=5):\n",
    "#     results = es.search(\n",
    "#         index = es.elastic_index,\n",
    "#         query = {\n",
    "#             \"match\": {\n",
    "#                 \"document.text\": query_,\n",
    "#                 },\n",
    "#         },\n",
    "#         size=k)\n",
    "\n",
    "#     hits = results[\"hits\"][\"hits\"]\n",
    "#     doc_ids = [row['_source'][\"document\"][\"id\"] for row in hits]\n",
    "\n",
    "#     return hits\n",
    "\n",
    "# def search_topic(es, topic, k=5):\n",
    "#     results = es.search(\n",
    "#         index = es.elastic_index,\n",
    "#         body= {\n",
    "#             \"size\": k,\n",
    "#             \"query\": {\n",
    "#                 \"match\": {\n",
    "#                     \"document.title\": topic,\n",
    "#         }}})\n",
    "\n",
    "#     hits = results[\"hits\"][\"hits\"]\n",
    "#     doc_ids = [row['_source'][\"document\"][\"id\"] for row in hits]\n",
    "\n",
    "#     title = hits[0][\"_source\"][\"document\"][\"title\"]\n",
    "#     text = hits[0][\"_source\"][\"document\"][\"text\"]\n",
    "\n",
    "#     return {\n",
    "#         \"title\": title,\n",
    "#         \"text\": text\n",
    "#     }\n",
    "\n",
    "# query = \"government emails\"\n",
    "# text = search_text(wiki_ev, query_=query, k=10)\n",
    "\n",
    "# print(text)\n"
   ]
  },
  {
   "cell_type": "code",
   "execution_count": null,
   "metadata": {},
   "outputs": [],
   "source": [
    "### SEARCH FUNCTION ###\n",
    "\n",
    "# TODOs: Implement as Class-DB object\n",
    "\n",
    "# def search_text(db, query_, k=5):\n",
    "#     results = db.search(\n",
    "#         index = es.elastic_index,\n",
    "#         query = {\n",
    "#             \"match\": {\n",
    "#                 \"document.text\": query_,\n",
    "#                 },\n",
    "#         },\n",
    "#         size=k)\n",
    "\n",
    "#     hits = results[\"hits\"][\"hits\"]\n",
    "#     doc_ids = [row['_source'][\"document\"][\"id\"] for row in hits]\n",
    "\n",
    "#     return hits"
   ]
  }
 ],
 "metadata": {
  "kernelspec": {
   "display_name": "Python 3.10.6 ('venv': venv)",
   "language": "python",
   "name": "python3"
  },
  "language_info": {
   "codemirror_mode": {
    "name": "ipython",
    "version": 3
   },
   "file_extension": ".py",
   "mimetype": "text/x-python",
   "name": "python",
   "nbconvert_exporter": "python",
   "pygments_lexer": "ipython3",
   "version": "3.10.6"
  },
  "orig_nbformat": 4,
  "vscode": {
   "interpreter": {
    "hash": "1b747fec5972a5a28202124dfae2950631b4721a6e18efe99aaae23c73408484"
   }
  }
 },
 "nbformat": 4,
 "nbformat_minor": 2
}
